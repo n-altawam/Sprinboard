{
 "cells": [
  {
   "cell_type": "code",
   "execution_count": 1,
   "metadata": {},
   "outputs": [],
   "source": [
    "import pandas as pd\n",
    "import numpy as np\n",
    "import matplotlib.pyplot as plt\n",
    "import seaborn as sns\n",
    "from sklearn.model_selection import GridSearchCV, train_test_split\n",
    "from sklearn.ensemble import RandomForestRegressor\n",
    "from sklearn.metrics import r2_score, mean_squared_error, mean_absolute_error"
   ]
  },
  {
   "cell_type": "code",
   "execution_count": 2,
   "metadata": {},
   "outputs": [
    {
     "data": {
      "text/html": [
       "<div>\n",
       "<style scoped>\n",
       "    .dataframe tbody tr th:only-of-type {\n",
       "        vertical-align: middle;\n",
       "    }\n",
       "\n",
       "    .dataframe tbody tr th {\n",
       "        vertical-align: top;\n",
       "    }\n",
       "\n",
       "    .dataframe thead th {\n",
       "        text-align: right;\n",
       "    }\n",
       "</style>\n",
       "<table border=\"1\" class=\"dataframe\">\n",
       "  <thead>\n",
       "    <tr style=\"text-align: right;\">\n",
       "      <th></th>\n",
       "      <th>id</th>\n",
       "      <th>name</th>\n",
       "      <th>borough</th>\n",
       "      <th>neighbourhood</th>\n",
       "      <th>price</th>\n",
       "      <th>bathrooms</th>\n",
       "      <th>accommodates</th>\n",
       "      <th>bedrooms</th>\n",
       "      <th>beds</th>\n",
       "      <th>room_type</th>\n",
       "      <th>...</th>\n",
       "      <th>neighbourhood_Willowbrook</th>\n",
       "      <th>neighbourhood_Windsor Terrace</th>\n",
       "      <th>neighbourhood_Woodhaven</th>\n",
       "      <th>neighbourhood_Woodlawn</th>\n",
       "      <th>neighbourhood_Woodrow</th>\n",
       "      <th>neighbourhood_Woodside</th>\n",
       "      <th>borough_Brooklyn</th>\n",
       "      <th>borough_Manhattan</th>\n",
       "      <th>borough_Queens</th>\n",
       "      <th>borough_Staten Island</th>\n",
       "    </tr>\n",
       "  </thead>\n",
       "  <tbody>\n",
       "    <tr>\n",
       "      <th>0</th>\n",
       "      <td>5136</td>\n",
       "      <td>Spacious Brooklyn Duplex, Patio + Garden</td>\n",
       "      <td>Brooklyn</td>\n",
       "      <td>Sunset Park</td>\n",
       "      <td>275</td>\n",
       "      <td>1.0</td>\n",
       "      <td>4</td>\n",
       "      <td>2.0</td>\n",
       "      <td>2.0</td>\n",
       "      <td>3</td>\n",
       "      <td>...</td>\n",
       "      <td>0</td>\n",
       "      <td>0</td>\n",
       "      <td>0</td>\n",
       "      <td>0</td>\n",
       "      <td>0</td>\n",
       "      <td>0</td>\n",
       "      <td>1</td>\n",
       "      <td>0</td>\n",
       "      <td>0</td>\n",
       "      <td>0</td>\n",
       "    </tr>\n",
       "    <tr>\n",
       "      <th>1</th>\n",
       "      <td>5203</td>\n",
       "      <td>Cozy Clean Guest Room - Family Apt</td>\n",
       "      <td>Manhattan</td>\n",
       "      <td>Upper West Side</td>\n",
       "      <td>75</td>\n",
       "      <td>1.0</td>\n",
       "      <td>1</td>\n",
       "      <td>1.0</td>\n",
       "      <td>1.0</td>\n",
       "      <td>2</td>\n",
       "      <td>...</td>\n",
       "      <td>0</td>\n",
       "      <td>0</td>\n",
       "      <td>0</td>\n",
       "      <td>0</td>\n",
       "      <td>0</td>\n",
       "      <td>0</td>\n",
       "      <td>0</td>\n",
       "      <td>1</td>\n",
       "      <td>0</td>\n",
       "      <td>0</td>\n",
       "    </tr>\n",
       "    <tr>\n",
       "      <th>2</th>\n",
       "      <td>5121</td>\n",
       "      <td>BlissArtsSpace!</td>\n",
       "      <td>Brooklyn</td>\n",
       "      <td>Bedford-Stuyvesant</td>\n",
       "      <td>60</td>\n",
       "      <td>1.0</td>\n",
       "      <td>2</td>\n",
       "      <td>1.0</td>\n",
       "      <td>1.0</td>\n",
       "      <td>2</td>\n",
       "      <td>...</td>\n",
       "      <td>0</td>\n",
       "      <td>0</td>\n",
       "      <td>0</td>\n",
       "      <td>0</td>\n",
       "      <td>0</td>\n",
       "      <td>0</td>\n",
       "      <td>1</td>\n",
       "      <td>0</td>\n",
       "      <td>0</td>\n",
       "      <td>0</td>\n",
       "    </tr>\n",
       "    <tr>\n",
       "      <th>3</th>\n",
       "      <td>5178</td>\n",
       "      <td>Large Furnished Room Near B'way</td>\n",
       "      <td>Manhattan</td>\n",
       "      <td>Midtown</td>\n",
       "      <td>68</td>\n",
       "      <td>1.0</td>\n",
       "      <td>2</td>\n",
       "      <td>1.0</td>\n",
       "      <td>1.0</td>\n",
       "      <td>2</td>\n",
       "      <td>...</td>\n",
       "      <td>0</td>\n",
       "      <td>0</td>\n",
       "      <td>0</td>\n",
       "      <td>0</td>\n",
       "      <td>0</td>\n",
       "      <td>0</td>\n",
       "      <td>0</td>\n",
       "      <td>1</td>\n",
       "      <td>0</td>\n",
       "      <td>0</td>\n",
       "    </tr>\n",
       "    <tr>\n",
       "      <th>4</th>\n",
       "      <td>2595</td>\n",
       "      <td>Skylit Midtown Castle</td>\n",
       "      <td>Manhattan</td>\n",
       "      <td>Midtown</td>\n",
       "      <td>175</td>\n",
       "      <td>1.0</td>\n",
       "      <td>1</td>\n",
       "      <td>1.0</td>\n",
       "      <td>1.0</td>\n",
       "      <td>3</td>\n",
       "      <td>...</td>\n",
       "      <td>0</td>\n",
       "      <td>0</td>\n",
       "      <td>0</td>\n",
       "      <td>0</td>\n",
       "      <td>0</td>\n",
       "      <td>0</td>\n",
       "      <td>0</td>\n",
       "      <td>1</td>\n",
       "      <td>0</td>\n",
       "      <td>0</td>\n",
       "    </tr>\n",
       "  </tbody>\n",
       "</table>\n",
       "<p>5 rows × 236 columns</p>\n",
       "</div>"
      ],
      "text/plain": [
       "     id                                      name    borough  \\\n",
       "0  5136  Spacious Brooklyn Duplex, Patio + Garden   Brooklyn   \n",
       "1  5203        Cozy Clean Guest Room - Family Apt  Manhattan   \n",
       "2  5121                           BlissArtsSpace!   Brooklyn   \n",
       "3  5178          Large Furnished Room Near B'way　  Manhattan   \n",
       "4  2595                     Skylit Midtown Castle  Manhattan   \n",
       "\n",
       "        neighbourhood  price  bathrooms  accommodates  bedrooms  beds  \\\n",
       "0         Sunset Park    275        1.0             4       2.0   2.0   \n",
       "1     Upper West Side     75        1.0             1       1.0   1.0   \n",
       "2  Bedford-Stuyvesant     60        1.0             2       1.0   1.0   \n",
       "3             Midtown     68        1.0             2       1.0   1.0   \n",
       "4             Midtown    175        1.0             1       1.0   1.0   \n",
       "\n",
       "   room_type  ...  neighbourhood_Willowbrook  neighbourhood_Windsor Terrace  \\\n",
       "0          3  ...                          0                              0   \n",
       "1          2  ...                          0                              0   \n",
       "2          2  ...                          0                              0   \n",
       "3          2  ...                          0                              0   \n",
       "4          3  ...                          0                              0   \n",
       "\n",
       "   neighbourhood_Woodhaven  neighbourhood_Woodlawn  neighbourhood_Woodrow  \\\n",
       "0                        0                       0                      0   \n",
       "1                        0                       0                      0   \n",
       "2                        0                       0                      0   \n",
       "3                        0                       0                      0   \n",
       "4                        0                       0                      0   \n",
       "\n",
       "   neighbourhood_Woodside  borough_Brooklyn  borough_Manhattan  \\\n",
       "0                       0                 1                  0   \n",
       "1                       0                 0                  1   \n",
       "2                       0                 1                  0   \n",
       "3                       0                 0                  1   \n",
       "4                       0                 0                  1   \n",
       "\n",
       "   borough_Queens  borough_Staten Island  \n",
       "0               0                      0  \n",
       "1               0                      0  \n",
       "2               0                      0  \n",
       "3               0                      0  \n",
       "4               0                      0  \n",
       "\n",
       "[5 rows x 236 columns]"
      ]
     },
     "execution_count": 2,
     "metadata": {},
     "output_type": "execute_result"
    }
   ],
   "source": [
    "listing_data = pd.read_csv(\"./data/modelling_data\")\n",
    "listing_data.head()"
   ]
  },
  {
   "cell_type": "code",
   "execution_count": 3,
   "metadata": {},
   "outputs": [],
   "source": [
    "listings = listing_data.drop(['id','name','borough','neighbourhood'], axis=1)"
   ]
  },
  {
   "cell_type": "code",
   "execution_count": 4,
   "metadata": {},
   "outputs": [],
   "source": [
    "X_train, X_test, y_train, y_test = train_test_split(listings.drop(columns='price'),\n",
    "                                                    listings.price, test_size=0.3,\n",
    "                                                    random_state=18)"
   ]
  },
  {
   "attachments": {},
   "cell_type": "markdown",
   "metadata": {},
   "source": [
    "In the previous step, the random forest regression with default parameters had the following performance metrics:\n",
    "- R-squared: 0.48374773767040413\n",
    "- RMSE: 113.00368103483753\n",
    "- MAE: 66.72\n",
    "\n",
    "I will perform a gridsearchCV to tune the parameters and calculate the new performance."
   ]
  },
  {
   "cell_type": "code",
   "execution_count": 5,
   "metadata": {},
   "outputs": [
    {
     "name": "stdout",
     "output_type": "stream",
     "text": [
      "Best hyperparameters: {'max_depth': 15, 'n_estimators': 90}\n",
      "Best score: 0.4855655652092904\n"
     ]
    }
   ],
   "source": [
    "from sklearn.ensemble import RandomForestRegressor\n",
    "from sklearn.model_selection import GridSearchCV\n",
    "\n",
    "param_grid = {\n",
    "    'n_estimators': np.arange(50,110,10),\n",
    "    'max_depth': np.arange(5,25,5)\n",
    "}\n",
    "\n",
    "rf = RandomForestRegressor()\n",
    "\n",
    "grid_search = GridSearchCV(estimator=rf, param_grid=param_grid, cv=5, n_jobs=-1)\n",
    "grid_search.fit(X_train, y_train)\n",
    "\n",
    "print(\"Best hyperparameters:\", grid_search.best_params_)\n",
    "print(\"Best score:\", grid_search.best_score_)"
   ]
  },
  {
   "cell_type": "code",
   "execution_count": 6,
   "metadata": {},
   "outputs": [
    {
     "name": "stdout",
     "output_type": "stream",
     "text": [
      "R-squared: 0.4965275347123804\n",
      "RMSE: 111.59621599110748\n",
      "Using these parameters, this random forest model's predictions would be off by an average of $66.14\n"
     ]
    }
   ],
   "source": [
    "rfr = RandomForestRegressor(random_state=18)\n",
    "rfr.set_params(**grid_search.best_params_)\n",
    "# rfr.set_params(**{'max_depth': 15, 'n_estimators': 90})\n",
    "rfr.fit(X_train, y_train)\n",
    "y_pred = rfr.predict(X_test)\n",
    "\n",
    "\n",
    "r2 = r2_score(y_test, y_pred)\n",
    "mse = mean_squared_error(y_test, y_pred)\n",
    "print(\"R-squared:\", r2)\n",
    "print(\"RMSE:\", np.sqrt(mse))\n",
    "mae = mean_absolute_error(y_test, y_pred)\n",
    "print(\"Using these parameters, this random forest model's predictions would be off by an average of ${}\".format(round(mae,2)))"
   ]
  },
  {
   "attachments": {},
   "cell_type": "markdown",
   "metadata": {},
   "source": [
    "This is a slight improvement. Will try engineering additional features."
   ]
  },
  {
   "attachments": {},
   "cell_type": "markdown",
   "metadata": {},
   "source": [
    "# Engineering and adding more features "
   ]
  },
  {
   "attachments": {},
   "cell_type": "markdown",
   "metadata": {},
   "source": [
    "The following are popular landmarks from each borough of New York City: <br>\n",
    "\n",
    "- **Manhattan**: Empire State Building (40.7485° N, 73.9857° W)\n",
    "- **Brooklyn**: Brooklyn Bridge (40.7061° N, 73.9969° W)\n",
    "- **Queens**: Flushing Meadows-Corona Park (40.7400° N, 73.8407° W)\n",
    "- **The Bronx**: Yankee Stadium (40.8296° N, 73.9262° W)\n",
    "- **Staten Island**: Staten Island Ferry (40.6437° N, 74.0719° W)"
   ]
  },
  {
   "cell_type": "code",
   "execution_count": 7,
   "metadata": {},
   "outputs": [
    {
     "data": {
      "text/html": [
       "<div>\n",
       "<style scoped>\n",
       "    .dataframe tbody tr th:only-of-type {\n",
       "        vertical-align: middle;\n",
       "    }\n",
       "\n",
       "    .dataframe tbody tr th {\n",
       "        vertical-align: top;\n",
       "    }\n",
       "\n",
       "    .dataframe thead th {\n",
       "        text-align: right;\n",
       "    }\n",
       "</style>\n",
       "<table border=\"1\" class=\"dataframe\">\n",
       "  <thead>\n",
       "    <tr style=\"text-align: right;\">\n",
       "      <th></th>\n",
       "      <th>id</th>\n",
       "      <th>name</th>\n",
       "      <th>longitude</th>\n",
       "      <th>latitude</th>\n",
       "      <th>price</th>\n",
       "      <th>borough</th>\n",
       "    </tr>\n",
       "  </thead>\n",
       "  <tbody>\n",
       "    <tr>\n",
       "      <th>0</th>\n",
       "      <td>5136</td>\n",
       "      <td>Spacious Brooklyn Duplex, Patio + Garden</td>\n",
       "      <td>-73.99454</td>\n",
       "      <td>40.66265</td>\n",
       "      <td>275</td>\n",
       "      <td>Brooklyn</td>\n",
       "    </tr>\n",
       "    <tr>\n",
       "      <th>1</th>\n",
       "      <td>5203</td>\n",
       "      <td>Cozy Clean Guest Room - Family Apt</td>\n",
       "      <td>-73.96751</td>\n",
       "      <td>40.80380</td>\n",
       "      <td>75</td>\n",
       "      <td>Manhattan</td>\n",
       "    </tr>\n",
       "    <tr>\n",
       "      <th>2</th>\n",
       "      <td>5121</td>\n",
       "      <td>BlissArtsSpace!</td>\n",
       "      <td>-73.95512</td>\n",
       "      <td>40.68535</td>\n",
       "      <td>60</td>\n",
       "      <td>Brooklyn</td>\n",
       "    </tr>\n",
       "    <tr>\n",
       "      <th>3</th>\n",
       "      <td>5178</td>\n",
       "      <td>Large Furnished Room Near B'way</td>\n",
       "      <td>-73.98317</td>\n",
       "      <td>40.76457</td>\n",
       "      <td>68</td>\n",
       "      <td>Manhattan</td>\n",
       "    </tr>\n",
       "    <tr>\n",
       "      <th>4</th>\n",
       "      <td>2595</td>\n",
       "      <td>Skylit Midtown Castle</td>\n",
       "      <td>-73.98559</td>\n",
       "      <td>40.75356</td>\n",
       "      <td>175</td>\n",
       "      <td>Manhattan</td>\n",
       "    </tr>\n",
       "  </tbody>\n",
       "</table>\n",
       "</div>"
      ],
      "text/plain": [
       "     id                                      name  longitude  latitude  price  \\\n",
       "0  5136  Spacious Brooklyn Duplex, Patio + Garden  -73.99454  40.66265    275   \n",
       "1  5203        Cozy Clean Guest Room - Family Apt  -73.96751  40.80380     75   \n",
       "2  5121                           BlissArtsSpace!  -73.95512  40.68535     60   \n",
       "3  5178          Large Furnished Room Near B'way　  -73.98317  40.76457     68   \n",
       "4  2595                     Skylit Midtown Castle  -73.98559  40.75356    175   \n",
       "\n",
       "     borough  \n",
       "0   Brooklyn  \n",
       "1  Manhattan  \n",
       "2   Brooklyn  \n",
       "3  Manhattan  \n",
       "4  Manhattan  "
      ]
     },
     "execution_count": 7,
     "metadata": {},
     "output_type": "execute_result"
    }
   ],
   "source": [
    "coordinate_data = pd.read_csv('./data/coordinate_data')\n",
    "coordinate_data.head()"
   ]
  },
  {
   "cell_type": "code",
   "execution_count": 8,
   "metadata": {},
   "outputs": [],
   "source": [
    "landmarks = {\n",
    "    'Manhattan': {'name': 'Empire State Building', 'lat': 40.7485, 'lon': -73.9857},\n",
    "    'Brooklyn': {'name': 'Brooklyn Bridge', 'lat': 40.7061, 'lon': -73.9969},\n",
    "    'Queens': {'name': 'Flushing Meadows - Corona Park', 'lat': 40.7400, 'lon': -73.8407},\n",
    "    'Bronx': {'name': 'Yankee Stadium', 'lat': 40.8296, 'lon': -73.9262},\n",
    "    'Staten Island': {'name': 'Staten Island Ferry', 'lat': 40.6437, 'lon': -74.0719}\n",
    "}"
   ]
  },
  {
   "cell_type": "code",
   "execution_count": 9,
   "metadata": {},
   "outputs": [],
   "source": [
    "import math\n",
    "\n",
    "# defining a function to calculate the distance between a listing and its respective landmark\n",
    "def haversine_distance(row):\n",
    "    # getting the name and coordinate of landmark for the borough of the listing\n",
    "    borough = row['borough']\n",
    "    landmark_name = landmarks[borough]['name']\n",
    "    landmark_lat = landmarks[borough]['lat']\n",
    "    landmark_lon = landmarks[borough]['lon']\n",
    "\n",
    "    # getting the lat and lon of the listing\n",
    "    lat = row['latitude']\n",
    "    lon = row['longitude']\n",
    "    \n",
    "    # converting the lat and lon to radians\n",
    "    lat, lon, landmark_lat, landmark_lon = map(math.radians, [lat, lon, landmark_lat, landmark_lon])\n",
    "\n",
    "    # Haversine formula\n",
    "    dlon = landmark_lon - lon\n",
    "    dlat = landmark_lat - lat\n",
    "    a = math.sin(dlat / 2) ** 2 + math.cos(lat) * math.cos(landmark_lat) * math.sin(dlon / 2) ** 2\n",
    "    c = 2 *math.asin(math.sqrt(a))\n",
    "    r = 6371 # earth radius\n",
    "    distance = c * r\n",
    "    return distance, landmark_name"
   ]
  },
  {
   "cell_type": "code",
   "execution_count": 10,
   "metadata": {},
   "outputs": [],
   "source": [
    "# Calculate the distance between each listing and its respective landmark\n",
    "coordinate_data[['landmark_distance_km', 'landmark_name']] = coordinate_data.apply(haversine_distance, axis=1, result_type='expand')"
   ]
  },
  {
   "cell_type": "code",
   "execution_count": 11,
   "metadata": {},
   "outputs": [
    {
     "data": {
      "text/html": [
       "<div>\n",
       "<style scoped>\n",
       "    .dataframe tbody tr th:only-of-type {\n",
       "        vertical-align: middle;\n",
       "    }\n",
       "\n",
       "    .dataframe tbody tr th {\n",
       "        vertical-align: top;\n",
       "    }\n",
       "\n",
       "    .dataframe thead th {\n",
       "        text-align: right;\n",
       "    }\n",
       "</style>\n",
       "<table border=\"1\" class=\"dataframe\">\n",
       "  <thead>\n",
       "    <tr style=\"text-align: right;\">\n",
       "      <th></th>\n",
       "      <th>id</th>\n",
       "      <th>name</th>\n",
       "      <th>longitude</th>\n",
       "      <th>latitude</th>\n",
       "      <th>price</th>\n",
       "      <th>borough</th>\n",
       "      <th>landmark_distance_km</th>\n",
       "      <th>landmark_name</th>\n",
       "    </tr>\n",
       "  </thead>\n",
       "  <tbody>\n",
       "    <tr>\n",
       "      <th>0</th>\n",
       "      <td>5136</td>\n",
       "      <td>Spacious Brooklyn Duplex, Patio + Garden</td>\n",
       "      <td>-73.99454</td>\n",
       "      <td>40.66265</td>\n",
       "      <td>275</td>\n",
       "      <td>Brooklyn</td>\n",
       "      <td>4.835516</td>\n",
       "      <td>Brooklyn Bridge</td>\n",
       "    </tr>\n",
       "    <tr>\n",
       "      <th>1</th>\n",
       "      <td>5203</td>\n",
       "      <td>Cozy Clean Guest Room - Family Apt</td>\n",
       "      <td>-73.96751</td>\n",
       "      <td>40.80380</td>\n",
       "      <td>75</td>\n",
       "      <td>Manhattan</td>\n",
       "      <td>6.336971</td>\n",
       "      <td>Empire State Building</td>\n",
       "    </tr>\n",
       "    <tr>\n",
       "      <th>2</th>\n",
       "      <td>5121</td>\n",
       "      <td>BlissArtsSpace!</td>\n",
       "      <td>-73.95512</td>\n",
       "      <td>40.68535</td>\n",
       "      <td>60</td>\n",
       "      <td>Brooklyn</td>\n",
       "      <td>4.210733</td>\n",
       "      <td>Brooklyn Bridge</td>\n",
       "    </tr>\n",
       "    <tr>\n",
       "      <th>3</th>\n",
       "      <td>5178</td>\n",
       "      <td>Large Furnished Room Near B'way</td>\n",
       "      <td>-73.98317</td>\n",
       "      <td>40.76457</td>\n",
       "      <td>68</td>\n",
       "      <td>Manhattan</td>\n",
       "      <td>1.799564</td>\n",
       "      <td>Empire State Building</td>\n",
       "    </tr>\n",
       "    <tr>\n",
       "      <th>4</th>\n",
       "      <td>2595</td>\n",
       "      <td>Skylit Midtown Castle</td>\n",
       "      <td>-73.98559</td>\n",
       "      <td>40.75356</td>\n",
       "      <td>175</td>\n",
       "      <td>Manhattan</td>\n",
       "      <td>0.562723</td>\n",
       "      <td>Empire State Building</td>\n",
       "    </tr>\n",
       "  </tbody>\n",
       "</table>\n",
       "</div>"
      ],
      "text/plain": [
       "     id                                      name  longitude  latitude  price  \\\n",
       "0  5136  Spacious Brooklyn Duplex, Patio + Garden  -73.99454  40.66265    275   \n",
       "1  5203        Cozy Clean Guest Room - Family Apt  -73.96751  40.80380     75   \n",
       "2  5121                           BlissArtsSpace!  -73.95512  40.68535     60   \n",
       "3  5178          Large Furnished Room Near B'way　  -73.98317  40.76457     68   \n",
       "4  2595                     Skylit Midtown Castle  -73.98559  40.75356    175   \n",
       "\n",
       "     borough  landmark_distance_km          landmark_name  \n",
       "0   Brooklyn              4.835516        Brooklyn Bridge  \n",
       "1  Manhattan              6.336971  Empire State Building  \n",
       "2   Brooklyn              4.210733        Brooklyn Bridge  \n",
       "3  Manhattan              1.799564  Empire State Building  \n",
       "4  Manhattan              0.562723  Empire State Building  "
      ]
     },
     "execution_count": 11,
     "metadata": {},
     "output_type": "execute_result"
    }
   ],
   "source": [
    "coordinate_data.head()"
   ]
  },
  {
   "cell_type": "code",
   "execution_count": 12,
   "metadata": {},
   "outputs": [
    {
     "data": {
      "text/plain": [
       "38815"
      ]
     },
     "execution_count": 12,
     "metadata": {},
     "output_type": "execute_result"
    }
   ],
   "source": [
    "coordinate_data['id'].nunique()"
   ]
  },
  {
   "cell_type": "code",
   "execution_count": 13,
   "metadata": {},
   "outputs": [],
   "source": [
    "df_df = pd.merge(listing_data, coordinate_data[['landmark_distance_km','id']], on=['id'], how='left')"
   ]
  },
  {
   "cell_type": "code",
   "execution_count": 14,
   "metadata": {},
   "outputs": [],
   "source": [
    "df = df_df.drop([\"id\",\"name\", \"borough\", \"neighbourhood\"], axis=1)"
   ]
  },
  {
   "cell_type": "code",
   "execution_count": 15,
   "metadata": {},
   "outputs": [],
   "source": [
    "X = df.drop(['price'], axis=1)\n",
    "y = df['price']\n",
    "\n",
    "X_train, X_test, y_train, y_test = train_test_split(X, y, test_size=0.3, random_state=18)"
   ]
  },
  {
   "cell_type": "code",
   "execution_count": 16,
   "metadata": {},
   "outputs": [
    {
     "name": "stdout",
     "output_type": "stream",
     "text": [
      "Best hyperparameters: {'max_depth': 10, 'n_estimators': 100}\n",
      "Best score: 0.5081156525346299\n"
     ]
    }
   ],
   "source": [
    "param_grid = {\n",
    "    'n_estimators': np.arange(50,110,10),\n",
    "    'max_depth': np.arange(5,25,5)\n",
    "}\n",
    "\n",
    "grid_search = GridSearchCV(estimator=RandomForestRegressor(), param_grid=param_grid, cv=5, n_jobs=-1)\n",
    "grid_search.fit(X_train, y_train)\n",
    "\n",
    "print(\"Best hyperparameters:\", grid_search.best_params_)\n",
    "print(\"Best score:\", grid_search.best_score_)"
   ]
  },
  {
   "attachments": {},
   "cell_type": "markdown",
   "metadata": {},
   "source": [
    "As this Grid Search produced a better score than the previous, I will use the new best parameters."
   ]
  },
  {
   "cell_type": "code",
   "execution_count": 17,
   "metadata": {},
   "outputs": [],
   "source": [
    "rfr = RandomForestRegressor(random_state=18)\n",
    "# rfr.set_params(max_depth=10, n_estimators=90)\n",
    "rfr.set_params(**grid_search.best_params_)\n",
    "rfr.fit(X_train, y_train)\n",
    "y_pred = rfr.predict(X_test)"
   ]
  },
  {
   "cell_type": "code",
   "execution_count": 18,
   "metadata": {},
   "outputs": [
    {
     "name": "stdout",
     "output_type": "stream",
     "text": [
      "R-squared: 0.5248792084224441\n",
      "RMSE: 108.40857221384275\n",
      "This random forest model's predictions would be off by an average of $64.75\n"
     ]
    }
   ],
   "source": [
    "from sklearn.metrics import r2_score, mean_squared_error\n",
    "r2_rfr = r2_score(y_test, y_pred)\n",
    "mse_rfr = mean_squared_error(y_test, y_pred)\n",
    "print(\"R-squared:\", r2_rfr)\n",
    "print(\"RMSE:\", np.sqrt(mse_rfr))\n",
    "mae_rfr = mean_absolute_error(y_test, y_pred)\n",
    "print(\"This random forest model's predictions would be off by an average of ${}\".format(round(mae_rfr,2)))"
   ]
  },
  {
   "attachments": {},
   "cell_type": "markdown",
   "metadata": {},
   "source": [
    "This model's performance has been the best so far. \n",
    "\n",
    "Finally, I'll try the popular gradient boosting model with XGBoost to see if it improves upon the RandomForest."
   ]
  },
  {
   "cell_type": "code",
   "execution_count": 19,
   "metadata": {},
   "outputs": [
    {
     "name": "stdout",
     "output_type": "stream",
     "text": [
      "{'learning_rate': 0.1, 'max_depth': 6, 'n_estimators': 200}\n"
     ]
    }
   ],
   "source": [
    "import xgboost as xgb\n",
    "\n",
    "# Define the parameter grid to search over\n",
    "param_grid = {\n",
    "    'max_depth': np.arange(3,8),\n",
    "    'learning_rate': [0.01, 0.05, 0.1,0.3],\n",
    "    'n_estimators': [50,100,200]\n",
    "}\n",
    "\n",
    "# Use GridSearchCV to search over the parameter grid\n",
    "grid_search = GridSearchCV(\n",
    "    estimator=xgb.XGBRegressor(), \n",
    "    param_grid=param_grid, \n",
    "    cv=5, \n",
    "    scoring='neg_mean_squared_error',\n",
    "    n_jobs=-1\n",
    ")\n",
    "\n",
    "grid_search.fit(X_train, y_train)\n",
    "# Get the best hyperparameters and corresponding model\n",
    "best_params = grid_search.best_params_\n",
    "best_model = grid_search.best_estimator_\n",
    "\n",
    "print(best_params)"
   ]
  },
  {
   "cell_type": "code",
   "execution_count": 20,
   "metadata": {},
   "outputs": [
    {
     "name": "stdout",
     "output_type": "stream",
     "text": [
      "Root mean squared error: 105.73064327748843\n",
      "The best model's predictions would be off by an average of $63.45.\n"
     ]
    }
   ],
   "source": [
    "# Fit the grid search object to the training data\n",
    "xgb_reg = xgb.XGBRegressor(**grid_search.best_params_)\n",
    "# xgb_reg = xgb.XGBRegressor(max_depth=7, learning_rate=0.05, n_estimators=200)\n",
    "xgb_reg.fit(X_train, y_train)\n",
    "\n",
    "# Evaluate the model on the test data\n",
    "y_pred = xgb_reg.predict(X_test)\n",
    "mse = mean_squared_error(y_test, y_pred)\n",
    "rmse = np.sqrt(mse)\n",
    "mae = mean_absolute_error(y_test, y_pred)\n",
    "print(f\"Root mean squared error: {rmse}\")\n",
    "print(\"The best model's predictions would be off by an average of ${}.\".format(round(mae,2)))"
   ]
  },
  {
   "attachments": {},
   "cell_type": "markdown",
   "metadata": {},
   "source": [
    "Since the difference in perf"
   ]
  },
  {
   "attachments": {},
   "cell_type": "markdown",
   "metadata": {},
   "source": [
    "There is a some performance improvement with the boosted model, however the RFR can be trained in half the time it takes the boosted model to train. As such I will use the RFR model for the final predictions."
   ]
  },
  {
   "attachments": {},
   "cell_type": "markdown",
   "metadata": {},
   "source": [
    "## Feature Analysis"
   ]
  },
  {
   "cell_type": "code",
   "execution_count": 21,
   "metadata": {},
   "outputs": [
    {
     "data": {
      "image/png": "[encoded data removed]",
      "text/plain": [
       "<Figure size 640x480 with 1 Axes>"
      ]
     },
     "metadata": {},
     "output_type": "display_data"
    }
   ],
   "source": [
    "import numpy as np\n",
    "import matplotlib.pyplot as plt\n",
    "\n",
    "# Get feature importances from our random forest model\n",
    "importances = rfr.feature_importances_\n",
    "#plot the top ten most important features in a horizontal bar chart\n",
    "plt.barh(X.columns[np.argsort(importances)[::-1][:10]], importances[np.argsort(importances)[::-1][:10]])\n",
    "#label the chart\n",
    "plt.title('Top 10 Feature Importances')\n",
    "#label the axes\n",
    "plt.xlabel('Importance')\n",
    "plt.ylabel('Feature')\n",
    "#display the plot\n",
    "plt.show()"
   ]
  },
  {
   "attachments": {},
   "cell_type": "markdown",
   "metadata": {},
   "source": [
    "It's important to note that the importance score is a relative measure within the context of the specific model and dataset. It does not necessarily reflect the absolute importance of a feature or imply causality. Feature importance is a useful tool for understanding the relative importance of different features in a model but should be interpreted with caution and in the context of the specific problem domain."
   ]
  },
  {
   "attachments": {},
   "cell_type": "markdown",
   "metadata": {},
   "source": [
    "## Profitability Analysis\n",
    "\n",
    "In the context of this project, we will assume the model being used by the hiring company takes the average price per neighborhood and number of beds.\n",
    "\n",
    "This will allow comparison of my model's predictions to that of baseline model's and the actual price. \n",
    "\n",
    "In the following step, I will estimate the revenue generated by both models by using occupancy information."
   ]
  },
  {
   "cell_type": "code",
   "execution_count": 22,
   "metadata": {},
   "outputs": [],
   "source": [
    "# preparing test set for analysis\n",
    "indices = X_test.index\n",
    "X_test_subset = df_df.loc[indices].copy()"
   ]
  },
  {
   "cell_type": "code",
   "execution_count": 23,
   "metadata": {},
   "outputs": [],
   "source": [
    "X_test_subset['predicted_price'] = y_pred"
   ]
  },
  {
   "cell_type": "code",
   "execution_count": 24,
   "metadata": {},
   "outputs": [],
   "source": [
    "X_test_subset['naive_price'] = X_test_subset.groupby(['neighbourhood', 'beds'])['price'].transform('mean')"
   ]
  },
  {
   "cell_type": "code",
   "execution_count": 25,
   "metadata": {},
   "outputs": [
    {
     "data": {
      "text/html": [
       "<div>\n",
       "<style scoped>\n",
       "    .dataframe tbody tr th:only-of-type {\n",
       "        vertical-align: middle;\n",
       "    }\n",
       "\n",
       "    .dataframe tbody tr th {\n",
       "        vertical-align: top;\n",
       "    }\n",
       "\n",
       "    .dataframe thead th {\n",
       "        text-align: right;\n",
       "    }\n",
       "</style>\n",
       "<table border=\"1\" class=\"dataframe\">\n",
       "  <thead>\n",
       "    <tr style=\"text-align: right;\">\n",
       "      <th></th>\n",
       "      <th>price</th>\n",
       "      <th>predicted_price</th>\n",
       "      <th>naive_price</th>\n",
       "    </tr>\n",
       "  </thead>\n",
       "  <tbody>\n",
       "    <tr>\n",
       "      <th>33677</th>\n",
       "      <td>144</td>\n",
       "      <td>140.585876</td>\n",
       "      <td>99.581132</td>\n",
       "    </tr>\n",
       "    <tr>\n",
       "      <th>20958</th>\n",
       "      <td>150</td>\n",
       "      <td>138.291550</td>\n",
       "      <td>167.968627</td>\n",
       "    </tr>\n",
       "    <tr>\n",
       "      <th>3598</th>\n",
       "      <td>109</td>\n",
       "      <td>167.876495</td>\n",
       "      <td>191.840000</td>\n",
       "    </tr>\n",
       "    <tr>\n",
       "      <th>7523</th>\n",
       "      <td>249</td>\n",
       "      <td>110.357307</td>\n",
       "      <td>106.296296</td>\n",
       "    </tr>\n",
       "    <tr>\n",
       "      <th>38798</th>\n",
       "      <td>120</td>\n",
       "      <td>97.775635</td>\n",
       "      <td>98.657895</td>\n",
       "    </tr>\n",
       "    <tr>\n",
       "      <th>...</th>\n",
       "      <td>...</td>\n",
       "      <td>...</td>\n",
       "      <td>...</td>\n",
       "    </tr>\n",
       "    <tr>\n",
       "      <th>22471</th>\n",
       "      <td>455</td>\n",
       "      <td>292.941803</td>\n",
       "      <td>302.777778</td>\n",
       "    </tr>\n",
       "    <tr>\n",
       "      <th>15854</th>\n",
       "      <td>35</td>\n",
       "      <td>61.357178</td>\n",
       "      <td>77.000000</td>\n",
       "    </tr>\n",
       "    <tr>\n",
       "      <th>7635</th>\n",
       "      <td>110</td>\n",
       "      <td>238.203125</td>\n",
       "      <td>259.567568</td>\n",
       "    </tr>\n",
       "    <tr>\n",
       "      <th>8779</th>\n",
       "      <td>55</td>\n",
       "      <td>81.592270</td>\n",
       "      <td>101.284926</td>\n",
       "    </tr>\n",
       "    <tr>\n",
       "      <th>16426</th>\n",
       "      <td>350</td>\n",
       "      <td>189.017349</td>\n",
       "      <td>167.968627</td>\n",
       "    </tr>\n",
       "  </tbody>\n",
       "</table>\n",
       "<p>11645 rows × 3 columns</p>\n",
       "</div>"
      ],
      "text/plain": [
       "       price  predicted_price  naive_price\n",
       "33677    144       140.585876    99.581132\n",
       "20958    150       138.291550   167.968627\n",
       "3598     109       167.876495   191.840000\n",
       "7523     249       110.357307   106.296296\n",
       "38798    120        97.775635    98.657895\n",
       "...      ...              ...          ...\n",
       "22471    455       292.941803   302.777778\n",
       "15854     35        61.357178    77.000000\n",
       "7635     110       238.203125   259.567568\n",
       "8779      55        81.592270   101.284926\n",
       "16426    350       189.017349   167.968627\n",
       "\n",
       "[11645 rows x 3 columns]"
      ]
     },
     "execution_count": 25,
     "metadata": {},
     "output_type": "execute_result"
    }
   ],
   "source": [
    "X_test_subset[[\"price\", \"predicted_price\", \"naive_price\"]]"
   ]
  },
  {
   "attachments": {},
   "cell_type": "markdown",
   "metadata": {},
   "source": [
    "Occupancy rate is calculated as the ratio of the number of nights the listing was booked to the total number of nights in a year."
   ]
  },
  {
   "cell_type": "code",
   "execution_count": 26,
   "metadata": {},
   "outputs": [
    {
     "data": {
      "text/html": [
       "<div>\n",
       "<style scoped>\n",
       "    .dataframe tbody tr th:only-of-type {\n",
       "        vertical-align: middle;\n",
       "    }\n",
       "\n",
       "    .dataframe tbody tr th {\n",
       "        vertical-align: top;\n",
       "    }\n",
       "\n",
       "    .dataframe thead th {\n",
       "        text-align: right;\n",
       "    }\n",
       "</style>\n",
       "<table border=\"1\" class=\"dataframe\">\n",
       "  <thead>\n",
       "    <tr style=\"text-align: right;\">\n",
       "      <th></th>\n",
       "      <th>listing_id</th>\n",
       "      <th>date</th>\n",
       "      <th>available</th>\n",
       "      <th>price</th>\n",
       "      <th>adjusted_price</th>\n",
       "      <th>minimum_nights</th>\n",
       "      <th>maximum_nights</th>\n",
       "    </tr>\n",
       "  </thead>\n",
       "  <tbody>\n",
       "    <tr>\n",
       "      <th>0</th>\n",
       "      <td>5136</td>\n",
       "      <td>2022-12-04</td>\n",
       "      <td>f</td>\n",
       "      <td>$275.00</td>\n",
       "      <td>$275.00</td>\n",
       "      <td>21.0</td>\n",
       "      <td>1125.0</td>\n",
       "    </tr>\n",
       "    <tr>\n",
       "      <th>1</th>\n",
       "      <td>2595</td>\n",
       "      <td>2022-12-05</td>\n",
       "      <td>t</td>\n",
       "      <td>$175.00</td>\n",
       "      <td>$175.00</td>\n",
       "      <td>30.0</td>\n",
       "      <td>1125.0</td>\n",
       "    </tr>\n",
       "    <tr>\n",
       "      <th>2</th>\n",
       "      <td>2595</td>\n",
       "      <td>2022-12-06</td>\n",
       "      <td>t</td>\n",
       "      <td>$175.00</td>\n",
       "      <td>$175.00</td>\n",
       "      <td>30.0</td>\n",
       "      <td>1125.0</td>\n",
       "    </tr>\n",
       "    <tr>\n",
       "      <th>3</th>\n",
       "      <td>2595</td>\n",
       "      <td>2022-12-07</td>\n",
       "      <td>t</td>\n",
       "      <td>$175.00</td>\n",
       "      <td>$175.00</td>\n",
       "      <td>30.0</td>\n",
       "      <td>1125.0</td>\n",
       "    </tr>\n",
       "    <tr>\n",
       "      <th>4</th>\n",
       "      <td>2595</td>\n",
       "      <td>2022-12-08</td>\n",
       "      <td>t</td>\n",
       "      <td>$175.00</td>\n",
       "      <td>$175.00</td>\n",
       "      <td>30.0</td>\n",
       "      <td>1125.0</td>\n",
       "    </tr>\n",
       "  </tbody>\n",
       "</table>\n",
       "</div>"
      ],
      "text/plain": [
       "   listing_id        date available    price adjusted_price  minimum_nights  \\\n",
       "0        5136  2022-12-04         f  $275.00        $275.00            21.0   \n",
       "1        2595  2022-12-05         t  $175.00        $175.00            30.0   \n",
       "2        2595  2022-12-06         t  $175.00        $175.00            30.0   \n",
       "3        2595  2022-12-07         t  $175.00        $175.00            30.0   \n",
       "4        2595  2022-12-08         t  $175.00        $175.00            30.0   \n",
       "\n",
       "   maximum_nights  \n",
       "0          1125.0  \n",
       "1          1125.0  \n",
       "2          1125.0  \n",
       "3          1125.0  \n",
       "4          1125.0  "
      ]
     },
     "execution_count": 26,
     "metadata": {},
     "output_type": "execute_result"
    }
   ],
   "source": [
    "from datetime import datetime\n",
    "\n",
    "df_occupancy = pd.read_csv(\"./data/source/calendar.csv.gz\", low_memory=False)\n",
    "df_occupancy.head()"
   ]
  },
  {
   "cell_type": "code",
   "execution_count": 27,
   "metadata": {},
   "outputs": [],
   "source": [
    "df_occupancy['date'] = pd.to_datetime(df_occupancy['date'])"
   ]
  },
  {
   "cell_type": "code",
   "execution_count": 28,
   "metadata": {},
   "outputs": [
    {
     "data": {
      "text/html": [
       "<div>\n",
       "<style scoped>\n",
       "    .dataframe tbody tr th:only-of-type {\n",
       "        vertical-align: middle;\n",
       "    }\n",
       "\n",
       "    .dataframe tbody tr th {\n",
       "        vertical-align: top;\n",
       "    }\n",
       "\n",
       "    .dataframe thead th {\n",
       "        text-align: right;\n",
       "    }\n",
       "</style>\n",
       "<table border=\"1\" class=\"dataframe\">\n",
       "  <thead>\n",
       "    <tr style=\"text-align: right;\">\n",
       "      <th></th>\n",
       "      <th>listing_id</th>\n",
       "      <th>available_days</th>\n",
       "    </tr>\n",
       "  </thead>\n",
       "  <tbody>\n",
       "    <tr>\n",
       "      <th>0</th>\n",
       "      <td>2595</td>\n",
       "      <td>365</td>\n",
       "    </tr>\n",
       "    <tr>\n",
       "      <th>1</th>\n",
       "      <td>5121</td>\n",
       "      <td>322</td>\n",
       "    </tr>\n",
       "    <tr>\n",
       "      <th>2</th>\n",
       "      <td>5136</td>\n",
       "      <td>267</td>\n",
       "    </tr>\n",
       "    <tr>\n",
       "      <th>3</th>\n",
       "      <td>5178</td>\n",
       "      <td>79</td>\n",
       "    </tr>\n",
       "    <tr>\n",
       "      <th>4</th>\n",
       "      <td>5803</td>\n",
       "      <td>163</td>\n",
       "    </tr>\n",
       "  </tbody>\n",
       "</table>\n",
       "</div>"
      ],
      "text/plain": [
       "   listing_id  available_days\n",
       "0        2595             365\n",
       "1        5121             322\n",
       "2        5136             267\n",
       "3        5178              79\n",
       "4        5803             163"
      ]
     },
     "execution_count": 28,
     "metadata": {},
     "output_type": "execute_result"
    }
   ],
   "source": [
    "available_listings = df_occupancy[df_occupancy['available'] == 't']\n",
    "available_days = available_listings.groupby('listing_id')['date'].nunique().reset_index()\n",
    "available_days.rename(columns={'date': 'available_days'}, inplace=True)\n",
    "available_days.head()"
   ]
  },
  {
   "cell_type": "code",
   "execution_count": 29,
   "metadata": {},
   "outputs": [],
   "source": [
    "total_days = df_occupancy.groupby('listing_id')['date'].nunique().reset_index()\n",
    "total_days.rename(columns={'date': 'total_days'}, inplace=True)"
   ]
  },
  {
   "cell_type": "code",
   "execution_count": 30,
   "metadata": {},
   "outputs": [],
   "source": [
    "occupancy = pd.merge(total_days, available_days, on='listing_id')\n",
    "occupancy['occupancy_rate'] = ((occupancy['total_days'] - occupancy['available_days']) / occupancy['total_days']) * 100"
   ]
  },
  {
   "cell_type": "code",
   "execution_count": 31,
   "metadata": {},
   "outputs": [
    {
     "data": {
      "text/html": [
       "<div>\n",
       "<style scoped>\n",
       "    .dataframe tbody tr th:only-of-type {\n",
       "        vertical-align: middle;\n",
       "    }\n",
       "\n",
       "    .dataframe tbody tr th {\n",
       "        vertical-align: top;\n",
       "    }\n",
       "\n",
       "    .dataframe thead th {\n",
       "        text-align: right;\n",
       "    }\n",
       "</style>\n",
       "<table border=\"1\" class=\"dataframe\">\n",
       "  <thead>\n",
       "    <tr style=\"text-align: right;\">\n",
       "      <th></th>\n",
       "      <th>listing_id</th>\n",
       "      <th>total_days</th>\n",
       "      <th>available_days</th>\n",
       "      <th>occupancy_rate</th>\n",
       "    </tr>\n",
       "  </thead>\n",
       "  <tbody>\n",
       "    <tr>\n",
       "      <th>0</th>\n",
       "      <td>2595</td>\n",
       "      <td>365</td>\n",
       "      <td>365</td>\n",
       "      <td>0.000000</td>\n",
       "    </tr>\n",
       "    <tr>\n",
       "      <th>1</th>\n",
       "      <td>5121</td>\n",
       "      <td>365</td>\n",
       "      <td>322</td>\n",
       "      <td>11.780822</td>\n",
       "    </tr>\n",
       "    <tr>\n",
       "      <th>2</th>\n",
       "      <td>5136</td>\n",
       "      <td>365</td>\n",
       "      <td>267</td>\n",
       "      <td>26.849315</td>\n",
       "    </tr>\n",
       "    <tr>\n",
       "      <th>3</th>\n",
       "      <td>5178</td>\n",
       "      <td>365</td>\n",
       "      <td>79</td>\n",
       "      <td>78.356164</td>\n",
       "    </tr>\n",
       "    <tr>\n",
       "      <th>4</th>\n",
       "      <td>5803</td>\n",
       "      <td>365</td>\n",
       "      <td>163</td>\n",
       "      <td>55.342466</td>\n",
       "    </tr>\n",
       "  </tbody>\n",
       "</table>\n",
       "</div>"
      ],
      "text/plain": [
       "   listing_id  total_days  available_days  occupancy_rate\n",
       "0        2595         365             365        0.000000\n",
       "1        5121         365             322       11.780822\n",
       "2        5136         365             267       26.849315\n",
       "3        5178         365              79       78.356164\n",
       "4        5803         365             163       55.342466"
      ]
     },
     "execution_count": 31,
     "metadata": {},
     "output_type": "execute_result"
    }
   ],
   "source": [
    "occupancy.head()"
   ]
  },
  {
   "cell_type": "code",
   "execution_count": 32,
   "metadata": {},
   "outputs": [],
   "source": [
    "merged = pd.merge(occupancy[['occupancy_rate','listing_id']], X_test_subset, left_on='listing_id', right_on='id')"
   ]
  },
  {
   "cell_type": "code",
   "execution_count": 33,
   "metadata": {},
   "outputs": [],
   "source": [
    "predicted_revenue = merged['occupancy_rate'] * merged['predicted_price'] * 365\n",
    "naive_revenue = merged['occupancy_rate'] * merged['naive_price'] * 365\n",
    "\n",
    "revenue_difference = predicted_revenue - naive_revenue"
   ]
  },
  {
   "cell_type": "code",
   "execution_count": 34,
   "metadata": {},
   "outputs": [
    {
     "data": {
      "text/plain": [
       "301298153.3757015"
      ]
     },
     "execution_count": 34,
     "metadata": {},
     "output_type": "execute_result"
    }
   ],
   "source": [
    "revenue_difference.sum()"
   ]
  },
  {
   "cell_type": "code",
   "execution_count": 35,
   "metadata": {},
   "outputs": [],
   "source": [
    "revenue_compared = (predicted_revenue.sum() - naive_revenue.sum()) / naive_revenue.sum() * 100\n"
   ]
  },
  {
   "cell_type": "code",
   "execution_count": 36,
   "metadata": {},
   "outputs": [
    {
     "data": {
      "text/plain": [
       "1.4041671966277127"
      ]
     },
     "execution_count": 36,
     "metadata": {},
     "output_type": "execute_result"
    }
   ],
   "source": [
    "revenue_compared"
   ]
  },
  {
   "attachments": {},
   "cell_type": "markdown",
   "metadata": {},
   "source": [
    "For the evaluated listings, over the course of 12 months, our model generated $301,298,153.38 more in revenue than the hypothetical model. This is a 1.4% increase in revenue."
   ]
  },
  {
   "attachments": {},
   "cell_type": "markdown",
   "metadata": {},
   "source": [
    "# NEXT STEPS\n",
    "\n",
    "#### 1. Additional feature engineering:\n",
    "  - Using `amenities` as an additional feature.\n",
    "  - Using different landmarks - possibly extracted from the `name` feature using NLP.\n",
    "  - Analyzing the top reviewed listings and top hosts to gather insights on what makes a listing successful.\n",
    "\n",
    "#### 2. Apply models on other cities\n",
    "  - The models can be applied to other cities to see if the same features are important in predicting price.\n",
    "\n",
    "#### 3. Use different models:\n",
    "  - Try other models such as Support Vector Machines, Neural Networks, etc."
   ]
  },
  {
   "cell_type": "code",
   "execution_count": 37,
   "metadata": {},
   "outputs": [],
   "source": [
    "metrics = pd.DataFrame({'Metric': ['Mean Absolute Error (MAE)', 'Mean Squared Error (MSE)', 'Root Mean Squared Error (RMSE)', 'R^2 Score'],\n",
    "                       'Value': [mae_rfr, mse_rfr, np.sqrt(r2_rfr), r2_rfr]})\n",
    "metrics.to_csv('./data/metrics.csv', index=False)"
   ]
  }
 ],
 "metadata": {
  "kernelspec": {
   "display_name": "base",
   "language": "python",
   "name": "python3"
  },
  "language_info": {
   "codemirror_mode": {
    "name": "ipython",
    "version": 3
   },
   "file_extension": ".py",
   "mimetype": "text/x-python",
   "name": "python",
   "nbconvert_exporter": "python",
   "pygments_lexer": "ipython3",
   "version": "3.9.13"
  },
  "orig_nbformat": 4
 },
 "nbformat": 4,
 "nbformat_minor": 2
}
