{
 "cells": [
  {
   "cell_type": "code",
   "execution_count": 1,
   "metadata": {},
   "outputs": [],
   "source": [
    "import pandas as pd\n",
    "import numpy as np\n",
    "import matplotlib.pyplot as plt\n",
    "import seaborn as sns\n",
    "from sklearn.model_selection import GridSearchCV, train_test_split\n",
    "from sklearn.ensemble import RandomForestRegressor\n",
    "from sklearn.metrics import r2_score, mean_squared_error, mean_absolute_error"
   ]
  },
  {
   "cell_type": "code",
   "execution_count": 2,
   "metadata": {},
   "outputs": [
    {
     "data": {
      "text/html": [
       "<div>\n",
       "<style scoped>\n",
       "    .dataframe tbody tr th:only-of-type {\n",
       "        vertical-align: middle;\n",
       "    }\n",
       "\n",
       "    .dataframe tbody tr th {\n",
       "        vertical-align: top;\n",
       "    }\n",
       "\n",
       "    .dataframe thead th {\n",
       "        text-align: right;\n",
       "    }\n",
       "</style>\n",
       "<table border=\"1\" class=\"dataframe\">\n",
       "  <thead>\n",
       "    <tr style=\"text-align: right;\">\n",
       "      <th></th>\n",
       "      <th>id</th>\n",
       "      <th>name</th>\n",
       "      <th>borough</th>\n",
       "      <th>neighbourhood</th>\n",
       "      <th>room_type_encoded</th>\n",
       "      <th>price</th>\n",
       "      <th>bathrooms</th>\n",
       "      <th>accommodates</th>\n",
       "      <th>bedrooms</th>\n",
       "      <th>beds</th>\n",
       "      <th>...</th>\n",
       "      <th>neighbourhood_Willowbrook</th>\n",
       "      <th>neighbourhood_Windsor Terrace</th>\n",
       "      <th>neighbourhood_Woodhaven</th>\n",
       "      <th>neighbourhood_Woodlawn</th>\n",
       "      <th>neighbourhood_Woodrow</th>\n",
       "      <th>neighbourhood_Woodside</th>\n",
       "      <th>borough_Brooklyn</th>\n",
       "      <th>borough_Manhattan</th>\n",
       "      <th>borough_Queens</th>\n",
       "      <th>borough_Staten Island</th>\n",
       "    </tr>\n",
       "  </thead>\n",
       "  <tbody>\n",
       "    <tr>\n",
       "      <th>0</th>\n",
       "      <td>5136</td>\n",
       "      <td>Spacious Brooklyn Duplex, Patio + Garden</td>\n",
       "      <td>Brooklyn</td>\n",
       "      <td>Sunset Park</td>\n",
       "      <td>0</td>\n",
       "      <td>275</td>\n",
       "      <td>1.0</td>\n",
       "      <td>4</td>\n",
       "      <td>2.0</td>\n",
       "      <td>2.0</td>\n",
       "      <td>...</td>\n",
       "      <td>0</td>\n",
       "      <td>0</td>\n",
       "      <td>0</td>\n",
       "      <td>0</td>\n",
       "      <td>0</td>\n",
       "      <td>0</td>\n",
       "      <td>1</td>\n",
       "      <td>0</td>\n",
       "      <td>0</td>\n",
       "      <td>0</td>\n",
       "    </tr>\n",
       "    <tr>\n",
       "      <th>1</th>\n",
       "      <td>5203</td>\n",
       "      <td>Cozy Clean Guest Room - Family Apt</td>\n",
       "      <td>Manhattan</td>\n",
       "      <td>Upper West Side</td>\n",
       "      <td>1</td>\n",
       "      <td>75</td>\n",
       "      <td>1.0</td>\n",
       "      <td>1</td>\n",
       "      <td>1.0</td>\n",
       "      <td>1.0</td>\n",
       "      <td>...</td>\n",
       "      <td>0</td>\n",
       "      <td>0</td>\n",
       "      <td>0</td>\n",
       "      <td>0</td>\n",
       "      <td>0</td>\n",
       "      <td>0</td>\n",
       "      <td>0</td>\n",
       "      <td>1</td>\n",
       "      <td>0</td>\n",
       "      <td>0</td>\n",
       "    </tr>\n",
       "    <tr>\n",
       "      <th>2</th>\n",
       "      <td>5121</td>\n",
       "      <td>BlissArtsSpace!</td>\n",
       "      <td>Brooklyn</td>\n",
       "      <td>Bedford-Stuyvesant</td>\n",
       "      <td>1</td>\n",
       "      <td>60</td>\n",
       "      <td>1.0</td>\n",
       "      <td>2</td>\n",
       "      <td>1.0</td>\n",
       "      <td>1.0</td>\n",
       "      <td>...</td>\n",
       "      <td>0</td>\n",
       "      <td>0</td>\n",
       "      <td>0</td>\n",
       "      <td>0</td>\n",
       "      <td>0</td>\n",
       "      <td>0</td>\n",
       "      <td>1</td>\n",
       "      <td>0</td>\n",
       "      <td>0</td>\n",
       "      <td>0</td>\n",
       "    </tr>\n",
       "    <tr>\n",
       "      <th>3</th>\n",
       "      <td>5178</td>\n",
       "      <td>Large Furnished Room Near B'way</td>\n",
       "      <td>Manhattan</td>\n",
       "      <td>Midtown</td>\n",
       "      <td>1</td>\n",
       "      <td>68</td>\n",
       "      <td>1.0</td>\n",
       "      <td>2</td>\n",
       "      <td>1.0</td>\n",
       "      <td>1.0</td>\n",
       "      <td>...</td>\n",
       "      <td>0</td>\n",
       "      <td>0</td>\n",
       "      <td>0</td>\n",
       "      <td>0</td>\n",
       "      <td>0</td>\n",
       "      <td>0</td>\n",
       "      <td>0</td>\n",
       "      <td>1</td>\n",
       "      <td>0</td>\n",
       "      <td>0</td>\n",
       "    </tr>\n",
       "    <tr>\n",
       "      <th>4</th>\n",
       "      <td>6872</td>\n",
       "      <td>Uptown Sanctuary w/ Private Bath (Month to Month)</td>\n",
       "      <td>Manhattan</td>\n",
       "      <td>East Harlem</td>\n",
       "      <td>1</td>\n",
       "      <td>65</td>\n",
       "      <td>1.0</td>\n",
       "      <td>1</td>\n",
       "      <td>1.0</td>\n",
       "      <td>1.0</td>\n",
       "      <td>...</td>\n",
       "      <td>0</td>\n",
       "      <td>0</td>\n",
       "      <td>0</td>\n",
       "      <td>0</td>\n",
       "      <td>0</td>\n",
       "      <td>0</td>\n",
       "      <td>0</td>\n",
       "      <td>1</td>\n",
       "      <td>0</td>\n",
       "      <td>0</td>\n",
       "    </tr>\n",
       "  </tbody>\n",
       "</table>\n",
       "<p>5 rows × 235 columns</p>\n",
       "</div>"
      ],
      "text/plain": [
       "     id                                               name    borough  \\\n",
       "0  5136           Spacious Brooklyn Duplex, Patio + Garden   Brooklyn   \n",
       "1  5203                 Cozy Clean Guest Room - Family Apt  Manhattan   \n",
       "2  5121                                    BlissArtsSpace!   Brooklyn   \n",
       "3  5178                   Large Furnished Room Near B'way　  Manhattan   \n",
       "4  6872  Uptown Sanctuary w/ Private Bath (Month to Month)  Manhattan   \n",
       "\n",
       "        neighbourhood  room_type_encoded  price  bathrooms  accommodates  \\\n",
       "0         Sunset Park                  0    275        1.0             4   \n",
       "1     Upper West Side                  1     75        1.0             1   \n",
       "2  Bedford-Stuyvesant                  1     60        1.0             2   \n",
       "3             Midtown                  1     68        1.0             2   \n",
       "4         East Harlem                  1     65        1.0             1   \n",
       "\n",
       "   bedrooms  beds  ...  neighbourhood_Willowbrook  \\\n",
       "0       2.0   2.0  ...                          0   \n",
       "1       1.0   1.0  ...                          0   \n",
       "2       1.0   1.0  ...                          0   \n",
       "3       1.0   1.0  ...                          0   \n",
       "4       1.0   1.0  ...                          0   \n",
       "\n",
       "   neighbourhood_Windsor Terrace  neighbourhood_Woodhaven  \\\n",
       "0                              0                        0   \n",
       "1                              0                        0   \n",
       "2                              0                        0   \n",
       "3                              0                        0   \n",
       "4                              0                        0   \n",
       "\n",
       "   neighbourhood_Woodlawn  neighbourhood_Woodrow  neighbourhood_Woodside  \\\n",
       "0                       0                      0                       0   \n",
       "1                       0                      0                       0   \n",
       "2                       0                      0                       0   \n",
       "3                       0                      0                       0   \n",
       "4                       0                      0                       0   \n",
       "\n",
       "   borough_Brooklyn  borough_Manhattan  borough_Queens  borough_Staten Island  \n",
       "0                 1                  0               0                      0  \n",
       "1                 0                  1               0                      0  \n",
       "2                 1                  0               0                      0  \n",
       "3                 0                  1               0                      0  \n",
       "4                 0                  1               0                      0  \n",
       "\n",
       "[5 rows x 235 columns]"
      ]
     },
     "execution_count": 2,
     "metadata": {},
     "output_type": "execute_result"
    }
   ],
   "source": [
    "listing_data = pd.read_csv(\"./data/modelling_data\")\n",
    "listing_data.head()"
   ]
  },
  {
   "cell_type": "code",
   "execution_count": 3,
   "metadata": {},
   "outputs": [],
   "source": [
    "listings = listing_data.drop(['id','name','borough','neighbourhood'], axis=1)"
   ]
  },
  {
   "cell_type": "code",
   "execution_count": 4,
   "metadata": {},
   "outputs": [],
   "source": [
    "X_train, X_test, y_train, y_test = train_test_split(listings.drop(columns='price'),\n",
    "                                                    listings.price, test_size=0.3,\n",
    "                                                    random_state=18)"
   ]
  },
  {
   "attachments": {},
   "cell_type": "markdown",
   "metadata": {},
   "source": [
    "In the previous step, the random forest regression with default parameters had the following performance metrics:\n",
    "- R-squared: 0.46376569900475006\n",
    "- RMSE: 120.93503657270503\n",
    "- MAE: 68.84\n",
    "\n",
    "I will perform a gridsearchCV to tune the parameters and calculate the new performance."
   ]
  },
  {
   "cell_type": "code",
   "execution_count": 5,
   "metadata": {},
   "outputs": [
    {
     "name": "stdout",
     "output_type": "stream",
     "text": [
      "Best hyperparameters: {'max_depth': 15, 'n_estimators': 100}\n",
      "Best score: 0.5207183542299245\n"
     ]
    }
   ],
   "source": [
    "from sklearn.ensemble import RandomForestRegressor\n",
    "from sklearn.model_selection import GridSearchCV\n",
    "\n",
    "param_grid = {\n",
    "    'n_estimators': np.arange(50,110,10),\n",
    "    'max_depth': np.arange(5,25,5)\n",
    "}\n",
    "\n",
    "rf = RandomForestRegressor()\n",
    "\n",
    "grid_search = GridSearchCV(estimator=rf, param_grid=param_grid, cv=5, n_jobs=-1)\n",
    "grid_search.fit(X_train, y_train)\n",
    "\n",
    "print(\"Best hyperparameters:\", grid_search.best_params_)\n",
    "print(\"Best score:\", grid_search.best_score_)"
   ]
  },
  {
   "cell_type": "code",
   "execution_count": 5,
   "metadata": {},
   "outputs": [
    {
     "name": "stdout",
     "output_type": "stream",
     "text": [
      "R-squared: 0.4789946025395503\n",
      "RMSE: 119.2054073415687\n",
      "Using these parameters, this random forest model's predictions would be off by an average of $68.51 from the true values\n"
     ]
    }
   ],
   "source": [
    "rfr = RandomForestRegressor(random_state=18)\n",
    "# rfr.set_params(**grid_search.best_params_)\n",
    "rfr.set_params(**{'max_depth': 15, 'n_estimators': 100})\n",
    "rfr.fit(X_train, y_train)\n",
    "y_pred = rfr.predict(X_test)\n",
    "\n",
    "\n",
    "r2 = r2_score(y_test, y_pred)\n",
    "mse = mean_squared_error(y_test, y_pred)\n",
    "print(\"R-squared:\", r2)\n",
    "print(\"RMSE:\", np.sqrt(mse))\n",
    "mae = mean_absolute_error(y_test, y_pred)\n",
    "print(\"Using these parameters, this random forest model's predictions would be off by an average of ${}\".format(round(mae,2)))"
   ]
  },
  {
   "attachments": {},
   "cell_type": "markdown",
   "metadata": {},
   "source": [
    "This is a slight improvement. Will try engineering additional features."
   ]
  },
  {
   "attachments": {},
   "cell_type": "markdown",
   "metadata": {},
   "source": [
    "# Engineering and adding more features "
   ]
  },
  {
   "attachments": {},
   "cell_type": "markdown",
   "metadata": {},
   "source": [
    "The following are popular landmarks from each borough of New York City: <br>\n",
    "\n",
    "- **Manhattan**: Empire State Building (40.7485° N, 73.9857° W)\n",
    "- **Brooklyn**: Brooklyn Bridge (40.7061° N, 73.9969° W)\n",
    "- **Queens**: Flushing Meadows-Corona Park (40.7400° N, 73.8407° W)\n",
    "- **The Bronx**: Yankee Stadium (40.8296° N, 73.9262° W)\n",
    "- **Staten Island**: Staten Island Ferry (40.6437° N, 74.0719° W)"
   ]
  },
  {
   "cell_type": "code",
   "execution_count": 6,
   "metadata": {},
   "outputs": [
    {
     "data": {
      "text/html": [
       "<div>\n",
       "<style scoped>\n",
       "    .dataframe tbody tr th:only-of-type {\n",
       "        vertical-align: middle;\n",
       "    }\n",
       "\n",
       "    .dataframe tbody tr th {\n",
       "        vertical-align: top;\n",
       "    }\n",
       "\n",
       "    .dataframe thead th {\n",
       "        text-align: right;\n",
       "    }\n",
       "</style>\n",
       "<table border=\"1\" class=\"dataframe\">\n",
       "  <thead>\n",
       "    <tr style=\"text-align: right;\">\n",
       "      <th></th>\n",
       "      <th>id</th>\n",
       "      <th>name</th>\n",
       "      <th>longitude</th>\n",
       "      <th>latitude</th>\n",
       "      <th>price</th>\n",
       "      <th>borough</th>\n",
       "    </tr>\n",
       "  </thead>\n",
       "  <tbody>\n",
       "    <tr>\n",
       "      <th>0</th>\n",
       "      <td>5136</td>\n",
       "      <td>Spacious Brooklyn Duplex, Patio + Garden</td>\n",
       "      <td>-73.99454</td>\n",
       "      <td>40.66265</td>\n",
       "      <td>275</td>\n",
       "      <td>Brooklyn</td>\n",
       "    </tr>\n",
       "    <tr>\n",
       "      <th>1</th>\n",
       "      <td>5203</td>\n",
       "      <td>Cozy Clean Guest Room - Family Apt</td>\n",
       "      <td>-73.96751</td>\n",
       "      <td>40.80380</td>\n",
       "      <td>75</td>\n",
       "      <td>Manhattan</td>\n",
       "    </tr>\n",
       "    <tr>\n",
       "      <th>2</th>\n",
       "      <td>5121</td>\n",
       "      <td>BlissArtsSpace!</td>\n",
       "      <td>-73.95512</td>\n",
       "      <td>40.68535</td>\n",
       "      <td>60</td>\n",
       "      <td>Brooklyn</td>\n",
       "    </tr>\n",
       "    <tr>\n",
       "      <th>3</th>\n",
       "      <td>5178</td>\n",
       "      <td>Large Furnished Room Near B'way</td>\n",
       "      <td>-73.98317</td>\n",
       "      <td>40.76457</td>\n",
       "      <td>68</td>\n",
       "      <td>Manhattan</td>\n",
       "    </tr>\n",
       "    <tr>\n",
       "      <th>4</th>\n",
       "      <td>6872</td>\n",
       "      <td>Uptown Sanctuary w/ Private Bath (Month to Month)</td>\n",
       "      <td>-73.94255</td>\n",
       "      <td>40.80107</td>\n",
       "      <td>65</td>\n",
       "      <td>Manhattan</td>\n",
       "    </tr>\n",
       "  </tbody>\n",
       "</table>\n",
       "</div>"
      ],
      "text/plain": [
       "     id                                               name  longitude  \\\n",
       "0  5136           Spacious Brooklyn Duplex, Patio + Garden  -73.99454   \n",
       "1  5203                 Cozy Clean Guest Room - Family Apt  -73.96751   \n",
       "2  5121                                    BlissArtsSpace!  -73.95512   \n",
       "3  5178                   Large Furnished Room Near B'way　  -73.98317   \n",
       "4  6872  Uptown Sanctuary w/ Private Bath (Month to Month)  -73.94255   \n",
       "\n",
       "   latitude  price    borough  \n",
       "0  40.66265    275   Brooklyn  \n",
       "1  40.80380     75  Manhattan  \n",
       "2  40.68535     60   Brooklyn  \n",
       "3  40.76457     68  Manhattan  \n",
       "4  40.80107     65  Manhattan  "
      ]
     },
     "execution_count": 6,
     "metadata": {},
     "output_type": "execute_result"
    }
   ],
   "source": [
    "coordinate_data = pd.read_csv('./data/coordinate_data')\n",
    "coordinate_data.head()"
   ]
  },
  {
   "cell_type": "code",
   "execution_count": 7,
   "metadata": {},
   "outputs": [],
   "source": [
    "landmarks = {\n",
    "    'Manhattan': {'name': 'Empire State Building', 'lat': 40.7485, 'lon': -73.9857},\n",
    "    'Brooklyn': {'name': 'Brooklyn Bridge', 'lat': 40.7061, 'lon': -73.9969},\n",
    "    'Queens': {'name': 'Flushing Meadows - Corona Park', 'lat': 40.7400, 'lon': -73.8407},\n",
    "    'Bronx': {'name': 'Yankee Stadium', 'lat': 40.8296, 'lon': -73.9262},\n",
    "    'Staten Island': {'name': 'Staten Island Ferry', 'lat': 40.6437, 'lon': -74.0719}\n",
    "}"
   ]
  },
  {
   "cell_type": "code",
   "execution_count": 8,
   "metadata": {},
   "outputs": [],
   "source": [
    "import math\n",
    "\n",
    "# defining a function to calculate the distance between a listing and its respective landmark\n",
    "def haversine_distance(row):\n",
    "    # getting the name and coordinate of landmark for the borough of the listing\n",
    "    borough = row['borough']\n",
    "    landmark_name = landmarks[borough]['name']\n",
    "    landmark_lat = landmarks[borough]['lat']\n",
    "    landmark_lon = landmarks[borough]['lon']\n",
    "\n",
    "    # getting the lat and lon of the listing\n",
    "    lat = row['latitude']\n",
    "    lon = row['longitude']\n",
    "    \n",
    "    # converting the lat and lon to radians\n",
    "    lat, lon, landmark_lat, landmark_lon = map(math.radians, [lat, lon, landmark_lat, landmark_lon])\n",
    "\n",
    "    # Haversine formula\n",
    "    dlon = landmark_lon - lon\n",
    "    dlat = landmark_lat - lat\n",
    "    a = math.sin(dlat / 2) ** 2 + math.cos(lat) * math.cos(landmark_lat) * math.sin(dlon / 2) ** 2\n",
    "    c = 2 *math.asin(math.sqrt(a))\n",
    "    r = 6371 # earth radius\n",
    "    distance = c * r\n",
    "    return distance, landmark_name"
   ]
  },
  {
   "cell_type": "code",
   "execution_count": 9,
   "metadata": {},
   "outputs": [],
   "source": [
    "# Calculate the distance between each listing and its respective landmark\n",
    "coordinate_data[['landmark_distance_km', 'landmark_name']] = coordinate_data.apply(haversine_distance, axis=1, result_type='expand')"
   ]
  },
  {
   "cell_type": "code",
   "execution_count": 10,
   "metadata": {},
   "outputs": [
    {
     "data": {
      "text/html": [
       "<div>\n",
       "<style scoped>\n",
       "    .dataframe tbody tr th:only-of-type {\n",
       "        vertical-align: middle;\n",
       "    }\n",
       "\n",
       "    .dataframe tbody tr th {\n",
       "        vertical-align: top;\n",
       "    }\n",
       "\n",
       "    .dataframe thead th {\n",
       "        text-align: right;\n",
       "    }\n",
       "</style>\n",
       "<table border=\"1\" class=\"dataframe\">\n",
       "  <thead>\n",
       "    <tr style=\"text-align: right;\">\n",
       "      <th></th>\n",
       "      <th>id</th>\n",
       "      <th>name</th>\n",
       "      <th>longitude</th>\n",
       "      <th>latitude</th>\n",
       "      <th>price</th>\n",
       "      <th>borough</th>\n",
       "      <th>landmark_distance_km</th>\n",
       "      <th>landmark_name</th>\n",
       "    </tr>\n",
       "  </thead>\n",
       "  <tbody>\n",
       "    <tr>\n",
       "      <th>0</th>\n",
       "      <td>5136</td>\n",
       "      <td>Spacious Brooklyn Duplex, Patio + Garden</td>\n",
       "      <td>-73.99454</td>\n",
       "      <td>40.66265</td>\n",
       "      <td>275</td>\n",
       "      <td>Brooklyn</td>\n",
       "      <td>4.835516</td>\n",
       "      <td>Brooklyn Bridge</td>\n",
       "    </tr>\n",
       "    <tr>\n",
       "      <th>1</th>\n",
       "      <td>5203</td>\n",
       "      <td>Cozy Clean Guest Room - Family Apt</td>\n",
       "      <td>-73.96751</td>\n",
       "      <td>40.80380</td>\n",
       "      <td>75</td>\n",
       "      <td>Manhattan</td>\n",
       "      <td>6.336971</td>\n",
       "      <td>Empire State Building</td>\n",
       "    </tr>\n",
       "    <tr>\n",
       "      <th>2</th>\n",
       "      <td>5121</td>\n",
       "      <td>BlissArtsSpace!</td>\n",
       "      <td>-73.95512</td>\n",
       "      <td>40.68535</td>\n",
       "      <td>60</td>\n",
       "      <td>Brooklyn</td>\n",
       "      <td>4.210733</td>\n",
       "      <td>Brooklyn Bridge</td>\n",
       "    </tr>\n",
       "    <tr>\n",
       "      <th>3</th>\n",
       "      <td>5178</td>\n",
       "      <td>Large Furnished Room Near B'way</td>\n",
       "      <td>-73.98317</td>\n",
       "      <td>40.76457</td>\n",
       "      <td>68</td>\n",
       "      <td>Manhattan</td>\n",
       "      <td>1.799564</td>\n",
       "      <td>Empire State Building</td>\n",
       "    </tr>\n",
       "    <tr>\n",
       "      <th>4</th>\n",
       "      <td>6872</td>\n",
       "      <td>Uptown Sanctuary w/ Private Bath (Month to Month)</td>\n",
       "      <td>-73.94255</td>\n",
       "      <td>40.80107</td>\n",
       "      <td>65</td>\n",
       "      <td>Manhattan</td>\n",
       "      <td>6.882754</td>\n",
       "      <td>Empire State Building</td>\n",
       "    </tr>\n",
       "  </tbody>\n",
       "</table>\n",
       "</div>"
      ],
      "text/plain": [
       "     id                                               name  longitude  \\\n",
       "0  5136           Spacious Brooklyn Duplex, Patio + Garden  -73.99454   \n",
       "1  5203                 Cozy Clean Guest Room - Family Apt  -73.96751   \n",
       "2  5121                                    BlissArtsSpace!  -73.95512   \n",
       "3  5178                   Large Furnished Room Near B'way　  -73.98317   \n",
       "4  6872  Uptown Sanctuary w/ Private Bath (Month to Month)  -73.94255   \n",
       "\n",
       "   latitude  price    borough  landmark_distance_km          landmark_name  \n",
       "0  40.66265    275   Brooklyn              4.835516        Brooklyn Bridge  \n",
       "1  40.80380     75  Manhattan              6.336971  Empire State Building  \n",
       "2  40.68535     60   Brooklyn              4.210733        Brooklyn Bridge  \n",
       "3  40.76457     68  Manhattan              1.799564  Empire State Building  \n",
       "4  40.80107     65  Manhattan              6.882754  Empire State Building  "
      ]
     },
     "execution_count": 10,
     "metadata": {},
     "output_type": "execute_result"
    }
   ],
   "source": [
    "coordinate_data.head()"
   ]
  },
  {
   "cell_type": "code",
   "execution_count": 13,
   "metadata": {},
   "outputs": [
    {
     "data": {
      "text/plain": [
       "37459"
      ]
     },
     "execution_count": 13,
     "metadata": {},
     "output_type": "execute_result"
    }
   ],
   "source": [
    "coordinate_data['id'].nunique()"
   ]
  },
  {
   "cell_type": "code",
   "execution_count": 14,
   "metadata": {},
   "outputs": [],
   "source": [
    "df_df = pd.merge(listing_data, coordinate_data[['landmark_distance_km','id']], on=['id'], how='left')"
   ]
  },
  {
   "cell_type": "code",
   "execution_count": 15,
   "metadata": {},
   "outputs": [],
   "source": [
    "df = df_df.drop([\"id\",\"name\", \"borough\", \"neighbourhood\"], axis=1)"
   ]
  },
  {
   "cell_type": "code",
   "execution_count": 20,
   "metadata": {},
   "outputs": [],
   "source": [
    "X = df.drop(['price'], axis=1)\n",
    "y = df['price']\n",
    "\n",
    "X_train, X_test, y_train, y_test = train_test_split(X, y, test_size=0.3, random_state=18)"
   ]
  },
  {
   "cell_type": "code",
   "execution_count": 16,
   "metadata": {},
   "outputs": [
    {
     "name": "stdout",
     "output_type": "stream",
     "text": [
      "Best hyperparameters: {'max_depth': 10, 'n_estimators': 100}\n",
      "Best score: 0.5449365349267903\n"
     ]
    }
   ],
   "source": [
    "param_grid = {\n",
    "    'n_estimators': np.arange(50,110,10),\n",
    "    'max_depth': np.arange(5,25,5)\n",
    "}\n",
    "\n",
    "grid_search = GridSearchCV(estimator=RandomForestRegressor(), param_grid=param_grid, cv=5, n_jobs=-1)\n",
    "grid_search.fit(X_train, y_train)\n",
    "\n",
    "print(\"Best hyperparameters:\", grid_search.best_params_)\n",
    "print(\"Best score:\", grid_search.best_score_)"
   ]
  },
  {
   "attachments": {},
   "cell_type": "markdown",
   "metadata": {},
   "source": [
    "As this Grid Search produced a better score than the previous, I will use the new best parameters."
   ]
  },
  {
   "cell_type": "code",
   "execution_count": 21,
   "metadata": {},
   "outputs": [],
   "source": [
    "rfr = RandomForestRegressor(random_state=18)\n",
    "rfr.set_params(max_depth=10, n_estimators=100)\n",
    "# rfr.set_params(**grid_search.best_params_)\n",
    "rfr.fit(X_train, y_train)\n",
    "y_pred = rfr.predict(X_test)"
   ]
  },
  {
   "cell_type": "code",
   "execution_count": 22,
   "metadata": {},
   "outputs": [
    {
     "name": "stdout",
     "output_type": "stream",
     "text": [
      "R-squared: 0.5170204167335457\n",
      "RMSE: 114.77286719744308\n",
      "This random forest model's predictions would be off by an average of $66.91\n"
     ]
    }
   ],
   "source": [
    "from sklearn.metrics import r2_score, mean_squared_error\n",
    "r2 = r2_score(y_test, y_pred)\n",
    "mse = mean_squared_error(y_test, y_pred)\n",
    "print(\"R-squared:\", r2)\n",
    "print(\"RMSE:\", np.sqrt(mse))\n",
    "mae = mean_absolute_error(y_test, y_pred)\n",
    "print(\"This random forest model's predictions would be off by an average of ${}\".format(round(mae,2)))"
   ]
  },
  {
   "attachments": {},
   "cell_type": "markdown",
   "metadata": {},
   "source": [
    "This model's performance has been the best so far. \n",
    "\n",
    "Finally, I'll try the popular gradient boosting model with XGBoost to see if it improves upon the RandomForest."
   ]
  },
  {
   "cell_type": "code",
   "execution_count": 19,
   "metadata": {},
   "outputs": [
    {
     "name": "stdout",
     "output_type": "stream",
     "text": [
      "{'learning_rate': 0.05, 'max_depth': 7, 'n_estimators': 200}\n"
     ]
    }
   ],
   "source": [
    "import xgboost as xgb\n",
    "\n",
    "# Define the parameter grid to search over\n",
    "param_grid = {\n",
    "    'max_depth': np.arange(3,8),\n",
    "    'learning_rate': [0.01, 0.05, 0.1,0.3],\n",
    "    'n_estimators': [50,100,200]\n",
    "}\n",
    "\n",
    "# Use GridSearchCV to search over the parameter grid\n",
    "grid_search = GridSearchCV(\n",
    "    estimator=xgb.XGBRegressor(), \n",
    "    param_grid=param_grid, \n",
    "    cv=5, \n",
    "    scoring='neg_mean_squared_error',\n",
    "    n_jobs=-1\n",
    ")\n",
    "\n",
    "grid_search.fit(X_train, y_train)\n",
    "# Get the best hyperparameters and corresponding model\n",
    "best_params = grid_search.best_params_\n",
    "best_model = grid_search.best_estimator_\n",
    "\n",
    "print(best_params)"
   ]
  },
  {
   "cell_type": "code",
   "execution_count": 19,
   "metadata": {},
   "outputs": [
    {
     "name": "stdout",
     "output_type": "stream",
     "text": [
      "Root mean squared error: 113.20814741076195\n",
      "The best model's predictions would be off by an average of $66.22.\n"
     ]
    }
   ],
   "source": [
    "# Fit the grid search object to the training data\n",
    "# xgb_reg = xgb.XGBRegressor(**grid_search.best_params_)\n",
    "import xgboost as xgb\n",
    "xgb_reg = xgb.XGBRegressor(max_depth=7, learning_rate=0.05, n_estimators=200)\n",
    "xgb_reg.fit(X_train, y_train)\n",
    "\n",
    "# Evaluate the model on the test data\n",
    "y_pred = xgb_reg.predict(X_test)\n",
    "mse = mean_squared_error(y_test, y_pred)\n",
    "rmse = np.sqrt(mse)\n",
    "mae = mean_absolute_error(y_test, y_pred)\n",
    "print(f\"Root mean squared error: {rmse}\")\n",
    "print(\"The best model's predictions would be off by an average of ${}.\".format(round(mae,2)))"
   ]
  },
  {
   "attachments": {},
   "cell_type": "markdown",
   "metadata": {},
   "source": [
    "There is a minor performance improvement with the boosted model, however the RFR model performs quicker and is easier to use.  "
   ]
  },
  {
   "attachments": {},
   "cell_type": "markdown",
   "metadata": {},
   "source": [
    "## Feature Analysis"
   ]
  },
  {
   "cell_type": "code",
   "execution_count": 46,
   "metadata": {},
   "outputs": [
    {
     "data": {
      "image/png": "[encoded data removed]",
      "text/plain": [
       "<Figure size 640x480 with 1 Axes>"
      ]
     },
     "metadata": {},
     "output_type": "display_data"
    }
   ],
   "source": [
    "import numpy as np\n",
    "import matplotlib.pyplot as plt\n",
    "\n",
    "# Get feature importances from our random forest model\n",
    "importances = rfr.feature_importances_\n",
    "#plot the top ten most important features in a horizontal bar chart\n",
    "plt.barh(X.columns[np.argsort(importances)[::-1][:10]], importances[np.argsort(importances)[::-1][:10]])\n",
    "#label the chart\n",
    "plt.title('Top 10 Feature Importances')\n",
    "#label the axes\n",
    "plt.xlabel('Importance')\n",
    "plt.ylabel('Feature')\n",
    "#display the plot\n",
    "plt.show()"
   ]
  },
  {
   "attachments": {},
   "cell_type": "markdown",
   "metadata": {},
   "source": [
    "## Profitability Analysis\n",
    "\n",
    "To do this, I will need to make the naive assumption that the company's model current model is average price using neighbourhood and beds."
   ]
  },
  {
   "attachments": {},
   "cell_type": "markdown",
   "metadata": {},
   "source": [
    "Then I will conduct a comparison of the profitability by considering different scenarios.\n",
    "\n",
    "First, I will by assuming a potential decrease in bookings when my predicted price is higher than the company's assumption. Next I will:\n",
    "\n",
    "- Calculate the profitability of my model's predictions taking into account the potential decrease in bookings.\n",
    "\n",
    "- Calculate the profitability of the company's model (mean price for neighbourhood & beds) without considering any decrease in bookings.\n",
    "\n",
    "- Compare profitability results by calculating the difference in profits between the two scenarios.\n",
    "\n",
    "Finally, I will analyze the profit difference to understand the impact of my model's predictions. \n",
    "\n",
    "If the profit difference is positive, that indicates my model's predictions generates higher profit despite the potential decrease in bookings."
   ]
  },
  {
   "cell_type": "code",
   "execution_count": 23,
   "metadata": {},
   "outputs": [],
   "source": [
    "#get X_test indices\n",
    "indices = X_test.index\n",
    "X_test_subset = df_df.loc[indices].copy()"
   ]
  },
  {
   "cell_type": "code",
   "execution_count": 24,
   "metadata": {},
   "outputs": [],
   "source": [
    "X_test_subset['predicted_price'] = y_pred"
   ]
  },
  {
   "cell_type": "code",
   "execution_count": 25,
   "metadata": {},
   "outputs": [],
   "source": [
    "X_test_subset['naive_price'] = X_test_subset.groupby(['neighbourhood', 'beds'])['price'].transform('mean')"
   ]
  },
  {
   "cell_type": "code",
   "execution_count": 26,
   "metadata": {},
   "outputs": [
    {
     "data": {
      "text/html": [
       "<div>\n",
       "<style scoped>\n",
       "    .dataframe tbody tr th:only-of-type {\n",
       "        vertical-align: middle;\n",
       "    }\n",
       "\n",
       "    .dataframe tbody tr th {\n",
       "        vertical-align: top;\n",
       "    }\n",
       "\n",
       "    .dataframe thead th {\n",
       "        text-align: right;\n",
       "    }\n",
       "</style>\n",
       "<table border=\"1\" class=\"dataframe\">\n",
       "  <thead>\n",
       "    <tr style=\"text-align: right;\">\n",
       "      <th></th>\n",
       "      <th>price</th>\n",
       "      <th>predicted_price</th>\n",
       "      <th>naive_price</th>\n",
       "    </tr>\n",
       "  </thead>\n",
       "  <tbody>\n",
       "    <tr>\n",
       "      <th>31026</th>\n",
       "      <td>55</td>\n",
       "      <td>63.210615</td>\n",
       "      <td>74.640000</td>\n",
       "    </tr>\n",
       "    <tr>\n",
       "      <th>11201</th>\n",
       "      <td>35</td>\n",
       "      <td>70.713348</td>\n",
       "      <td>86.651515</td>\n",
       "    </tr>\n",
       "    <tr>\n",
       "      <th>17640</th>\n",
       "      <td>125</td>\n",
       "      <td>185.455387</td>\n",
       "      <td>159.400000</td>\n",
       "    </tr>\n",
       "    <tr>\n",
       "      <th>15547</th>\n",
       "      <td>285</td>\n",
       "      <td>319.910872</td>\n",
       "      <td>423.524590</td>\n",
       "    </tr>\n",
       "    <tr>\n",
       "      <th>13292</th>\n",
       "      <td>85</td>\n",
       "      <td>253.908760</td>\n",
       "      <td>202.413953</td>\n",
       "    </tr>\n",
       "    <tr>\n",
       "      <th>...</th>\n",
       "      <td>...</td>\n",
       "      <td>...</td>\n",
       "      <td>...</td>\n",
       "    </tr>\n",
       "    <tr>\n",
       "      <th>35631</th>\n",
       "      <td>205</td>\n",
       "      <td>125.893691</td>\n",
       "      <td>96.906250</td>\n",
       "    </tr>\n",
       "    <tr>\n",
       "      <th>26904</th>\n",
       "      <td>215</td>\n",
       "      <td>195.308864</td>\n",
       "      <td>208.571429</td>\n",
       "    </tr>\n",
       "    <tr>\n",
       "      <th>18350</th>\n",
       "      <td>268</td>\n",
       "      <td>228.292791</td>\n",
       "      <td>208.138889</td>\n",
       "    </tr>\n",
       "    <tr>\n",
       "      <th>15784</th>\n",
       "      <td>250</td>\n",
       "      <td>227.163839</td>\n",
       "      <td>180.677966</td>\n",
       "    </tr>\n",
       "    <tr>\n",
       "      <th>18134</th>\n",
       "      <td>158</td>\n",
       "      <td>78.533015</td>\n",
       "      <td>94.587156</td>\n",
       "    </tr>\n",
       "  </tbody>\n",
       "</table>\n",
       "<p>11238 rows × 3 columns</p>\n",
       "</div>"
      ],
      "text/plain": [
       "       price  predicted_price  naive_price\n",
       "31026     55        63.210615    74.640000\n",
       "11201     35        70.713348    86.651515\n",
       "17640    125       185.455387   159.400000\n",
       "15547    285       319.910872   423.524590\n",
       "13292     85       253.908760   202.413953\n",
       "...      ...              ...          ...\n",
       "35631    205       125.893691    96.906250\n",
       "26904    215       195.308864   208.571429\n",
       "18350    268       228.292791   208.138889\n",
       "15784    250       227.163839   180.677966\n",
       "18134    158        78.533015    94.587156\n",
       "\n",
       "[11238 rows x 3 columns]"
      ]
     },
     "execution_count": 26,
     "metadata": {},
     "output_type": "execute_result"
    }
   ],
   "source": [
    "X_test_subset[[\"price\", \"predicted_price\", \"naive_price\"]]"
   ]
  },
  {
   "attachments": {},
   "cell_type": "markdown",
   "metadata": {},
   "source": [
    "PART 2"
   ]
  },
  {
   "cell_type": "code",
   "execution_count": 27,
   "metadata": {},
   "outputs": [
    {
     "data": {
      "text/html": [
       "<div>\n",
       "<style scoped>\n",
       "    .dataframe tbody tr th:only-of-type {\n",
       "        vertical-align: middle;\n",
       "    }\n",
       "\n",
       "    .dataframe tbody tr th {\n",
       "        vertical-align: top;\n",
       "    }\n",
       "\n",
       "    .dataframe thead th {\n",
       "        text-align: right;\n",
       "    }\n",
       "</style>\n",
       "<table border=\"1\" class=\"dataframe\">\n",
       "  <thead>\n",
       "    <tr style=\"text-align: right;\">\n",
       "      <th></th>\n",
       "      <th>listing_id</th>\n",
       "      <th>date</th>\n",
       "      <th>available</th>\n",
       "      <th>price</th>\n",
       "      <th>adjusted_price</th>\n",
       "      <th>minimum_nights</th>\n",
       "      <th>maximum_nights</th>\n",
       "    </tr>\n",
       "  </thead>\n",
       "  <tbody>\n",
       "    <tr>\n",
       "      <th>0</th>\n",
       "      <td>5136</td>\n",
       "      <td>2022-12-04</td>\n",
       "      <td>f</td>\n",
       "      <td>$275.00</td>\n",
       "      <td>$275.00</td>\n",
       "      <td>21.0</td>\n",
       "      <td>1125.0</td>\n",
       "    </tr>\n",
       "    <tr>\n",
       "      <th>1</th>\n",
       "      <td>2595</td>\n",
       "      <td>2022-12-05</td>\n",
       "      <td>t</td>\n",
       "      <td>$175.00</td>\n",
       "      <td>$175.00</td>\n",
       "      <td>30.0</td>\n",
       "      <td>1125.0</td>\n",
       "    </tr>\n",
       "    <tr>\n",
       "      <th>2</th>\n",
       "      <td>2595</td>\n",
       "      <td>2022-12-06</td>\n",
       "      <td>t</td>\n",
       "      <td>$175.00</td>\n",
       "      <td>$175.00</td>\n",
       "      <td>30.0</td>\n",
       "      <td>1125.0</td>\n",
       "    </tr>\n",
       "    <tr>\n",
       "      <th>3</th>\n",
       "      <td>2595</td>\n",
       "      <td>2022-12-07</td>\n",
       "      <td>t</td>\n",
       "      <td>$175.00</td>\n",
       "      <td>$175.00</td>\n",
       "      <td>30.0</td>\n",
       "      <td>1125.0</td>\n",
       "    </tr>\n",
       "    <tr>\n",
       "      <th>4</th>\n",
       "      <td>2595</td>\n",
       "      <td>2022-12-08</td>\n",
       "      <td>t</td>\n",
       "      <td>$175.00</td>\n",
       "      <td>$175.00</td>\n",
       "      <td>30.0</td>\n",
       "      <td>1125.0</td>\n",
       "    </tr>\n",
       "  </tbody>\n",
       "</table>\n",
       "</div>"
      ],
      "text/plain": [
       "   listing_id        date available    price adjusted_price  minimum_nights  \\\n",
       "0        5136  2022-12-04         f  $275.00        $275.00            21.0   \n",
       "1        2595  2022-12-05         t  $175.00        $175.00            30.0   \n",
       "2        2595  2022-12-06         t  $175.00        $175.00            30.0   \n",
       "3        2595  2022-12-07         t  $175.00        $175.00            30.0   \n",
       "4        2595  2022-12-08         t  $175.00        $175.00            30.0   \n",
       "\n",
       "   maximum_nights  \n",
       "0          1125.0  \n",
       "1          1125.0  \n",
       "2          1125.0  \n",
       "3          1125.0  \n",
       "4          1125.0  "
      ]
     },
     "execution_count": 27,
     "metadata": {},
     "output_type": "execute_result"
    }
   ],
   "source": [
    "from datetime import datetime\n",
    "\n",
    "df_occupancy = pd.read_csv(\"./data/source/calendar.csv.gz\", low_memory=False)\n",
    "df_occupancy.head()"
   ]
  },
  {
   "cell_type": "code",
   "execution_count": 28,
   "metadata": {},
   "outputs": [],
   "source": [
    "df_occupancy['date'] = pd.to_datetime(df_occupancy['date'])"
   ]
  },
  {
   "cell_type": "code",
   "execution_count": 29,
   "metadata": {},
   "outputs": [
    {
     "data": {
      "text/html": [
       "<div>\n",
       "<style scoped>\n",
       "    .dataframe tbody tr th:only-of-type {\n",
       "        vertical-align: middle;\n",
       "    }\n",
       "\n",
       "    .dataframe tbody tr th {\n",
       "        vertical-align: top;\n",
       "    }\n",
       "\n",
       "    .dataframe thead th {\n",
       "        text-align: right;\n",
       "    }\n",
       "</style>\n",
       "<table border=\"1\" class=\"dataframe\">\n",
       "  <thead>\n",
       "    <tr style=\"text-align: right;\">\n",
       "      <th></th>\n",
       "      <th>listing_id</th>\n",
       "      <th>available_days</th>\n",
       "    </tr>\n",
       "  </thead>\n",
       "  <tbody>\n",
       "    <tr>\n",
       "      <th>0</th>\n",
       "      <td>2595</td>\n",
       "      <td>365</td>\n",
       "    </tr>\n",
       "    <tr>\n",
       "      <th>1</th>\n",
       "      <td>5121</td>\n",
       "      <td>322</td>\n",
       "    </tr>\n",
       "    <tr>\n",
       "      <th>2</th>\n",
       "      <td>5136</td>\n",
       "      <td>267</td>\n",
       "    </tr>\n",
       "    <tr>\n",
       "      <th>3</th>\n",
       "      <td>5178</td>\n",
       "      <td>79</td>\n",
       "    </tr>\n",
       "    <tr>\n",
       "      <th>4</th>\n",
       "      <td>5803</td>\n",
       "      <td>163</td>\n",
       "    </tr>\n",
       "  </tbody>\n",
       "</table>\n",
       "</div>"
      ],
      "text/plain": [
       "   listing_id  available_days\n",
       "0        2595             365\n",
       "1        5121             322\n",
       "2        5136             267\n",
       "3        5178              79\n",
       "4        5803             163"
      ]
     },
     "execution_count": 29,
     "metadata": {},
     "output_type": "execute_result"
    }
   ],
   "source": [
    "available_listings = df_occupancy[df_occupancy['available'] == 't']\n",
    "available_days = available_listings.groupby('listing_id')['date'].nunique().reset_index()\n",
    "available_days.rename(columns={'date': 'available_days'}, inplace=True)\n",
    "available_days.head()"
   ]
  },
  {
   "cell_type": "code",
   "execution_count": 30,
   "metadata": {},
   "outputs": [],
   "source": [
    "total_days = df_occupancy.groupby('listing_id')['date'].nunique().reset_index()\n",
    "total_days.rename(columns={'date': 'total_days'}, inplace=True)"
   ]
  },
  {
   "cell_type": "code",
   "execution_count": 32,
   "metadata": {},
   "outputs": [],
   "source": [
    "occupancy = pd.merge(total_days, available_days, on='listing_id')\n",
    "occupancy['occupancy_rate'] = ((occupancy['total_days'] - occupancy['available_days']) / occupancy['total_days']) * 100"
   ]
  },
  {
   "cell_type": "code",
   "execution_count": 33,
   "metadata": {},
   "outputs": [
    {
     "data": {
      "text/html": [
       "<div>\n",
       "<style scoped>\n",
       "    .dataframe tbody tr th:only-of-type {\n",
       "        vertical-align: middle;\n",
       "    }\n",
       "\n",
       "    .dataframe tbody tr th {\n",
       "        vertical-align: top;\n",
       "    }\n",
       "\n",
       "    .dataframe thead th {\n",
       "        text-align: right;\n",
       "    }\n",
       "</style>\n",
       "<table border=\"1\" class=\"dataframe\">\n",
       "  <thead>\n",
       "    <tr style=\"text-align: right;\">\n",
       "      <th></th>\n",
       "      <th>listing_id</th>\n",
       "      <th>total_days</th>\n",
       "      <th>available_days</th>\n",
       "      <th>occupancy_rate</th>\n",
       "    </tr>\n",
       "  </thead>\n",
       "  <tbody>\n",
       "    <tr>\n",
       "      <th>0</th>\n",
       "      <td>2595</td>\n",
       "      <td>365</td>\n",
       "      <td>365</td>\n",
       "      <td>0.000000</td>\n",
       "    </tr>\n",
       "    <tr>\n",
       "      <th>1</th>\n",
       "      <td>5121</td>\n",
       "      <td>365</td>\n",
       "      <td>322</td>\n",
       "      <td>11.780822</td>\n",
       "    </tr>\n",
       "    <tr>\n",
       "      <th>2</th>\n",
       "      <td>5136</td>\n",
       "      <td>365</td>\n",
       "      <td>267</td>\n",
       "      <td>26.849315</td>\n",
       "    </tr>\n",
       "    <tr>\n",
       "      <th>3</th>\n",
       "      <td>5178</td>\n",
       "      <td>365</td>\n",
       "      <td>79</td>\n",
       "      <td>78.356164</td>\n",
       "    </tr>\n",
       "    <tr>\n",
       "      <th>4</th>\n",
       "      <td>5803</td>\n",
       "      <td>365</td>\n",
       "      <td>163</td>\n",
       "      <td>55.342466</td>\n",
       "    </tr>\n",
       "  </tbody>\n",
       "</table>\n",
       "</div>"
      ],
      "text/plain": [
       "   listing_id  total_days  available_days  occupancy_rate\n",
       "0        2595         365             365        0.000000\n",
       "1        5121         365             322       11.780822\n",
       "2        5136         365             267       26.849315\n",
       "3        5178         365              79       78.356164\n",
       "4        5803         365             163       55.342466"
      ]
     },
     "execution_count": 33,
     "metadata": {},
     "output_type": "execute_result"
    }
   ],
   "source": [
    "occupancy.head()"
   ]
  },
  {
   "cell_type": "code",
   "execution_count": 34,
   "metadata": {},
   "outputs": [],
   "source": [
    "merged = pd.merge(occupancy[['occupancy_rate','listing_id']], X_test_subset, left_on='listing_id', right_on='id')"
   ]
  },
  {
   "cell_type": "code",
   "execution_count": 33,
   "metadata": {},
   "outputs": [],
   "source": [
    "# constant_adjustment = 0.9\n",
    "# # calculate revenue \n",
    "# def calculate_revenue(row):\n",
    "#     if row['predicted_price'] > row['naive_price']:\n",
    "#         return row['occupancy_rate'] * row['predicted_price'] * constant_adjustment\n",
    "#     else:\n",
    "#         return row['occupancy_rate'] * row['predicted_price']"
   ]
  },
  {
   "cell_type": "code",
   "execution_count": 30,
   "metadata": {},
   "outputs": [],
   "source": [
    "merged['revenue'] = (merged['predicted_price'] - merged['naive_price']) / merged['naive_price'] * 100"
   ]
  },
  {
   "cell_type": "code",
   "execution_count": 35,
   "metadata": {},
   "outputs": [
    {
     "data": {
      "text/plain": [
       "count    7535.000000\n",
       "mean        2.640278\n",
       "std        36.951347\n",
       "min       -79.010269\n",
       "25%       -21.831603\n",
       "50%        -3.836030\n",
       "75%        23.067045\n",
       "max       901.127243\n",
       "Name: revenue, dtype: float64"
      ]
     },
     "execution_count": 35,
     "metadata": {},
     "output_type": "execute_result"
    }
   ],
   "source": [
    "merged['revenue'].describe()"
   ]
  },
  {
   "cell_type": "code",
   "execution_count": 34,
   "metadata": {},
   "outputs": [
    {
     "data": {
      "text/plain": [
       "2.6402779777401464"
      ]
     },
     "execution_count": 34,
     "metadata": {},
     "output_type": "execute_result"
    }
   ],
   "source": [
    "merged['revenue'].mean()"
   ]
  },
  {
   "attachments": {},
   "cell_type": "markdown",
   "metadata": {},
   "source": [
    "# NEXT STEPS\n",
    "\n",
    "#### 1. Additional feature engineering:\n",
    "  - Using `amenities` as an additional feature.\n",
    "  - Using another encooding method for `room_type`\n",
    "  - Using different landmarks - possibly extracted from the `name` feature if available\n",
    "\n",
    "\n",
    "#### 2. Apply models on other cities "
   ]
  }
 ],
 "metadata": {
  "kernelspec": {
   "display_name": "base",
   "language": "python",
   "name": "python3"
  },
  "language_info": {
   "codemirror_mode": {
    "name": "ipython",
    "version": 3
   },
   "file_extension": ".py",
   "mimetype": "text/x-python",
   "name": "python",
   "nbconvert_exporter": "python",
   "pygments_lexer": "ipython3",
   "version": "3.9.13"
  },
  "orig_nbformat": 4
 },
 "nbformat": 4,
 "nbformat_minor": 2
}
