{
 "cells": [
  {
   "cell_type": "code",
   "execution_count": 1,
   "metadata": {},
   "outputs": [],
   "source": [
    "# importing necessary modules\n",
    "import numpy as np\n",
    "import pandas as pd\n",
    "import matplotlib.pyplot as plt\n",
    "import seaborn as sns"
   ]
  },
  {
   "cell_type": "code",
   "execution_count": 2,
   "metadata": {},
   "outputs": [
    {
     "data": {
      "text/html": [
       "<div>\n",
       "<style scoped>\n",
       "    .dataframe tbody tr th:only-of-type {\n",
       "        vertical-align: middle;\n",
       "    }\n",
       "\n",
       "    .dataframe tbody tr th {\n",
       "        vertical-align: top;\n",
       "    }\n",
       "\n",
       "    .dataframe thead th {\n",
       "        text-align: right;\n",
       "    }\n",
       "</style>\n",
       "<table border=\"1\" class=\"dataframe\">\n",
       "  <thead>\n",
       "    <tr style=\"text-align: right;\">\n",
       "      <th></th>\n",
       "      <th>id</th>\n",
       "      <th>name</th>\n",
       "      <th>host_id</th>\n",
       "      <th>neighbourhood_group</th>\n",
       "      <th>neighbourhood</th>\n",
       "      <th>latitude</th>\n",
       "      <th>longitude</th>\n",
       "      <th>room_type</th>\n",
       "      <th>price</th>\n",
       "      <th>minimum_nights</th>\n",
       "      <th>number_of_reviews</th>\n",
       "      <th>reviews_per_month</th>\n",
       "      <th>calculated_host_listings_count</th>\n",
       "      <th>availability_365</th>\n",
       "      <th>number_of_reviews_ltm</th>\n",
       "      <th>accommodates</th>\n",
       "      <th>bedrooms</th>\n",
       "      <th>bathrooms_text</th>\n",
       "      <th>amenities</th>\n",
       "    </tr>\n",
       "  </thead>\n",
       "  <tbody>\n",
       "    <tr>\n",
       "      <th>0</th>\n",
       "      <td>5136</td>\n",
       "      <td>Spacious Brooklyn Duplex, Patio + Garden</td>\n",
       "      <td>7378</td>\n",
       "      <td>Brooklyn</td>\n",
       "      <td>Sunset Park</td>\n",
       "      <td>40.66265</td>\n",
       "      <td>-73.99454</td>\n",
       "      <td>Entire home/apt</td>\n",
       "      <td>275</td>\n",
       "      <td>21</td>\n",
       "      <td>3</td>\n",
       "      <td>0.03</td>\n",
       "      <td>1</td>\n",
       "      <td>267</td>\n",
       "      <td>1</td>\n",
       "      <td>4</td>\n",
       "      <td>2.0</td>\n",
       "      <td>1.5 baths</td>\n",
       "      <td>[\"HDTV with Disney+, HBO Max, standard cable, ...</td>\n",
       "    </tr>\n",
       "    <tr>\n",
       "      <th>1</th>\n",
       "      <td>5203</td>\n",
       "      <td>Cozy Clean Guest Room - Family Apt</td>\n",
       "      <td>7490</td>\n",
       "      <td>Manhattan</td>\n",
       "      <td>Upper West Side</td>\n",
       "      <td>40.80380</td>\n",
       "      <td>-73.96751</td>\n",
       "      <td>Private room</td>\n",
       "      <td>75</td>\n",
       "      <td>2</td>\n",
       "      <td>118</td>\n",
       "      <td>0.73</td>\n",
       "      <td>1</td>\n",
       "      <td>0</td>\n",
       "      <td>0</td>\n",
       "      <td>1</td>\n",
       "      <td>1.0</td>\n",
       "      <td>1 shared bath</td>\n",
       "      <td>[\"Hair dryer\", \"Smoke alarm\", \"Carbon monoxide...</td>\n",
       "    </tr>\n",
       "    <tr>\n",
       "      <th>2</th>\n",
       "      <td>5121</td>\n",
       "      <td>BlissArtsSpace!</td>\n",
       "      <td>7356</td>\n",
       "      <td>Brooklyn</td>\n",
       "      <td>Bedford-Stuyvesant</td>\n",
       "      <td>40.68535</td>\n",
       "      <td>-73.95512</td>\n",
       "      <td>Private room</td>\n",
       "      <td>60</td>\n",
       "      <td>30</td>\n",
       "      <td>50</td>\n",
       "      <td>0.30</td>\n",
       "      <td>2</td>\n",
       "      <td>322</td>\n",
       "      <td>0</td>\n",
       "      <td>2</td>\n",
       "      <td>1.0</td>\n",
       "      <td>NaN</td>\n",
       "      <td>[\"Heating\", \"Wifi\", \"Long term stays allowed\",...</td>\n",
       "    </tr>\n",
       "    <tr>\n",
       "      <th>3</th>\n",
       "      <td>5178</td>\n",
       "      <td>Large Furnished Room Near B'way</td>\n",
       "      <td>8967</td>\n",
       "      <td>Manhattan</td>\n",
       "      <td>Midtown</td>\n",
       "      <td>40.76457</td>\n",
       "      <td>-73.98317</td>\n",
       "      <td>Private room</td>\n",
       "      <td>68</td>\n",
       "      <td>2</td>\n",
       "      <td>559</td>\n",
       "      <td>3.38</td>\n",
       "      <td>1</td>\n",
       "      <td>79</td>\n",
       "      <td>50</td>\n",
       "      <td>2</td>\n",
       "      <td>1.0</td>\n",
       "      <td>1 bath</td>\n",
       "      <td>[\"Shampoo\", \"Conditioner\", \"TV\", \"Drying rack ...</td>\n",
       "    </tr>\n",
       "    <tr>\n",
       "      <th>4</th>\n",
       "      <td>2595</td>\n",
       "      <td>Skylit Midtown Castle</td>\n",
       "      <td>2845</td>\n",
       "      <td>Manhattan</td>\n",
       "      <td>Midtown</td>\n",
       "      <td>40.75356</td>\n",
       "      <td>-73.98559</td>\n",
       "      <td>Entire home/apt</td>\n",
       "      <td>175</td>\n",
       "      <td>30</td>\n",
       "      <td>49</td>\n",
       "      <td>0.31</td>\n",
       "      <td>3</td>\n",
       "      <td>365</td>\n",
       "      <td>1</td>\n",
       "      <td>1</td>\n",
       "      <td>NaN</td>\n",
       "      <td>1 bath</td>\n",
       "      <td>[\"Carbon monoxide alarm\", \"Stove\", \"Bathtub\", ...</td>\n",
       "    </tr>\n",
       "  </tbody>\n",
       "</table>\n",
       "</div>"
      ],
      "text/plain": [
       "     id                                      name  host_id  \\\n",
       "0  5136  Spacious Brooklyn Duplex, Patio + Garden     7378   \n",
       "1  5203        Cozy Clean Guest Room - Family Apt     7490   \n",
       "2  5121                           BlissArtsSpace!     7356   \n",
       "3  5178          Large Furnished Room Near B'way　     8967   \n",
       "4  2595                     Skylit Midtown Castle     2845   \n",
       "\n",
       "  neighbourhood_group       neighbourhood  latitude  longitude  \\\n",
       "0            Brooklyn         Sunset Park  40.66265  -73.99454   \n",
       "1           Manhattan     Upper West Side  40.80380  -73.96751   \n",
       "2            Brooklyn  Bedford-Stuyvesant  40.68535  -73.95512   \n",
       "3           Manhattan             Midtown  40.76457  -73.98317   \n",
       "4           Manhattan             Midtown  40.75356  -73.98559   \n",
       "\n",
       "         room_type  price  minimum_nights  number_of_reviews  \\\n",
       "0  Entire home/apt    275              21                  3   \n",
       "1     Private room     75               2                118   \n",
       "2     Private room     60              30                 50   \n",
       "3     Private room     68               2                559   \n",
       "4  Entire home/apt    175              30                 49   \n",
       "\n",
       "   reviews_per_month  calculated_host_listings_count  availability_365  \\\n",
       "0               0.03                               1               267   \n",
       "1               0.73                               1                 0   \n",
       "2               0.30                               2               322   \n",
       "3               3.38                               1                79   \n",
       "4               0.31                               3               365   \n",
       "\n",
       "   number_of_reviews_ltm  accommodates  bedrooms bathrooms_text  \\\n",
       "0                      1             4       2.0      1.5 baths   \n",
       "1                      0             1       1.0  1 shared bath   \n",
       "2                      0             2       1.0            NaN   \n",
       "3                     50             2       1.0         1 bath   \n",
       "4                      1             1       NaN         1 bath   \n",
       "\n",
       "                                           amenities  \n",
       "0  [\"HDTV with Disney+, HBO Max, standard cable, ...  \n",
       "1  [\"Hair dryer\", \"Smoke alarm\", \"Carbon monoxide...  \n",
       "2  [\"Heating\", \"Wifi\", \"Long term stays allowed\",...  \n",
       "3  [\"Shampoo\", \"Conditioner\", \"TV\", \"Drying rack ...  \n",
       "4  [\"Carbon monoxide alarm\", \"Stove\", \"Bathtub\", ...  "
      ]
     },
     "execution_count": 2,
     "metadata": {},
     "output_type": "execute_result"
    }
   ],
   "source": [
    "# import data\n",
    "\n",
    "df = pd.read_csv(\"./data/listings_wrangled\")\n",
    "df.head()"
   ]
  },
  {
   "cell_type": "code",
   "execution_count": 3,
   "metadata": {},
   "outputs": [
    {
     "data": {
      "text/plain": [
       "id                                   0\n",
       "name                                 0\n",
       "host_id                              0\n",
       "neighbourhood_group                  0\n",
       "neighbourhood                        0\n",
       "latitude                             0\n",
       "longitude                            0\n",
       "room_type                            0\n",
       "price                                0\n",
       "minimum_nights                       0\n",
       "number_of_reviews                    0\n",
       "reviews_per_month                 9379\n",
       "calculated_host_listings_count       0\n",
       "availability_365                     0\n",
       "number_of_reviews_ltm                0\n",
       "accommodates                         0\n",
       "bedrooms                          3792\n",
       "bathrooms_text                      47\n",
       "amenities                            0\n",
       "dtype: int64"
      ]
     },
     "execution_count": 3,
     "metadata": {},
     "output_type": "execute_result"
    }
   ],
   "source": [
    "df.isna().sum()"
   ]
  },
  {
   "cell_type": "code",
   "execution_count": 4,
   "metadata": {},
   "outputs": [
    {
     "name": "stdout",
     "output_type": "stream",
     "text": [
      "222.14\n"
     ]
    }
   ],
   "source": [
    "avg_price = round(df.price.mean(),2)\n",
    "print(avg_price)"
   ]
  },
  {
   "cell_type": "code",
   "execution_count": 5,
   "metadata": {},
   "outputs": [
    {
     "data": {
      "image/png": "[encoded data removed]",
      "text/plain": [
       "<Figure size 900x500 with 1 Axes>"
      ]
     },
     "metadata": {},
     "output_type": "display_data"
    }
   ],
   "source": [
    "plt.figure(figsize=(9,5))\n",
    "plt.pie(df.neighbourhood_group.value_counts(), labels=df.neighbourhood_group.value_counts().index, autopct='%1.1f%%', startangle=180)\n",
    "plt.title(\"Bourough distribution\")\n",
    "plt.show()"
   ]
  },
  {
   "cell_type": "code",
   "execution_count": 6,
   "metadata": {},
   "outputs": [
    {
     "name": "stderr",
     "output_type": "stream",
     "text": [
      "/Users/nizar/opt/anaconda3/lib/python3.9/site-packages/seaborn/_decorators.py:36: FutureWarning: Pass the following variable as a keyword arg: x. From version 0.12, the only valid positional argument will be `data`, and passing other arguments without an explicit keyword will result in an error or misinterpretation.\n",
      "  warnings.warn(\n"
     ]
    },
    {
     "data": {
      "image/png": "[encoded data removed]",
      "text/plain": [
       "<Figure size 640x480 with 1 Axes>"
      ]
     },
     "metadata": {},
     "output_type": "display_data"
    }
   ],
   "source": [
    "plt.figure()\n",
    "plt.title(\"Type of Room\")\n",
    "sns.countplot(df.room_type)\n",
    "\n",
    "plt.show()"
   ]
  },
  {
   "attachments": {},
   "cell_type": "markdown",
   "metadata": {},
   "source": [
    "Entire home/apt has the greatest share, followed by Private room. Shared rooms aren't too popular. Hotel room listings will be dropped."
   ]
  },
  {
   "cell_type": "code",
   "execution_count": 7,
   "metadata": {},
   "outputs": [],
   "source": [
    "df = df[df.room_type != 'Hotel room']"
   ]
  },
  {
   "attachments": {},
   "cell_type": "markdown",
   "metadata": {},
   "source": [
    "Room types on Neighborhood group"
   ]
  },
  {
   "cell_type": "code",
   "execution_count": 8,
   "metadata": {},
   "outputs": [
    {
     "name": "stderr",
     "output_type": "stream",
     "text": [
      "/Users/nizar/opt/anaconda3/lib/python3.9/site-packages/seaborn/_decorators.py:36: FutureWarning: Pass the following variable as a keyword arg: x. From version 0.12, the only valid positional argument will be `data`, and passing other arguments without an explicit keyword will result in an error or misinterpretation.\n",
      "  warnings.warn(\n"
     ]
    },
    {
     "data": {
      "image/png": "[encoded data removed]",
      "text/plain": [
       "<Figure size 640x480 with 1 Axes>"
      ]
     },
     "metadata": {},
     "output_type": "display_data"
    }
   ],
   "source": [
    "plt.figure()\n",
    "plt.title(\"Room Type on Borough\")\n",
    "sns.countplot(df.neighbourhood_group, hue=df.room_type)\n",
    "plt.show()"
   ]
  },
  {
   "attachments": {},
   "cell_type": "markdown",
   "metadata": {},
   "source": [
    "Interestingly, Queens and the Bronx residents are more likely to list a private room then the entire unit.\n",
    "\n",
    "Next lets compare their availability."
   ]
  },
  {
   "cell_type": "code",
   "execution_count": 9,
   "metadata": {},
   "outputs": [
    {
     "data": {
      "image/png": "[encoded data removed]",
      "text/plain": [
       "<Figure size 640x480 with 1 Axes>"
      ]
     },
     "metadata": {},
     "output_type": "display_data"
    }
   ],
   "source": [
    "# plt.style.use('classic')\n",
    "plt.figure()\n",
    "plt.title(\"Neighbourhood Group vs. Availability\")\n",
    "sns.boxplot(data=df, x='neighbourhood_group',y='availability_365',palette=\"muted\")\n",
    "plt.show()"
   ]
  },
  {
   "attachments": {},
   "cell_type": "markdown",
   "metadata": {},
   "source": [
    "Next price distribution"
   ]
  },
  {
   "cell_type": "code",
   "execution_count": 10,
   "metadata": {},
   "outputs": [
    {
     "data": {
      "text/plain": [
       "count    41345.000000\n",
       "mean       221.095296\n",
       "std        921.149523\n",
       "min         10.000000\n",
       "25%         80.000000\n",
       "50%        130.000000\n",
       "75%        220.000000\n",
       "max      98159.000000\n",
       "Name: price, dtype: float64"
      ]
     },
     "execution_count": 10,
     "metadata": {},
     "output_type": "execute_result"
    }
   ],
   "source": [
    "df.price.describe()\n"
   ]
  },
  {
   "cell_type": "code",
   "execution_count": 11,
   "metadata": {},
   "outputs": [
    {
     "name": "stdout",
     "output_type": "stream",
     "text": [
      "False    38952\n",
      "True      2393\n",
      "Name: price, dtype: int64\n",
      "Proportion of listings over $500: 5.79%\n"
     ]
    }
   ],
   "source": [
    "print((df.price > 500).value_counts())\n",
    "prop = len(df[df.price > 500]) / len(df)\n",
    "print(\"Proportion of listings over $500: {:.2%}\".format(prop))"
   ]
  },
  {
   "attachments": {},
   "cell_type": "markdown",
   "metadata": {},
   "source": [
    "I took care of the \"free\" listings in an earlier step, but I haven't addressed the other outliers that are skewing the distribution. With a Max price over 400 times larger than the mean price, it will be difficult to meaningfully visualize the data. Since the 75th percentile is 220,  excluding any listings above $500 will allow me to better see the spread. Those listings represent nearly 6% of data though, so it is important not to draw any conclusions just yet. "
   ]
  },
  {
   "cell_type": "code",
   "execution_count": 12,
   "metadata": {},
   "outputs": [
    {
     "data": {
      "image/png": "[encoded data removed]",
      "text/plain": [
       "<Figure size 640x480 with 1 Axes>"
      ]
     },
     "metadata": {},
     "output_type": "display_data"
    }
   ],
   "source": [
    "df_u500 = (df[df.price <= 500])\n",
    "sns.boxplot(x='neighbourhood_group', y='price', data=df_u500)\n",
    "plt.title('Neighbourhood Group Price Distribution < 500')\n",
    "plt.show()\n"
   ]
  },
  {
   "cell_type": "code",
   "execution_count": 13,
   "metadata": {},
   "outputs": [
    {
     "data": {
      "image/png": "[encoded data removed]",
      "text/plain": [
       "<Figure size 640x480 with 1 Axes>"
      ]
     },
     "metadata": {},
     "output_type": "display_data"
    }
   ],
   "source": [
    "# Listings with price > $500?\n",
    "\n",
    "df_o500 = (df[df.price > 500])\n",
    "plt.hist(df_o500.price, bins=20)\n",
    "plt.xlabel('Price')\n",
    "plt.ylabel('Count')\n",
    "plt.title('Distribution of Airbnb Listings with Price > $500')\n",
    "plt.show()"
   ]
  },
  {
   "attachments": {},
   "cell_type": "markdown",
   "metadata": {},
   "source": [
    "Most of the datapoints are below $20000. I will inspect the high-priced listings and determine whether they should be kept in the dataset or not."
   ]
  },
  {
   "cell_type": "code",
   "execution_count": 14,
   "metadata": {},
   "outputs": [
    {
     "data": {
      "text/html": [
       "<div>\n",
       "<style scoped>\n",
       "    .dataframe tbody tr th:only-of-type {\n",
       "        vertical-align: middle;\n",
       "    }\n",
       "\n",
       "    .dataframe tbody tr th {\n",
       "        vertical-align: top;\n",
       "    }\n",
       "\n",
       "    .dataframe thead th {\n",
       "        text-align: right;\n",
       "    }\n",
       "</style>\n",
       "<table border=\"1\" class=\"dataframe\">\n",
       "  <thead>\n",
       "    <tr style=\"text-align: right;\">\n",
       "      <th></th>\n",
       "      <th>id</th>\n",
       "      <th>name</th>\n",
       "      <th>host_id</th>\n",
       "      <th>neighbourhood_group</th>\n",
       "      <th>neighbourhood</th>\n",
       "      <th>latitude</th>\n",
       "      <th>longitude</th>\n",
       "      <th>room_type</th>\n",
       "      <th>price</th>\n",
       "      <th>minimum_nights</th>\n",
       "      <th>number_of_reviews</th>\n",
       "      <th>reviews_per_month</th>\n",
       "      <th>calculated_host_listings_count</th>\n",
       "      <th>availability_365</th>\n",
       "      <th>number_of_reviews_ltm</th>\n",
       "      <th>accommodates</th>\n",
       "      <th>bedrooms</th>\n",
       "      <th>bathrooms_text</th>\n",
       "      <th>amenities</th>\n",
       "    </tr>\n",
       "  </thead>\n",
       "  <tbody>\n",
       "    <tr>\n",
       "      <th>9256</th>\n",
       "      <td>15604499</td>\n",
       "      <td>The Parachute Loft Bedrm 1</td>\n",
       "      <td>62605071</td>\n",
       "      <td>Brooklyn</td>\n",
       "      <td>Coney Island</td>\n",
       "      <td>40.57717</td>\n",
       "      <td>-73.99986</td>\n",
       "      <td>Private room</td>\n",
       "      <td>75120</td>\n",
       "      <td>30</td>\n",
       "      <td>112</td>\n",
       "      <td>1.54</td>\n",
       "      <td>6</td>\n",
       "      <td>33</td>\n",
       "      <td>0</td>\n",
       "      <td>1</td>\n",
       "      <td>1.0</td>\n",
       "      <td>1 shared bath</td>\n",
       "      <td>[\"Carbon monoxide alarm\", \"Portable fans\", \"Pe...</td>\n",
       "    </tr>\n",
       "    <tr>\n",
       "      <th>9645</th>\n",
       "      <td>16289102</td>\n",
       "      <td>Comfy private room, great location to Manhattan</td>\n",
       "      <td>92493393</td>\n",
       "      <td>Staten Island</td>\n",
       "      <td>West Brighton</td>\n",
       "      <td>40.63304</td>\n",
       "      <td>-74.11275</td>\n",
       "      <td>Private room</td>\n",
       "      <td>65115</td>\n",
       "      <td>2</td>\n",
       "      <td>55</td>\n",
       "      <td>0.75</td>\n",
       "      <td>3</td>\n",
       "      <td>1</td>\n",
       "      <td>5</td>\n",
       "      <td>2</td>\n",
       "      <td>1.0</td>\n",
       "      <td>1 shared bath</td>\n",
       "      <td>[\"Carbon monoxide alarm\", \"Shampoo\", \"Private ...</td>\n",
       "    </tr>\n",
       "    <tr>\n",
       "      <th>31497</th>\n",
       "      <td>563183407738604083</td>\n",
       "      <td>A cozy one bedroom in ocean hill Brooklyn...</td>\n",
       "      <td>422985413</td>\n",
       "      <td>Brooklyn</td>\n",
       "      <td>Bedford-Stuyvesant</td>\n",
       "      <td>40.68193</td>\n",
       "      <td>-73.91635</td>\n",
       "      <td>Entire home/apt</td>\n",
       "      <td>98159</td>\n",
       "      <td>2</td>\n",
       "      <td>3</td>\n",
       "      <td>0.61</td>\n",
       "      <td>1</td>\n",
       "      <td>62</td>\n",
       "      <td>3</td>\n",
       "      <td>2</td>\n",
       "      <td>1.0</td>\n",
       "      <td>1 bath</td>\n",
       "      <td>[\"Carbon monoxide alarm\", \"Portable fans\", \"Ho...</td>\n",
       "    </tr>\n",
       "    <tr>\n",
       "      <th>37227</th>\n",
       "      <td>706066765395654135</td>\n",
       "      <td>Zll White Favorite Room</td>\n",
       "      <td>445395972</td>\n",
       "      <td>Bronx</td>\n",
       "      <td>Wakefield</td>\n",
       "      <td>40.88671</td>\n",
       "      <td>-73.86431</td>\n",
       "      <td>Entire home/apt</td>\n",
       "      <td>95110</td>\n",
       "      <td>2</td>\n",
       "      <td>0</td>\n",
       "      <td>NaN</td>\n",
       "      <td>5</td>\n",
       "      <td>36</td>\n",
       "      <td>0</td>\n",
       "      <td>2</td>\n",
       "      <td>1.0</td>\n",
       "      <td>1 bath</td>\n",
       "      <td>[\"Bed linens\", \"Central heating\", \"Smoke alarm...</td>\n",
       "    </tr>\n",
       "  </tbody>\n",
       "</table>\n",
       "</div>"
      ],
      "text/plain": [
       "                       id                                             name  \\\n",
       "9256             15604499                       The Parachute Loft Bedrm 1   \n",
       "9645             16289102  Comfy private room, great location to Manhattan   \n",
       "31497  563183407738604083     A cozy one bedroom in ocean hill Brooklyn...   \n",
       "37227  706066765395654135                          Zll White Favorite Room   \n",
       "\n",
       "         host_id neighbourhood_group       neighbourhood  latitude  longitude  \\\n",
       "9256    62605071            Brooklyn        Coney Island  40.57717  -73.99986   \n",
       "9645    92493393       Staten Island       West Brighton  40.63304  -74.11275   \n",
       "31497  422985413            Brooklyn  Bedford-Stuyvesant  40.68193  -73.91635   \n",
       "37227  445395972               Bronx           Wakefield  40.88671  -73.86431   \n",
       "\n",
       "             room_type  price  minimum_nights  number_of_reviews  \\\n",
       "9256      Private room  75120              30                112   \n",
       "9645      Private room  65115               2                 55   \n",
       "31497  Entire home/apt  98159               2                  3   \n",
       "37227  Entire home/apt  95110               2                  0   \n",
       "\n",
       "       reviews_per_month  calculated_host_listings_count  availability_365  \\\n",
       "9256                1.54                               6                33   \n",
       "9645                0.75                               3                 1   \n",
       "31497               0.61                               1                62   \n",
       "37227                NaN                               5                36   \n",
       "\n",
       "       number_of_reviews_ltm  accommodates  bedrooms bathrooms_text  \\\n",
       "9256                       0             1       1.0  1 shared bath   \n",
       "9645                       5             2       1.0  1 shared bath   \n",
       "31497                      3             2       1.0         1 bath   \n",
       "37227                      0             2       1.0         1 bath   \n",
       "\n",
       "                                               amenities  \n",
       "9256   [\"Carbon monoxide alarm\", \"Portable fans\", \"Pe...  \n",
       "9645   [\"Carbon monoxide alarm\", \"Shampoo\", \"Private ...  \n",
       "31497  [\"Carbon monoxide alarm\", \"Portable fans\", \"Ho...  \n",
       "37227  [\"Bed linens\", \"Central heating\", \"Smoke alarm...  "
      ]
     },
     "execution_count": 14,
     "metadata": {},
     "output_type": "execute_result"
    }
   ],
   "source": [
    "df[df['price'] >= 20000]"
   ]
  },
  {
   "attachments": {},
   "cell_type": "markdown",
   "metadata": {},
   "source": [
    "The third listing above is currently priced at $98 on Airbnb's website, which is suspcisiously similar to the price listed here at 98159. These listings are all definitely mispriced. There is no point in checking and adjusting each one individually, I will just drop them."
   ]
  },
  {
   "cell_type": "code",
   "execution_count": 15,
   "metadata": {},
   "outputs": [
    {
     "name": "stdout",
     "output_type": "stream",
     "text": [
      "New mean: 213.05\n",
      "New std: 401.42\n"
     ]
    }
   ],
   "source": [
    "df = df.drop(df[df.price >= 20000].index)\n",
    "print(f\"New mean: {np.mean(df.price):.2f}\")\n",
    "print(f\"New std: {np.std(df.price):.2f}\")"
   ]
  },
  {
   "cell_type": "code",
   "execution_count": 16,
   "metadata": {},
   "outputs": [
    {
     "data": {
      "image/png": "[encoded data removed]",
      "text/plain": [
       "<Figure size 640x480 with 1 Axes>"
      ]
     },
     "metadata": {},
     "output_type": "display_data"
    }
   ],
   "source": [
    "from scipy.stats import norm\n",
    "prices = df.price\n",
    "mu, sigma = norm.fit(prices)\n",
    "\n",
    "x = np.linspace(mu - 3*sigma, mu + 3*sigma, 100)\n",
    "y = norm.pdf(x, mu, sigma)\n",
    "\n",
    "fig, ax = plt.subplots()\n",
    "ax.hist(prices, bins=100, density=True, alpha=0.6, color='blue')\n",
    "ax.plot(x, y, 'r', linewidth=2)\n",
    "ax.set_xlabel('Price')\n",
    "ax.set_ylabel('Frequency')\n",
    "ax.set_title(r'Histogram of Airbnb Listing Prices: $\\mu={:.2f}$, $\\sigma={:.2f}$'.format(mu, sigma))\n",
    "\n",
    "price_outliers = df[df['price'] > sigma*3]['price']\n",
    "ax.plot(price_outliers, np.zeros_like(price_outliers) - 0.01, 'ro')\n",
    "\n",
    "plt.show()"
   ]
  },
  {
   "attachments": {},
   "cell_type": "markdown",
   "metadata": {},
   "source": [
    "There are still a significant amount of outliers. Let's inspect those above the 99.7 percentile."
   ]
  },
  {
   "cell_type": "code",
   "execution_count": 17,
   "metadata": {},
   "outputs": [
    {
     "data": {
      "text/html": [
       "<div>\n",
       "<style scoped>\n",
       "    .dataframe tbody tr th:only-of-type {\n",
       "        vertical-align: middle;\n",
       "    }\n",
       "\n",
       "    .dataframe tbody tr th {\n",
       "        vertical-align: top;\n",
       "    }\n",
       "\n",
       "    .dataframe thead th {\n",
       "        text-align: right;\n",
       "    }\n",
       "</style>\n",
       "<table border=\"1\" class=\"dataframe\">\n",
       "  <thead>\n",
       "    <tr style=\"text-align: right;\">\n",
       "      <th></th>\n",
       "      <th>id</th>\n",
       "      <th>name</th>\n",
       "      <th>host_id</th>\n",
       "      <th>neighbourhood_group</th>\n",
       "      <th>neighbourhood</th>\n",
       "      <th>latitude</th>\n",
       "      <th>longitude</th>\n",
       "      <th>room_type</th>\n",
       "      <th>price</th>\n",
       "      <th>minimum_nights</th>\n",
       "      <th>number_of_reviews</th>\n",
       "      <th>reviews_per_month</th>\n",
       "      <th>calculated_host_listings_count</th>\n",
       "      <th>availability_365</th>\n",
       "      <th>number_of_reviews_ltm</th>\n",
       "      <th>accommodates</th>\n",
       "      <th>bedrooms</th>\n",
       "      <th>bathrooms_text</th>\n",
       "      <th>amenities</th>\n",
       "    </tr>\n",
       "  </thead>\n",
       "  <tbody>\n",
       "    <tr>\n",
       "      <th>322</th>\n",
       "      <td>174966</td>\n",
       "      <td>Luxury 2Bed/2.5Bath Central Park View</td>\n",
       "      <td>836168</td>\n",
       "      <td>Manhattan</td>\n",
       "      <td>Upper West Side</td>\n",
       "      <td>40.775100</td>\n",
       "      <td>-73.985950</td>\n",
       "      <td>Entire home/apt</td>\n",
       "      <td>2500</td>\n",
       "      <td>30</td>\n",
       "      <td>26</td>\n",
       "      <td>0.20</td>\n",
       "      <td>10</td>\n",
       "      <td>365</td>\n",
       "      <td>0</td>\n",
       "      <td>9</td>\n",
       "      <td>2.0</td>\n",
       "      <td>2.5 baths</td>\n",
       "      <td>[\"Carbon monoxide alarm\", \"Pets allowed\", \"Sha...</td>\n",
       "    </tr>\n",
       "    <tr>\n",
       "      <th>474</th>\n",
       "      <td>428226</td>\n",
       "      <td>Bright &amp; Vibrant in Crown Heights</td>\n",
       "      <td>2128778</td>\n",
       "      <td>Brooklyn</td>\n",
       "      <td>Crown Heights</td>\n",
       "      <td>40.672510</td>\n",
       "      <td>-73.956610</td>\n",
       "      <td>Private room</td>\n",
       "      <td>5560</td>\n",
       "      <td>2</td>\n",
       "      <td>73</td>\n",
       "      <td>0.57</td>\n",
       "      <td>1</td>\n",
       "      <td>28</td>\n",
       "      <td>2</td>\n",
       "      <td>1</td>\n",
       "      <td>1.0</td>\n",
       "      <td>1 shared bath</td>\n",
       "      <td>[\"Carbon monoxide alarm\", \"Shampoo\", \"Stove\", ...</td>\n",
       "    </tr>\n",
       "    <tr>\n",
       "      <th>734</th>\n",
       "      <td>619144</td>\n",
       "      <td>Central Park View From High Floor</td>\n",
       "      <td>1028165</td>\n",
       "      <td>Manhattan</td>\n",
       "      <td>Hell's Kitchen</td>\n",
       "      <td>40.766910</td>\n",
       "      <td>-73.983610</td>\n",
       "      <td>Shared room</td>\n",
       "      <td>2000</td>\n",
       "      <td>30</td>\n",
       "      <td>2</td>\n",
       "      <td>0.02</td>\n",
       "      <td>1</td>\n",
       "      <td>0</td>\n",
       "      <td>0</td>\n",
       "      <td>16</td>\n",
       "      <td>1.0</td>\n",
       "      <td>1 shared bath</td>\n",
       "      <td>[\"Washer\", \"Elevator\", \"Heating\", \"Wifi\", \"Lon...</td>\n",
       "    </tr>\n",
       "    <tr>\n",
       "      <th>895</th>\n",
       "      <td>664047</td>\n",
       "      <td>Lux 2Bed/2.5Bath Central Park Views</td>\n",
       "      <td>836168</td>\n",
       "      <td>Manhattan</td>\n",
       "      <td>Upper West Side</td>\n",
       "      <td>40.774930</td>\n",
       "      <td>-73.987320</td>\n",
       "      <td>Entire home/apt</td>\n",
       "      <td>2500</td>\n",
       "      <td>30</td>\n",
       "      <td>59</td>\n",
       "      <td>0.47</td>\n",
       "      <td>10</td>\n",
       "      <td>365</td>\n",
       "      <td>0</td>\n",
       "      <td>8</td>\n",
       "      <td>2.0</td>\n",
       "      <td>2.5 baths</td>\n",
       "      <td>[\"Carbon monoxide alarm\", \"Shampoo\", \"Bathtub\"...</td>\n",
       "    </tr>\n",
       "    <tr>\n",
       "      <th>960</th>\n",
       "      <td>893413</td>\n",
       "      <td>Architecturally Stunning Former Synagogue!</td>\n",
       "      <td>4751930</td>\n",
       "      <td>Manhattan</td>\n",
       "      <td>East Village</td>\n",
       "      <td>40.726940</td>\n",
       "      <td>-73.981730</td>\n",
       "      <td>Entire home/apt</td>\n",
       "      <td>2643</td>\n",
       "      <td>30</td>\n",
       "      <td>31</td>\n",
       "      <td>0.31</td>\n",
       "      <td>1</td>\n",
       "      <td>148</td>\n",
       "      <td>3</td>\n",
       "      <td>10</td>\n",
       "      <td>4.0</td>\n",
       "      <td>2.5 baths</td>\n",
       "      <td>[\"Carbon monoxide alarm\", \"Hot water kettle\", ...</td>\n",
       "    </tr>\n",
       "    <tr>\n",
       "      <th>...</th>\n",
       "      <td>...</td>\n",
       "      <td>...</td>\n",
       "      <td>...</td>\n",
       "      <td>...</td>\n",
       "      <td>...</td>\n",
       "      <td>...</td>\n",
       "      <td>...</td>\n",
       "      <td>...</td>\n",
       "      <td>...</td>\n",
       "      <td>...</td>\n",
       "      <td>...</td>\n",
       "      <td>...</td>\n",
       "      <td>...</td>\n",
       "      <td>...</td>\n",
       "      <td>...</td>\n",
       "      <td>...</td>\n",
       "      <td>...</td>\n",
       "      <td>...</td>\n",
       "      <td>...</td>\n",
       "    </tr>\n",
       "    <tr>\n",
       "      <th>41403</th>\n",
       "      <td>773314804331716702</td>\n",
       "      <td>Mansion For Events, Photoshoots</td>\n",
       "      <td>47633041</td>\n",
       "      <td>Queens</td>\n",
       "      <td>Jamaica Estates</td>\n",
       "      <td>40.718676</td>\n",
       "      <td>-73.782006</td>\n",
       "      <td>Entire home/apt</td>\n",
       "      <td>1500</td>\n",
       "      <td>1</td>\n",
       "      <td>0</td>\n",
       "      <td>NaN</td>\n",
       "      <td>5</td>\n",
       "      <td>364</td>\n",
       "      <td>0</td>\n",
       "      <td>16</td>\n",
       "      <td>2.0</td>\n",
       "      <td>1 bath</td>\n",
       "      <td>[\"Carbon monoxide alarm\", \"Hot water kettle\", ...</td>\n",
       "    </tr>\n",
       "    <tr>\n",
       "      <th>41404</th>\n",
       "      <td>773331752728906911</td>\n",
       "      <td>Church Place by Rove Travel | New 3 BD Apt in ...</td>\n",
       "      <td>17775359</td>\n",
       "      <td>Manhattan</td>\n",
       "      <td>Tribeca</td>\n",
       "      <td>40.720512</td>\n",
       "      <td>-74.004388</td>\n",
       "      <td>Entire home/apt</td>\n",
       "      <td>9999</td>\n",
       "      <td>30</td>\n",
       "      <td>0</td>\n",
       "      <td>NaN</td>\n",
       "      <td>10</td>\n",
       "      <td>337</td>\n",
       "      <td>0</td>\n",
       "      <td>6</td>\n",
       "      <td>3.0</td>\n",
       "      <td>3 baths</td>\n",
       "      <td>[\"Carbon monoxide alarm\", \"Shampoo\", \"Stove\", ...</td>\n",
       "    </tr>\n",
       "    <tr>\n",
       "      <th>41471</th>\n",
       "      <td>773525826132328318</td>\n",
       "      <td>Lovely 6-bedrm townhouse in NYC</td>\n",
       "      <td>489214566</td>\n",
       "      <td>Manhattan</td>\n",
       "      <td>Upper East Side</td>\n",
       "      <td>40.770089</td>\n",
       "      <td>-73.962419</td>\n",
       "      <td>Entire home/apt</td>\n",
       "      <td>2830</td>\n",
       "      <td>10</td>\n",
       "      <td>0</td>\n",
       "      <td>NaN</td>\n",
       "      <td>1</td>\n",
       "      <td>359</td>\n",
       "      <td>0</td>\n",
       "      <td>12</td>\n",
       "      <td>6.0</td>\n",
       "      <td>8 baths</td>\n",
       "      <td>[\"Sound system with Bluetooth and aux\", \"Hot w...</td>\n",
       "    </tr>\n",
       "    <tr>\n",
       "      <th>41500</th>\n",
       "      <td>771971759808918693</td>\n",
       "      <td>9B5B Townhouse w/ Elevator &amp;  Private Entrance</td>\n",
       "      <td>316920152</td>\n",
       "      <td>Manhattan</td>\n",
       "      <td>Murray Hill</td>\n",
       "      <td>40.746902</td>\n",
       "      <td>-73.978260</td>\n",
       "      <td>Entire home/apt</td>\n",
       "      <td>3888</td>\n",
       "      <td>2</td>\n",
       "      <td>0</td>\n",
       "      <td>NaN</td>\n",
       "      <td>8</td>\n",
       "      <td>365</td>\n",
       "      <td>0</td>\n",
       "      <td>16</td>\n",
       "      <td>9.0</td>\n",
       "      <td>4.5 baths</td>\n",
       "      <td>[\"Carbon monoxide alarm\", \"Hot water kettle\", ...</td>\n",
       "    </tr>\n",
       "    <tr>\n",
       "      <th>41501</th>\n",
       "      <td>771971822371481471</td>\n",
       "      <td>Huge 9B5B Townhouse w Elevator &amp;  Private Entr...</td>\n",
       "      <td>484979380</td>\n",
       "      <td>Manhattan</td>\n",
       "      <td>Murray Hill</td>\n",
       "      <td>40.749596</td>\n",
       "      <td>-73.980798</td>\n",
       "      <td>Entire home/apt</td>\n",
       "      <td>3888</td>\n",
       "      <td>2</td>\n",
       "      <td>0</td>\n",
       "      <td>NaN</td>\n",
       "      <td>2</td>\n",
       "      <td>364</td>\n",
       "      <td>0</td>\n",
       "      <td>16</td>\n",
       "      <td>9.0</td>\n",
       "      <td>4.5 baths</td>\n",
       "      <td>[\"Carbon monoxide alarm\", \"Hot water kettle\", ...</td>\n",
       "    </tr>\n",
       "  </tbody>\n",
       "</table>\n",
       "<p>594 rows × 19 columns</p>\n",
       "</div>"
      ],
      "text/plain": [
       "                       id                                               name  \\\n",
       "322                174966              Luxury 2Bed/2.5Bath Central Park View   \n",
       "474                428226                  Bright & Vibrant in Crown Heights   \n",
       "734                619144                  Central Park View From High Floor   \n",
       "895                664047                Lux 2Bed/2.5Bath Central Park Views   \n",
       "960                893413         Architecturally Stunning Former Synagogue!   \n",
       "...                   ...                                                ...   \n",
       "41403  773314804331716702                    Mansion For Events, Photoshoots   \n",
       "41404  773331752728906911  Church Place by Rove Travel | New 3 BD Apt in ...   \n",
       "41471  773525826132328318                    Lovely 6-bedrm townhouse in NYC   \n",
       "41500  771971759808918693     9B5B Townhouse w/ Elevator &  Private Entrance   \n",
       "41501  771971822371481471  Huge 9B5B Townhouse w Elevator &  Private Entr...   \n",
       "\n",
       "         host_id neighbourhood_group    neighbourhood   latitude  longitude  \\\n",
       "322       836168           Manhattan  Upper West Side  40.775100 -73.985950   \n",
       "474      2128778            Brooklyn    Crown Heights  40.672510 -73.956610   \n",
       "734      1028165           Manhattan   Hell's Kitchen  40.766910 -73.983610   \n",
       "895       836168           Manhattan  Upper West Side  40.774930 -73.987320   \n",
       "960      4751930           Manhattan     East Village  40.726940 -73.981730   \n",
       "...          ...                 ...              ...        ...        ...   \n",
       "41403   47633041              Queens  Jamaica Estates  40.718676 -73.782006   \n",
       "41404   17775359           Manhattan          Tribeca  40.720512 -74.004388   \n",
       "41471  489214566           Manhattan  Upper East Side  40.770089 -73.962419   \n",
       "41500  316920152           Manhattan      Murray Hill  40.746902 -73.978260   \n",
       "41501  484979380           Manhattan      Murray Hill  40.749596 -73.980798   \n",
       "\n",
       "             room_type  price  minimum_nights  number_of_reviews  \\\n",
       "322    Entire home/apt   2500              30                 26   \n",
       "474       Private room   5560               2                 73   \n",
       "734        Shared room   2000              30                  2   \n",
       "895    Entire home/apt   2500              30                 59   \n",
       "960    Entire home/apt   2643              30                 31   \n",
       "...                ...    ...             ...                ...   \n",
       "41403  Entire home/apt   1500               1                  0   \n",
       "41404  Entire home/apt   9999              30                  0   \n",
       "41471  Entire home/apt   2830              10                  0   \n",
       "41500  Entire home/apt   3888               2                  0   \n",
       "41501  Entire home/apt   3888               2                  0   \n",
       "\n",
       "       reviews_per_month  calculated_host_listings_count  availability_365  \\\n",
       "322                 0.20                              10               365   \n",
       "474                 0.57                               1                28   \n",
       "734                 0.02                               1                 0   \n",
       "895                 0.47                              10               365   \n",
       "960                 0.31                               1               148   \n",
       "...                  ...                             ...               ...   \n",
       "41403                NaN                               5               364   \n",
       "41404                NaN                              10               337   \n",
       "41471                NaN                               1               359   \n",
       "41500                NaN                               8               365   \n",
       "41501                NaN                               2               364   \n",
       "\n",
       "       number_of_reviews_ltm  accommodates  bedrooms bathrooms_text  \\\n",
       "322                        0             9       2.0      2.5 baths   \n",
       "474                        2             1       1.0  1 shared bath   \n",
       "734                        0            16       1.0  1 shared bath   \n",
       "895                        0             8       2.0      2.5 baths   \n",
       "960                        3            10       4.0      2.5 baths   \n",
       "...                      ...           ...       ...            ...   \n",
       "41403                      0            16       2.0         1 bath   \n",
       "41404                      0             6       3.0        3 baths   \n",
       "41471                      0            12       6.0        8 baths   \n",
       "41500                      0            16       9.0      4.5 baths   \n",
       "41501                      0            16       9.0      4.5 baths   \n",
       "\n",
       "                                               amenities  \n",
       "322    [\"Carbon monoxide alarm\", \"Pets allowed\", \"Sha...  \n",
       "474    [\"Carbon monoxide alarm\", \"Shampoo\", \"Stove\", ...  \n",
       "734    [\"Washer\", \"Elevator\", \"Heating\", \"Wifi\", \"Lon...  \n",
       "895    [\"Carbon monoxide alarm\", \"Shampoo\", \"Bathtub\"...  \n",
       "960    [\"Carbon monoxide alarm\", \"Hot water kettle\", ...  \n",
       "...                                                  ...  \n",
       "41403  [\"Carbon monoxide alarm\", \"Hot water kettle\", ...  \n",
       "41404  [\"Carbon monoxide alarm\", \"Shampoo\", \"Stove\", ...  \n",
       "41471  [\"Sound system with Bluetooth and aux\", \"Hot w...  \n",
       "41500  [\"Carbon monoxide alarm\", \"Hot water kettle\", ...  \n",
       "41501  [\"Carbon monoxide alarm\", \"Hot water kettle\", ...  \n",
       "\n",
       "[594 rows x 19 columns]"
      ]
     },
     "execution_count": 17,
     "metadata": {},
     "output_type": "execute_result"
    }
   ],
   "source": [
    "df[df.price > sigma*3]"
   ]
  },
  {
   "attachments": {},
   "cell_type": "markdown",
   "metadata": {},
   "source": [
    "There is no way accurately verify these listings and there are enough samples in the dataset to risk losing some accuracy in the model. I will drop them."
   ]
  },
  {
   "cell_type": "code",
   "execution_count": 18,
   "metadata": {},
   "outputs": [],
   "source": [
    "df = df.drop(df.loc[df.price > sigma*3].index)"
   ]
  },
  {
   "cell_type": "code",
   "execution_count": 19,
   "metadata": {},
   "outputs": [
    {
     "data": {
      "text/plain": [
       "count    40747.000000\n",
       "mean       178.064373\n",
       "std        161.756725\n",
       "min         10.000000\n",
       "25%         80.000000\n",
       "50%        130.000000\n",
       "75%        211.000000\n",
       "max       1200.000000\n",
       "Name: price, dtype: float64"
      ]
     },
     "execution_count": 19,
     "metadata": {},
     "output_type": "execute_result"
    }
   ],
   "source": [
    "df.price.describe()"
   ]
  },
  {
   "cell_type": "code",
   "execution_count": 20,
   "metadata": {},
   "outputs": [
    {
     "data": {
      "image/png": "[encoded data removed]",
      "text/plain": [
       "<Figure size 640x480 with 1 Axes>"
      ]
     },
     "metadata": {},
     "output_type": "display_data"
    }
   ],
   "source": [
    "plt.hist(df.price, bins=50, density=True, alpha=0.6, color='b')\n",
    "\n",
    "# plot PDF of normal distribution\n",
    "mu, std = norm.fit(df.price)\n",
    "xmin, xmax = plt.xlim()\n",
    "x = np.linspace(xmin, xmax, 100)\n",
    "p = norm.pdf(x, mu, std)\n",
    "plt.plot(x, p, 'k', linewidth=2)\n",
    "\n",
    "# add labels and title\n",
    "plt.xlabel('Price')\n",
    "plt.ylabel('Frequency')\n",
    "plt.title('Histogram of Price with Fitted Normal Distribution')\n",
    "\n",
    "plt.show()"
   ]
  },
  {
   "cell_type": "code",
   "execution_count": 21,
   "metadata": {},
   "outputs": [
    {
     "data": {
      "image/png": "[encoded data removed]",
      "text/plain": [
       "<Figure size 640x480 with 1 Axes>"
      ]
     },
     "metadata": {},
     "output_type": "display_data"
    }
   ],
   "source": [
    "plt.scatter(df['minimum_nights'], df['price'])\n",
    "plt.xlabel('Minimum Nights')\n",
    "plt.ylabel('Price')\n",
    "plt.title('Scatter Plot of Minimum Nights vs. Price')\n",
    "plt.show()"
   ]
  },
  {
   "cell_type": "code",
   "execution_count": 22,
   "metadata": {},
   "outputs": [
    {
     "data": {
      "text/plain": [
       "Budget          7799\n",
       "Average        19102\n",
       "Expensive       9942\n",
       "Extravagant     3904\n",
       "Name: price_range, dtype: int64"
      ]
     },
     "execution_count": 22,
     "metadata": {},
     "output_type": "execute_result"
    }
   ],
   "source": [
    "df = df.rename(columns={'neighbourhood_group': 'borough'})\n",
    "boroughs = df.groupby(\"borough\")[\"price\"].agg([\"sum\", \"mean\", \"median\", \"count\"])\n",
    "boroughs = boroughs.round(2).sort_values(\"mean\", ascending=False)\n",
    "label_names = [\"Budget\", \"Average\", \"Expensive\", \"Extravagant\"]\n",
    "ranges = [0, 69, 175, 350, np.inf]\n",
    "df[\"price_range\"] = pd.cut(df[\"price\"], bins=ranges, labels=label_names)\n",
    "prices_by_borough = df.groupby([\"borough\", \"price_range\"])[\"price_range\"].count()\n",
    "df.price_range.value_counts(sort=False)"
   ]
  },
  {
   "cell_type": "code",
   "execution_count": 23,
   "metadata": {},
   "outputs": [
    {
     "data": {
      "image/png": "[encoded data removed]",
      "text/plain": [
       "<Figure size 640x480 with 1 Axes>"
      ]
     },
     "metadata": {},
     "output_type": "display_data"
    }
   ],
   "source": [
    "ax = sns.countplot(y='borough', hue='price_range', data=df)\n",
    "for container in ax.containers:\n",
    "    ax.bar_label(container, fontsize=10)\n",
    "plt.ylabel('Borough')\n",
    "plt.xlabel('Count')\n",
    "plt.title('Distribution of Price Range by Borough')\n",
    "plt.show()"
   ]
  },
  {
   "cell_type": "code",
   "execution_count": 24,
   "metadata": {},
   "outputs": [
    {
     "data": {
      "text/plain": [
       "Half-bath            37\n",
       "Shared half-bath     17\n",
       "Private half-bath    12\n",
       "Name: bathrooms_text, dtype: int64"
      ]
     },
     "execution_count": 24,
     "metadata": {},
     "output_type": "execute_result"
    }
   ],
   "source": [
    "df['bathrooms'] = df['bathrooms_text'].str.extract(r'(\\d+)', expand=False).astype(float)\n",
    "df.loc[df.bathrooms.isna()].bathrooms_text.value_counts()"
   ]
  },
  {
   "cell_type": "code",
   "execution_count": 25,
   "metadata": {},
   "outputs": [
    {
     "data": {
      "text/plain": [
       "1.0    35928\n",
       "2.0     4137\n",
       "3.0      366\n",
       "0.0      213\n",
       "4.0       84\n",
       "5.0       12\n",
       "6.0        7\n",
       "Name: bathrooms, dtype: int64"
      ]
     },
     "execution_count": 25,
     "metadata": {},
     "output_type": "execute_result"
    }
   ],
   "source": [
    "df.bathrooms.fillna(value=1, inplace=True)\n",
    "df.bathrooms.value_counts()"
   ]
  },
  {
   "cell_type": "code",
   "execution_count": 26,
   "metadata": {},
   "outputs": [
    {
     "data": {
      "text/html": [
       "<div>\n",
       "<style scoped>\n",
       "    .dataframe tbody tr th:only-of-type {\n",
       "        vertical-align: middle;\n",
       "    }\n",
       "\n",
       "    .dataframe tbody tr th {\n",
       "        vertical-align: top;\n",
       "    }\n",
       "\n",
       "    .dataframe thead th {\n",
       "        text-align: right;\n",
       "    }\n",
       "</style>\n",
       "<table border=\"1\" class=\"dataframe\">\n",
       "  <thead>\n",
       "    <tr style=\"text-align: right;\">\n",
       "      <th></th>\n",
       "      <th>id</th>\n",
       "      <th>host_id</th>\n",
       "      <th>latitude</th>\n",
       "      <th>longitude</th>\n",
       "      <th>price</th>\n",
       "      <th>minimum_nights</th>\n",
       "      <th>number_of_reviews</th>\n",
       "      <th>reviews_per_month</th>\n",
       "      <th>calculated_host_listings_count</th>\n",
       "      <th>availability_365</th>\n",
       "      <th>number_of_reviews_ltm</th>\n",
       "      <th>accommodates</th>\n",
       "      <th>bedrooms</th>\n",
       "      <th>bathrooms</th>\n",
       "    </tr>\n",
       "  </thead>\n",
       "  <tbody>\n",
       "    <tr>\n",
       "      <th>count</th>\n",
       "      <td>4.074700e+04</td>\n",
       "      <td>4.074700e+04</td>\n",
       "      <td>40747.000000</td>\n",
       "      <td>40747.000000</td>\n",
       "      <td>40747.000000</td>\n",
       "      <td>40747.000000</td>\n",
       "      <td>40747.000000</td>\n",
       "      <td>31765.000000</td>\n",
       "      <td>40747.000000</td>\n",
       "      <td>40747.000000</td>\n",
       "      <td>40747.000000</td>\n",
       "      <td>40747.000000</td>\n",
       "      <td>36990.000000</td>\n",
       "      <td>40747.000000</td>\n",
       "    </tr>\n",
       "    <tr>\n",
       "      <th>mean</th>\n",
       "      <td>1.704218e+17</td>\n",
       "      <td>1.387333e+08</td>\n",
       "      <td>40.728056</td>\n",
       "      <td>-73.943838</td>\n",
       "      <td>178.064373</td>\n",
       "      <td>18.758608</td>\n",
       "      <td>26.342356</td>\n",
       "      <td>1.279265</td>\n",
       "      <td>20.374899</td>\n",
       "      <td>141.877733</td>\n",
       "      <td>8.061011</td>\n",
       "      <td>2.881562</td>\n",
       "      <td>1.359043</td>\n",
       "      <td>1.122488</td>\n",
       "    </tr>\n",
       "    <tr>\n",
       "      <th>std</th>\n",
       "      <td>2.956467e+17</td>\n",
       "      <td>1.521952e+08</td>\n",
       "      <td>0.057497</td>\n",
       "      <td>0.056085</td>\n",
       "      <td>161.756725</td>\n",
       "      <td>30.741879</td>\n",
       "      <td>55.798666</td>\n",
       "      <td>1.925491</td>\n",
       "      <td>69.207090</td>\n",
       "      <td>143.842308</td>\n",
       "      <td>18.582670</td>\n",
       "      <td>1.908052</td>\n",
       "      <td>0.723698</td>\n",
       "      <td>0.394013</td>\n",
       "    </tr>\n",
       "    <tr>\n",
       "      <th>min</th>\n",
       "      <td>2.595000e+03</td>\n",
       "      <td>2.438000e+03</td>\n",
       "      <td>40.500314</td>\n",
       "      <td>-74.249840</td>\n",
       "      <td>10.000000</td>\n",
       "      <td>1.000000</td>\n",
       "      <td>0.000000</td>\n",
       "      <td>0.010000</td>\n",
       "      <td>1.000000</td>\n",
       "      <td>0.000000</td>\n",
       "      <td>0.000000</td>\n",
       "      <td>1.000000</td>\n",
       "      <td>1.000000</td>\n",
       "      <td>0.000000</td>\n",
       "    </tr>\n",
       "    <tr>\n",
       "      <th>25%</th>\n",
       "      <td>1.804666e+07</td>\n",
       "      <td>1.468051e+07</td>\n",
       "      <td>40.687400</td>\n",
       "      <td>-73.981805</td>\n",
       "      <td>80.000000</td>\n",
       "      <td>2.000000</td>\n",
       "      <td>1.000000</td>\n",
       "      <td>0.140000</td>\n",
       "      <td>1.000000</td>\n",
       "      <td>0.000000</td>\n",
       "      <td>0.000000</td>\n",
       "      <td>2.000000</td>\n",
       "      <td>1.000000</td>\n",
       "      <td>1.000000</td>\n",
       "    </tr>\n",
       "    <tr>\n",
       "      <th>50%</th>\n",
       "      <td>4.104247e+07</td>\n",
       "      <td>6.381370e+07</td>\n",
       "      <td>40.723065</td>\n",
       "      <td>-73.952550</td>\n",
       "      <td>130.000000</td>\n",
       "      <td>13.000000</td>\n",
       "      <td>5.000000</td>\n",
       "      <td>0.580000</td>\n",
       "      <td>1.000000</td>\n",
       "      <td>85.000000</td>\n",
       "      <td>1.000000</td>\n",
       "      <td>2.000000</td>\n",
       "      <td>1.000000</td>\n",
       "      <td>1.000000</td>\n",
       "    </tr>\n",
       "    <tr>\n",
       "      <th>75%</th>\n",
       "      <td>5.380053e+17</td>\n",
       "      <td>2.368835e+08</td>\n",
       "      <td>40.762420</td>\n",
       "      <td>-73.924306</td>\n",
       "      <td>211.000000</td>\n",
       "      <td>30.000000</td>\n",
       "      <td>25.000000</td>\n",
       "      <td>1.880000</td>\n",
       "      <td>4.000000</td>\n",
       "      <td>308.000000</td>\n",
       "      <td>8.000000</td>\n",
       "      <td>4.000000</td>\n",
       "      <td>1.000000</td>\n",
       "      <td>1.000000</td>\n",
       "    </tr>\n",
       "    <tr>\n",
       "      <th>max</th>\n",
       "      <td>7.741268e+17</td>\n",
       "      <td>4.899967e+08</td>\n",
       "      <td>40.911380</td>\n",
       "      <td>-73.710870</td>\n",
       "      <td>1200.000000</td>\n",
       "      <td>1250.000000</td>\n",
       "      <td>1666.000000</td>\n",
       "      <td>102.980000</td>\n",
       "      <td>487.000000</td>\n",
       "      <td>365.000000</td>\n",
       "      <td>992.000000</td>\n",
       "      <td>16.000000</td>\n",
       "      <td>11.000000</td>\n",
       "      <td>6.000000</td>\n",
       "    </tr>\n",
       "  </tbody>\n",
       "</table>\n",
       "</div>"
      ],
      "text/plain": [
       "                 id       host_id      latitude     longitude         price  \\\n",
       "count  4.074700e+04  4.074700e+04  40747.000000  40747.000000  40747.000000   \n",
       "mean   1.704218e+17  1.387333e+08     40.728056    -73.943838    178.064373   \n",
       "std    2.956467e+17  1.521952e+08      0.057497      0.056085    161.756725   \n",
       "min    2.595000e+03  2.438000e+03     40.500314    -74.249840     10.000000   \n",
       "25%    1.804666e+07  1.468051e+07     40.687400    -73.981805     80.000000   \n",
       "50%    4.104247e+07  6.381370e+07     40.723065    -73.952550    130.000000   \n",
       "75%    5.380053e+17  2.368835e+08     40.762420    -73.924306    211.000000   \n",
       "max    7.741268e+17  4.899967e+08     40.911380    -73.710870   1200.000000   \n",
       "\n",
       "       minimum_nights  number_of_reviews  reviews_per_month  \\\n",
       "count    40747.000000       40747.000000       31765.000000   \n",
       "mean        18.758608          26.342356           1.279265   \n",
       "std         30.741879          55.798666           1.925491   \n",
       "min          1.000000           0.000000           0.010000   \n",
       "25%          2.000000           1.000000           0.140000   \n",
       "50%         13.000000           5.000000           0.580000   \n",
       "75%         30.000000          25.000000           1.880000   \n",
       "max       1250.000000        1666.000000         102.980000   \n",
       "\n",
       "       calculated_host_listings_count  availability_365  \\\n",
       "count                    40747.000000      40747.000000   \n",
       "mean                        20.374899        141.877733   \n",
       "std                         69.207090        143.842308   \n",
       "min                          1.000000          0.000000   \n",
       "25%                          1.000000          0.000000   \n",
       "50%                          1.000000         85.000000   \n",
       "75%                          4.000000        308.000000   \n",
       "max                        487.000000        365.000000   \n",
       "\n",
       "       number_of_reviews_ltm  accommodates      bedrooms     bathrooms  \n",
       "count           40747.000000  40747.000000  36990.000000  40747.000000  \n",
       "mean                8.061011      2.881562      1.359043      1.122488  \n",
       "std                18.582670      1.908052      0.723698      0.394013  \n",
       "min                 0.000000      1.000000      1.000000      0.000000  \n",
       "25%                 0.000000      2.000000      1.000000      1.000000  \n",
       "50%                 1.000000      2.000000      1.000000      1.000000  \n",
       "75%                 8.000000      4.000000      1.000000      1.000000  \n",
       "max               992.000000     16.000000     11.000000      6.000000  "
      ]
     },
     "execution_count": 26,
     "metadata": {},
     "output_type": "execute_result"
    }
   ],
   "source": [
    "df.describe()"
   ]
  },
  {
   "cell_type": "code",
   "execution_count": 27,
   "metadata": {},
   "outputs": [],
   "source": [
    "# create a new column 'reviews_count'\n",
    "df['reviews_count'] = df.apply(lambda row: row['number_of_reviews_ltm'] if row['number_of_reviews_ltm'] != row['number_of_reviews'] else row['number_of_reviews'], axis=1)\n",
    "\n",
    "# fill missing values in 'reviews_count' with values from other column\n",
    "df['reviews_count'].fillna(df['number_of_reviews'], inplace=True)\n",
    "\n",
    "# drop 'number_of_reviews' and 'number_of_reviews_ltm' columns\n",
    "df.drop(['number_of_reviews', 'number_of_reviews_ltm'], axis=1, inplace=True)\n"
   ]
  },
  {
   "cell_type": "code",
   "execution_count": 28,
   "metadata": {},
   "outputs": [
    {
     "data": {
      "text/plain": [
       "count    40747.000000\n",
       "mean         8.061011\n",
       "std         18.582670\n",
       "min          0.000000\n",
       "25%          0.000000\n",
       "50%          1.000000\n",
       "75%          8.000000\n",
       "max        992.000000\n",
       "Name: reviews_count, dtype: float64"
      ]
     },
     "execution_count": 28,
     "metadata": {},
     "output_type": "execute_result"
    }
   ],
   "source": [
    "df.reviews_count.describe()"
   ]
  },
  {
   "cell_type": "code",
   "execution_count": 29,
   "metadata": {},
   "outputs": [
    {
     "name": "stdout",
     "output_type": "stream",
     "text": [
      "               reviews_count     price\n",
      "reviews_count       1.000000  0.048904\n",
      "price               0.048904  1.000000\n"
     ]
    }
   ],
   "source": [
    "corr_matrix = df[['reviews_count', 'price']].corr()\n",
    "print(corr_matrix)"
   ]
  },
  {
   "cell_type": "code",
   "execution_count": 30,
   "metadata": {},
   "outputs": [
    {
     "data": {
      "image/png": "[encoded data removed]",
      "text/plain": [
       "<Figure size 640x480 with 1 Axes>"
      ]
     },
     "metadata": {},
     "output_type": "display_data"
    }
   ],
   "source": [
    "import matplotlib.pyplot as plt\n",
    "\n",
    "plt.scatter(df['reviews_count'], df['price'])\n",
    "plt.xlabel('Reviews Count')\n",
    "plt.ylabel('Price')\n",
    "plt.show()"
   ]
  },
  {
   "cell_type": "code",
   "execution_count": 31,
   "metadata": {},
   "outputs": [
    {
     "data": {
      "text/html": [
       "<div>\n",
       "<style scoped>\n",
       "    .dataframe tbody tr th:only-of-type {\n",
       "        vertical-align: middle;\n",
       "    }\n",
       "\n",
       "    .dataframe tbody tr th {\n",
       "        vertical-align: top;\n",
       "    }\n",
       "\n",
       "    .dataframe thead th {\n",
       "        text-align: right;\n",
       "    }\n",
       "</style>\n",
       "<table border=\"1\" class=\"dataframe\">\n",
       "  <thead>\n",
       "    <tr style=\"text-align: right;\">\n",
       "      <th></th>\n",
       "      <th>id</th>\n",
       "      <th>name</th>\n",
       "      <th>host_id</th>\n",
       "      <th>borough</th>\n",
       "      <th>neighbourhood</th>\n",
       "      <th>latitude</th>\n",
       "      <th>longitude</th>\n",
       "      <th>room_type</th>\n",
       "      <th>price</th>\n",
       "      <th>minimum_nights</th>\n",
       "      <th>reviews_per_month</th>\n",
       "      <th>calculated_host_listings_count</th>\n",
       "      <th>availability_365</th>\n",
       "      <th>accommodates</th>\n",
       "      <th>bedrooms</th>\n",
       "      <th>bathrooms_text</th>\n",
       "      <th>amenities</th>\n",
       "      <th>price_range</th>\n",
       "      <th>bathrooms</th>\n",
       "      <th>reviews_count</th>\n",
       "    </tr>\n",
       "  </thead>\n",
       "  <tbody>\n",
       "    <tr>\n",
       "      <th>0</th>\n",
       "      <td>5136</td>\n",
       "      <td>Spacious Brooklyn Duplex, Patio + Garden</td>\n",
       "      <td>7378</td>\n",
       "      <td>Brooklyn</td>\n",
       "      <td>Sunset Park</td>\n",
       "      <td>40.66265</td>\n",
       "      <td>-73.99454</td>\n",
       "      <td>Entire home/apt</td>\n",
       "      <td>275</td>\n",
       "      <td>21</td>\n",
       "      <td>0.03</td>\n",
       "      <td>1</td>\n",
       "      <td>267</td>\n",
       "      <td>4</td>\n",
       "      <td>2.0</td>\n",
       "      <td>1.5 baths</td>\n",
       "      <td>[\"HDTV with Disney+, HBO Max, standard cable, ...</td>\n",
       "      <td>Expensive</td>\n",
       "      <td>1.0</td>\n",
       "      <td>1</td>\n",
       "    </tr>\n",
       "    <tr>\n",
       "      <th>1</th>\n",
       "      <td>5203</td>\n",
       "      <td>Cozy Clean Guest Room - Family Apt</td>\n",
       "      <td>7490</td>\n",
       "      <td>Manhattan</td>\n",
       "      <td>Upper West Side</td>\n",
       "      <td>40.80380</td>\n",
       "      <td>-73.96751</td>\n",
       "      <td>Private room</td>\n",
       "      <td>75</td>\n",
       "      <td>2</td>\n",
       "      <td>0.73</td>\n",
       "      <td>1</td>\n",
       "      <td>0</td>\n",
       "      <td>1</td>\n",
       "      <td>1.0</td>\n",
       "      <td>1 shared bath</td>\n",
       "      <td>[\"Hair dryer\", \"Smoke alarm\", \"Carbon monoxide...</td>\n",
       "      <td>Average</td>\n",
       "      <td>1.0</td>\n",
       "      <td>0</td>\n",
       "    </tr>\n",
       "    <tr>\n",
       "      <th>2</th>\n",
       "      <td>5121</td>\n",
       "      <td>BlissArtsSpace!</td>\n",
       "      <td>7356</td>\n",
       "      <td>Brooklyn</td>\n",
       "      <td>Bedford-Stuyvesant</td>\n",
       "      <td>40.68535</td>\n",
       "      <td>-73.95512</td>\n",
       "      <td>Private room</td>\n",
       "      <td>60</td>\n",
       "      <td>30</td>\n",
       "      <td>0.30</td>\n",
       "      <td>2</td>\n",
       "      <td>322</td>\n",
       "      <td>2</td>\n",
       "      <td>1.0</td>\n",
       "      <td>NaN</td>\n",
       "      <td>[\"Heating\", \"Wifi\", \"Long term stays allowed\",...</td>\n",
       "      <td>Budget</td>\n",
       "      <td>1.0</td>\n",
       "      <td>0</td>\n",
       "    </tr>\n",
       "    <tr>\n",
       "      <th>3</th>\n",
       "      <td>5178</td>\n",
       "      <td>Large Furnished Room Near B'way</td>\n",
       "      <td>8967</td>\n",
       "      <td>Manhattan</td>\n",
       "      <td>Midtown</td>\n",
       "      <td>40.76457</td>\n",
       "      <td>-73.98317</td>\n",
       "      <td>Private room</td>\n",
       "      <td>68</td>\n",
       "      <td>2</td>\n",
       "      <td>3.38</td>\n",
       "      <td>1</td>\n",
       "      <td>79</td>\n",
       "      <td>2</td>\n",
       "      <td>1.0</td>\n",
       "      <td>1 bath</td>\n",
       "      <td>[\"Shampoo\", \"Conditioner\", \"TV\", \"Drying rack ...</td>\n",
       "      <td>Budget</td>\n",
       "      <td>1.0</td>\n",
       "      <td>50</td>\n",
       "    </tr>\n",
       "    <tr>\n",
       "      <th>4</th>\n",
       "      <td>2595</td>\n",
       "      <td>Skylit Midtown Castle</td>\n",
       "      <td>2845</td>\n",
       "      <td>Manhattan</td>\n",
       "      <td>Midtown</td>\n",
       "      <td>40.75356</td>\n",
       "      <td>-73.98559</td>\n",
       "      <td>Entire home/apt</td>\n",
       "      <td>175</td>\n",
       "      <td>30</td>\n",
       "      <td>0.31</td>\n",
       "      <td>3</td>\n",
       "      <td>365</td>\n",
       "      <td>1</td>\n",
       "      <td>NaN</td>\n",
       "      <td>1 bath</td>\n",
       "      <td>[\"Carbon monoxide alarm\", \"Stove\", \"Bathtub\", ...</td>\n",
       "      <td>Average</td>\n",
       "      <td>1.0</td>\n",
       "      <td>1</td>\n",
       "    </tr>\n",
       "  </tbody>\n",
       "</table>\n",
       "</div>"
      ],
      "text/plain": [
       "     id                                      name  host_id    borough  \\\n",
       "0  5136  Spacious Brooklyn Duplex, Patio + Garden     7378   Brooklyn   \n",
       "1  5203        Cozy Clean Guest Room - Family Apt     7490  Manhattan   \n",
       "2  5121                           BlissArtsSpace!     7356   Brooklyn   \n",
       "3  5178          Large Furnished Room Near B'way　     8967  Manhattan   \n",
       "4  2595                     Skylit Midtown Castle     2845  Manhattan   \n",
       "\n",
       "        neighbourhood  latitude  longitude        room_type  price  \\\n",
       "0         Sunset Park  40.66265  -73.99454  Entire home/apt    275   \n",
       "1     Upper West Side  40.80380  -73.96751     Private room     75   \n",
       "2  Bedford-Stuyvesant  40.68535  -73.95512     Private room     60   \n",
       "3             Midtown  40.76457  -73.98317     Private room     68   \n",
       "4             Midtown  40.75356  -73.98559  Entire home/apt    175   \n",
       "\n",
       "   minimum_nights  reviews_per_month  calculated_host_listings_count  \\\n",
       "0              21               0.03                               1   \n",
       "1               2               0.73                               1   \n",
       "2              30               0.30                               2   \n",
       "3               2               3.38                               1   \n",
       "4              30               0.31                               3   \n",
       "\n",
       "   availability_365  accommodates  bedrooms bathrooms_text  \\\n",
       "0               267             4       2.0      1.5 baths   \n",
       "1                 0             1       1.0  1 shared bath   \n",
       "2               322             2       1.0            NaN   \n",
       "3                79             2       1.0         1 bath   \n",
       "4               365             1       NaN         1 bath   \n",
       "\n",
       "                                           amenities price_range  bathrooms  \\\n",
       "0  [\"HDTV with Disney+, HBO Max, standard cable, ...   Expensive        1.0   \n",
       "1  [\"Hair dryer\", \"Smoke alarm\", \"Carbon monoxide...     Average        1.0   \n",
       "2  [\"Heating\", \"Wifi\", \"Long term stays allowed\",...      Budget        1.0   \n",
       "3  [\"Shampoo\", \"Conditioner\", \"TV\", \"Drying rack ...      Budget        1.0   \n",
       "4  [\"Carbon monoxide alarm\", \"Stove\", \"Bathtub\", ...     Average        1.0   \n",
       "\n",
       "   reviews_count  \n",
       "0              1  \n",
       "1              0  \n",
       "2              0  \n",
       "3             50  \n",
       "4              1  "
      ]
     },
     "execution_count": 31,
     "metadata": {},
     "output_type": "execute_result"
    }
   ],
   "source": [
    "df.head()"
   ]
  },
  {
   "cell_type": "code",
   "execution_count": 32,
   "metadata": {},
   "outputs": [
    {
     "data": {
      "text/plain": [
       "Entire home/apt    23227\n",
       "Private room       16995\n",
       "Shared room          525\n",
       "Name: room_type, dtype: int64"
      ]
     },
     "execution_count": 32,
     "metadata": {},
     "output_type": "execute_result"
    }
   ],
   "source": [
    "df.room_type.value_counts()"
   ]
  },
  {
   "cell_type": "code",
   "execution_count": 33,
   "metadata": {},
   "outputs": [],
   "source": [
    "from sklearn.preprocessing import LabelEncoder\n",
    "\n",
    "# define ordering of categories to be encoded\n",
    "cols_categorical = ['room_type', 'price_range']\n",
    "room_order = ['Shared room', 'Private room', 'Entire home/apt']\n",
    "price_order = [\"Budget\", \"Average\", \"Expensive\", \"Extravagant\"]\n",
    "\n",
    "# create a dict to store encoder object\n",
    "encoders = dict()\n",
    "\n",
    "for col, order in zip(cols_categorical, [room_order, price_order]):\n",
    "    encoders[col] = LabelEncoder()\n",
    "    encoders[col].fit(order)\n",
    "    df[col+'_encoded'] = encoders[col].transform(df[col])"
   ]
  },
  {
   "cell_type": "code",
   "execution_count": 34,
   "metadata": {},
   "outputs": [
    {
     "data": {
      "text/html": [
       "<div>\n",
       "<style scoped>\n",
       "    .dataframe tbody tr th:only-of-type {\n",
       "        vertical-align: middle;\n",
       "    }\n",
       "\n",
       "    .dataframe tbody tr th {\n",
       "        vertical-align: top;\n",
       "    }\n",
       "\n",
       "    .dataframe thead th {\n",
       "        text-align: right;\n",
       "    }\n",
       "</style>\n",
       "<table border=\"1\" class=\"dataframe\">\n",
       "  <thead>\n",
       "    <tr style=\"text-align: right;\">\n",
       "      <th></th>\n",
       "      <th>id</th>\n",
       "      <th>name</th>\n",
       "      <th>host_id</th>\n",
       "      <th>borough</th>\n",
       "      <th>neighbourhood</th>\n",
       "      <th>latitude</th>\n",
       "      <th>longitude</th>\n",
       "      <th>room_type</th>\n",
       "      <th>price</th>\n",
       "      <th>minimum_nights</th>\n",
       "      <th>...</th>\n",
       "      <th>availability_365</th>\n",
       "      <th>accommodates</th>\n",
       "      <th>bedrooms</th>\n",
       "      <th>bathrooms_text</th>\n",
       "      <th>amenities</th>\n",
       "      <th>price_range</th>\n",
       "      <th>bathrooms</th>\n",
       "      <th>reviews_count</th>\n",
       "      <th>room_type_encoded</th>\n",
       "      <th>price_range_encoded</th>\n",
       "    </tr>\n",
       "  </thead>\n",
       "  <tbody>\n",
       "    <tr>\n",
       "      <th>0</th>\n",
       "      <td>5136</td>\n",
       "      <td>Spacious Brooklyn Duplex, Patio + Garden</td>\n",
       "      <td>7378</td>\n",
       "      <td>Brooklyn</td>\n",
       "      <td>Sunset Park</td>\n",
       "      <td>40.66265</td>\n",
       "      <td>-73.99454</td>\n",
       "      <td>Entire home/apt</td>\n",
       "      <td>275</td>\n",
       "      <td>21</td>\n",
       "      <td>...</td>\n",
       "      <td>267</td>\n",
       "      <td>4</td>\n",
       "      <td>2.0</td>\n",
       "      <td>1.5 baths</td>\n",
       "      <td>[\"HDTV with Disney+, HBO Max, standard cable, ...</td>\n",
       "      <td>Expensive</td>\n",
       "      <td>1.0</td>\n",
       "      <td>1</td>\n",
       "      <td>0</td>\n",
       "      <td>2</td>\n",
       "    </tr>\n",
       "    <tr>\n",
       "      <th>1</th>\n",
       "      <td>5203</td>\n",
       "      <td>Cozy Clean Guest Room - Family Apt</td>\n",
       "      <td>7490</td>\n",
       "      <td>Manhattan</td>\n",
       "      <td>Upper West Side</td>\n",
       "      <td>40.80380</td>\n",
       "      <td>-73.96751</td>\n",
       "      <td>Private room</td>\n",
       "      <td>75</td>\n",
       "      <td>2</td>\n",
       "      <td>...</td>\n",
       "      <td>0</td>\n",
       "      <td>1</td>\n",
       "      <td>1.0</td>\n",
       "      <td>1 shared bath</td>\n",
       "      <td>[\"Hair dryer\", \"Smoke alarm\", \"Carbon monoxide...</td>\n",
       "      <td>Average</td>\n",
       "      <td>1.0</td>\n",
       "      <td>0</td>\n",
       "      <td>1</td>\n",
       "      <td>0</td>\n",
       "    </tr>\n",
       "    <tr>\n",
       "      <th>2</th>\n",
       "      <td>5121</td>\n",
       "      <td>BlissArtsSpace!</td>\n",
       "      <td>7356</td>\n",
       "      <td>Brooklyn</td>\n",
       "      <td>Bedford-Stuyvesant</td>\n",
       "      <td>40.68535</td>\n",
       "      <td>-73.95512</td>\n",
       "      <td>Private room</td>\n",
       "      <td>60</td>\n",
       "      <td>30</td>\n",
       "      <td>...</td>\n",
       "      <td>322</td>\n",
       "      <td>2</td>\n",
       "      <td>1.0</td>\n",
       "      <td>NaN</td>\n",
       "      <td>[\"Heating\", \"Wifi\", \"Long term stays allowed\",...</td>\n",
       "      <td>Budget</td>\n",
       "      <td>1.0</td>\n",
       "      <td>0</td>\n",
       "      <td>1</td>\n",
       "      <td>1</td>\n",
       "    </tr>\n",
       "    <tr>\n",
       "      <th>3</th>\n",
       "      <td>5178</td>\n",
       "      <td>Large Furnished Room Near B'way</td>\n",
       "      <td>8967</td>\n",
       "      <td>Manhattan</td>\n",
       "      <td>Midtown</td>\n",
       "      <td>40.76457</td>\n",
       "      <td>-73.98317</td>\n",
       "      <td>Private room</td>\n",
       "      <td>68</td>\n",
       "      <td>2</td>\n",
       "      <td>...</td>\n",
       "      <td>79</td>\n",
       "      <td>2</td>\n",
       "      <td>1.0</td>\n",
       "      <td>1 bath</td>\n",
       "      <td>[\"Shampoo\", \"Conditioner\", \"TV\", \"Drying rack ...</td>\n",
       "      <td>Budget</td>\n",
       "      <td>1.0</td>\n",
       "      <td>50</td>\n",
       "      <td>1</td>\n",
       "      <td>1</td>\n",
       "    </tr>\n",
       "    <tr>\n",
       "      <th>4</th>\n",
       "      <td>2595</td>\n",
       "      <td>Skylit Midtown Castle</td>\n",
       "      <td>2845</td>\n",
       "      <td>Manhattan</td>\n",
       "      <td>Midtown</td>\n",
       "      <td>40.75356</td>\n",
       "      <td>-73.98559</td>\n",
       "      <td>Entire home/apt</td>\n",
       "      <td>175</td>\n",
       "      <td>30</td>\n",
       "      <td>...</td>\n",
       "      <td>365</td>\n",
       "      <td>1</td>\n",
       "      <td>NaN</td>\n",
       "      <td>1 bath</td>\n",
       "      <td>[\"Carbon monoxide alarm\", \"Stove\", \"Bathtub\", ...</td>\n",
       "      <td>Average</td>\n",
       "      <td>1.0</td>\n",
       "      <td>1</td>\n",
       "      <td>0</td>\n",
       "      <td>0</td>\n",
       "    </tr>\n",
       "  </tbody>\n",
       "</table>\n",
       "<p>5 rows × 22 columns</p>\n",
       "</div>"
      ],
      "text/plain": [
       "     id                                      name  host_id    borough  \\\n",
       "0  5136  Spacious Brooklyn Duplex, Patio + Garden     7378   Brooklyn   \n",
       "1  5203        Cozy Clean Guest Room - Family Apt     7490  Manhattan   \n",
       "2  5121                           BlissArtsSpace!     7356   Brooklyn   \n",
       "3  5178          Large Furnished Room Near B'way　     8967  Manhattan   \n",
       "4  2595                     Skylit Midtown Castle     2845  Manhattan   \n",
       "\n",
       "        neighbourhood  latitude  longitude        room_type  price  \\\n",
       "0         Sunset Park  40.66265  -73.99454  Entire home/apt    275   \n",
       "1     Upper West Side  40.80380  -73.96751     Private room     75   \n",
       "2  Bedford-Stuyvesant  40.68535  -73.95512     Private room     60   \n",
       "3             Midtown  40.76457  -73.98317     Private room     68   \n",
       "4             Midtown  40.75356  -73.98559  Entire home/apt    175   \n",
       "\n",
       "   minimum_nights  ...  availability_365  accommodates  bedrooms  \\\n",
       "0              21  ...               267             4       2.0   \n",
       "1               2  ...                 0             1       1.0   \n",
       "2              30  ...               322             2       1.0   \n",
       "3               2  ...                79             2       1.0   \n",
       "4              30  ...               365             1       NaN   \n",
       "\n",
       "   bathrooms_text                                          amenities  \\\n",
       "0       1.5 baths  [\"HDTV with Disney+, HBO Max, standard cable, ...   \n",
       "1   1 shared bath  [\"Hair dryer\", \"Smoke alarm\", \"Carbon monoxide...   \n",
       "2             NaN  [\"Heating\", \"Wifi\", \"Long term stays allowed\",...   \n",
       "3          1 bath  [\"Shampoo\", \"Conditioner\", \"TV\", \"Drying rack ...   \n",
       "4          1 bath  [\"Carbon monoxide alarm\", \"Stove\", \"Bathtub\", ...   \n",
       "\n",
       "  price_range bathrooms reviews_count  room_type_encoded  price_range_encoded  \n",
       "0   Expensive       1.0             1                  0                    2  \n",
       "1     Average       1.0             0                  1                    0  \n",
       "2      Budget       1.0             0                  1                    1  \n",
       "3      Budget       1.0            50                  1                    1  \n",
       "4     Average       1.0             1                  0                    0  \n",
       "\n",
       "[5 rows x 22 columns]"
      ]
     },
     "execution_count": 34,
     "metadata": {},
     "output_type": "execute_result"
    }
   ],
   "source": [
    "df.head()"
   ]
  },
  {
   "cell_type": "code",
   "execution_count": 35,
   "metadata": {},
   "outputs": [
    {
     "name": "stdout",
     "output_type": "stream",
     "text": [
      "1.0     27753\n",
      "2.0      6177\n",
      "3.0      2336\n",
      "4.0       549\n",
      "5.0       122\n",
      "6.0        37\n",
      "8.0         6\n",
      "7.0         6\n",
      "9.0         3\n",
      "11.0        1\n",
      "Name: bedrooms, dtype: int64 3757\n"
     ]
    }
   ],
   "source": [
    "print(df.bedrooms.value_counts(), df.bedrooms.isna().sum())"
   ]
  },
  {
   "cell_type": "code",
   "execution_count": 36,
   "metadata": {},
   "outputs": [
    {
     "data": {
      "text/plain": [
       "id                                   0\n",
       "name                                 0\n",
       "host_id                              0\n",
       "borough                              0\n",
       "neighbourhood                        0\n",
       "latitude                             0\n",
       "longitude                            0\n",
       "room_type                            0\n",
       "price                                0\n",
       "minimum_nights                       0\n",
       "reviews_per_month                 8982\n",
       "calculated_host_listings_count       0\n",
       "availability_365                     0\n",
       "accommodates                         0\n",
       "bedrooms                          3757\n",
       "bathrooms_text                      45\n",
       "amenities                            0\n",
       "price_range                          0\n",
       "bathrooms                            0\n",
       "reviews_count                        0\n",
       "room_type_encoded                    0\n",
       "price_range_encoded                  0\n",
       "dtype: int64"
      ]
     },
     "execution_count": 36,
     "metadata": {},
     "output_type": "execute_result"
    }
   ],
   "source": [
    "df.isna().sum()"
   ]
  },
  {
   "attachments": {},
   "cell_type": "markdown",
   "metadata": {},
   "source": [
    "There are 3757 listings with no bedroom information. Lets investigate these further."
   ]
  },
  {
   "cell_type": "code",
   "execution_count": 37,
   "metadata": {},
   "outputs": [
    {
     "data": {
      "image/png": "[encoded data removed]",
      "text/plain": [
       "<Figure size 640x480 with 1 Axes>"
      ]
     },
     "metadata": {},
     "output_type": "display_data"
    },
    {
     "data": {
      "image/png": "[encoded data removed]",
      "text/plain": [
       "<Figure size 640x480 with 1 Axes>"
      ]
     },
     "metadata": {},
     "output_type": "display_data"
    }
   ],
   "source": [
    "import matplotlib.pyplot as plt\n",
    "import seaborn as sns\n",
    "\n",
    "# Create two dataframes - one with bedroom information and one without\n",
    "df_bedrooms = df[df['bedrooms'].notna()]\n",
    "df_no_bedrooms = df[df['bedrooms'].isna()]\n",
    "\n",
    "# Plot histograms of the price column for each dataframe\n",
    "plt.hist(df_bedrooms['price'], bins=50, alpha=0.5, label='With Bedrooms')\n",
    "plt.hist(df_no_bedrooms['price'], bins=50, alpha=0.5, label='No Bedrooms')\n",
    "plt.legend(loc='upper right')\n",
    "plt.show()\n",
    "\n",
    "# boxplot of the price column \n",
    "sns.boxplot(x='bedrooms', y='price', data=df_bedrooms)\n",
    "plt.title('Listings with Bedrooms')\n",
    "plt.show()"
   ]
  },
  {
   "attachments": {},
   "cell_type": "markdown",
   "metadata": {},
   "source": [
    "These plots tell us two important things. The listings with missing bedroom information are more likely to be lower priced (below average), and that there appears to be a direct correlation between number of bedrooms and price. This means these listings are more likely going to have a smaller number of bedrooms. Lets plot the room_type for these listings to see if we can get more information."
   ]
  },
  {
   "cell_type": "code",
   "execution_count": 38,
   "metadata": {},
   "outputs": [
    {
     "data": {
      "text/plain": [
       "<AxesSubplot:xlabel='room_type', ylabel='count'>"
      ]
     },
     "execution_count": 38,
     "metadata": {},
     "output_type": "execute_result"
    },
    {
     "data": {
      "image/png": "[encoded data removed]",
      "text/plain": [
       "<Figure size 640x480 with 1 Axes>"
      ]
     },
     "metadata": {},
     "output_type": "display_data"
    }
   ],
   "source": [
    "sns.countplot(x='room_type', data=df_no_bedrooms)"
   ]
  },
  {
   "attachments": {},
   "cell_type": "markdown",
   "metadata": {},
   "source": [
    "Excellent, we've identified some ~500 listings that are private rooms. We can safely set the bedroom count for these listings as 1."
   ]
  },
  {
   "cell_type": "code",
   "execution_count": 39,
   "metadata": {},
   "outputs": [],
   "source": [
    "# Find the indices of the rows with missing bedrooms and Private room type\n",
    "idx = df.loc[df['bedrooms'].isna() & (df['room_type'] == 'Private room')].index\n",
    "\n",
    "# Fill the missing values with 1 for the selected rows\n",
    "df.loc[idx, 'bedrooms'] = 1"
   ]
  },
  {
   "attachments": {},
   "cell_type": "markdown",
   "metadata": {},
   "source": [
    "For now, I will drop the remaining entries."
   ]
  },
  {
   "cell_type": "code",
   "execution_count": 40,
   "metadata": {},
   "outputs": [],
   "source": [
    "df = df.dropna(subset=['bedrooms'])"
   ]
  },
  {
   "cell_type": "code",
   "execution_count": 41,
   "metadata": {},
   "outputs": [
    {
     "data": {
      "text/plain": [
       "id                                   0\n",
       "name                                 0\n",
       "host_id                              0\n",
       "borough                              0\n",
       "neighbourhood                        0\n",
       "latitude                             0\n",
       "longitude                            0\n",
       "room_type                            0\n",
       "price                                0\n",
       "minimum_nights                       0\n",
       "reviews_per_month                 8306\n",
       "calculated_host_listings_count       0\n",
       "availability_365                     0\n",
       "accommodates                         0\n",
       "bedrooms                             0\n",
       "bathrooms_text                      44\n",
       "amenities                            0\n",
       "price_range                          0\n",
       "bathrooms                            0\n",
       "reviews_count                        0\n",
       "room_type_encoded                    0\n",
       "price_range_encoded                  0\n",
       "dtype: int64"
      ]
     },
     "execution_count": 41,
     "metadata": {},
     "output_type": "execute_result"
    }
   ],
   "source": [
    "df.isna().sum()"
   ]
  },
  {
   "cell_type": "code",
   "execution_count": 42,
   "metadata": {},
   "outputs": [
    {
     "data": {
      "text/html": [
       "<div>\n",
       "<style scoped>\n",
       "    .dataframe tbody tr th:only-of-type {\n",
       "        vertical-align: middle;\n",
       "    }\n",
       "\n",
       "    .dataframe tbody tr th {\n",
       "        vertical-align: top;\n",
       "    }\n",
       "\n",
       "    .dataframe thead th {\n",
       "        text-align: right;\n",
       "    }\n",
       "</style>\n",
       "<table border=\"1\" class=\"dataframe\">\n",
       "  <thead>\n",
       "    <tr style=\"text-align: right;\">\n",
       "      <th></th>\n",
       "      <th>name</th>\n",
       "      <th>borough</th>\n",
       "      <th>neighbourhood</th>\n",
       "      <th>room_type_encoded</th>\n",
       "      <th>price</th>\n",
       "      <th>bathrooms</th>\n",
       "      <th>accommodates</th>\n",
       "      <th>bedrooms</th>\n",
       "      <th>price_range_encoded</th>\n",
       "      <th>minimum_nights</th>\n",
       "      <th>availability_365</th>\n",
       "    </tr>\n",
       "  </thead>\n",
       "  <tbody>\n",
       "    <tr>\n",
       "      <th>0</th>\n",
       "      <td>Spacious Brooklyn Duplex, Patio + Garden</td>\n",
       "      <td>Brooklyn</td>\n",
       "      <td>Sunset Park</td>\n",
       "      <td>0</td>\n",
       "      <td>275</td>\n",
       "      <td>1.0</td>\n",
       "      <td>4</td>\n",
       "      <td>2.0</td>\n",
       "      <td>2</td>\n",
       "      <td>21</td>\n",
       "      <td>267</td>\n",
       "    </tr>\n",
       "    <tr>\n",
       "      <th>1</th>\n",
       "      <td>Cozy Clean Guest Room - Family Apt</td>\n",
       "      <td>Manhattan</td>\n",
       "      <td>Upper West Side</td>\n",
       "      <td>1</td>\n",
       "      <td>75</td>\n",
       "      <td>1.0</td>\n",
       "      <td>1</td>\n",
       "      <td>1.0</td>\n",
       "      <td>0</td>\n",
       "      <td>2</td>\n",
       "      <td>0</td>\n",
       "    </tr>\n",
       "    <tr>\n",
       "      <th>2</th>\n",
       "      <td>BlissArtsSpace!</td>\n",
       "      <td>Brooklyn</td>\n",
       "      <td>Bedford-Stuyvesant</td>\n",
       "      <td>1</td>\n",
       "      <td>60</td>\n",
       "      <td>1.0</td>\n",
       "      <td>2</td>\n",
       "      <td>1.0</td>\n",
       "      <td>1</td>\n",
       "      <td>30</td>\n",
       "      <td>322</td>\n",
       "    </tr>\n",
       "    <tr>\n",
       "      <th>3</th>\n",
       "      <td>Large Furnished Room Near B'way</td>\n",
       "      <td>Manhattan</td>\n",
       "      <td>Midtown</td>\n",
       "      <td>1</td>\n",
       "      <td>68</td>\n",
       "      <td>1.0</td>\n",
       "      <td>2</td>\n",
       "      <td>1.0</td>\n",
       "      <td>1</td>\n",
       "      <td>2</td>\n",
       "      <td>79</td>\n",
       "    </tr>\n",
       "    <tr>\n",
       "      <th>5</th>\n",
       "      <td>Uptown Sanctuary w/ Private Bath (Month to Month)</td>\n",
       "      <td>Manhattan</td>\n",
       "      <td>East Harlem</td>\n",
       "      <td>1</td>\n",
       "      <td>65</td>\n",
       "      <td>1.0</td>\n",
       "      <td>1</td>\n",
       "      <td>1.0</td>\n",
       "      <td>1</td>\n",
       "      <td>30</td>\n",
       "      <td>300</td>\n",
       "    </tr>\n",
       "  </tbody>\n",
       "</table>\n",
       "</div>"
      ],
      "text/plain": [
       "                                                name    borough  \\\n",
       "0           Spacious Brooklyn Duplex, Patio + Garden   Brooklyn   \n",
       "1                 Cozy Clean Guest Room - Family Apt  Manhattan   \n",
       "2                                    BlissArtsSpace!   Brooklyn   \n",
       "3                   Large Furnished Room Near B'way　  Manhattan   \n",
       "5  Uptown Sanctuary w/ Private Bath (Month to Month)  Manhattan   \n",
       "\n",
       "        neighbourhood  room_type_encoded  price  bathrooms  accommodates  \\\n",
       "0         Sunset Park                  0    275        1.0             4   \n",
       "1     Upper West Side                  1     75        1.0             1   \n",
       "2  Bedford-Stuyvesant                  1     60        1.0             2   \n",
       "3             Midtown                  1     68        1.0             2   \n",
       "5         East Harlem                  1     65        1.0             1   \n",
       "\n",
       "   bedrooms  price_range_encoded  minimum_nights  availability_365  \n",
       "0       2.0                    2              21               267  \n",
       "1       1.0                    0               2                 0  \n",
       "2       1.0                    1              30               322  \n",
       "3       1.0                    1               2                79  \n",
       "5       1.0                    1              30               300  "
      ]
     },
     "execution_count": 42,
     "metadata": {},
     "output_type": "execute_result"
    }
   ],
   "source": [
    "cols_to_keep = ['name','borough', 'neighbourhood','room_type_encoded','price','bathrooms', 'accommodates','bedrooms','price_range_encoded','minimum_nights','availability_365']\n",
    "cols_for_later = ['id', 'name','longitude','latitude','price','borough']\n",
    "df_final = df.loc[:, cols_to_keep]\n",
    "df_final.head()"
   ]
  },
  {
   "cell_type": "code",
   "execution_count": 43,
   "metadata": {},
   "outputs": [
    {
     "data": {
      "text/plain": [
       "name                   0\n",
       "borough                0\n",
       "neighbourhood          0\n",
       "room_type_encoded      0\n",
       "price                  0\n",
       "bathrooms              0\n",
       "accommodates           0\n",
       "bedrooms               0\n",
       "price_range_encoded    0\n",
       "minimum_nights         0\n",
       "availability_365       0\n",
       "dtype: int64"
      ]
     },
     "execution_count": 43,
     "metadata": {},
     "output_type": "execute_result"
    }
   ],
   "source": [
    "df_final.isna().sum()"
   ]
  },
  {
   "cell_type": "code",
   "execution_count": 44,
   "metadata": {},
   "outputs": [],
   "source": [
    "df_final.to_csv('./data/listings_eda', index=False)"
   ]
  },
  {
   "cell_type": "code",
   "execution_count": 45,
   "metadata": {},
   "outputs": [],
   "source": [
    "coordinate_data = df.loc[:, cols_for_later]\n",
    "coordinate_data.to_csv('./data/coordinate_data', index=False)"
   ]
  }
 ],
 "metadata": {
  "kernelspec": {
   "display_name": "base",
   "language": "python",
   "name": "python3"
  },
  "language_info": {
   "codemirror_mode": {
    "name": "ipython",
    "version": 3
   },
   "file_extension": ".py",
   "mimetype": "text/x-python",
   "name": "python",
   "nbconvert_exporter": "python",
   "pygments_lexer": "ipython3",
   "version": "3.9.13"
  },
  "orig_nbformat": 4
 },
 "nbformat": 4,
 "nbformat_minor": 2
}
