{
 "cells": [
  {
   "attachments": {},
   "cell_type": "markdown",
   "metadata": {},
   "source": [
    "## Data Overview"
   ]
  },
  {
   "cell_type": "code",
   "execution_count": 1,
   "metadata": {},
   "outputs": [],
   "source": [
    "# importing necessary libraries\n",
    "import numpy as np\n",
    "import pandas as pd\n",
    "import matplotlib.pyplot as plt\n",
    "import seaborn as sns"
   ]
  },
  {
   "cell_type": "code",
   "execution_count": 2,
   "metadata": {},
   "outputs": [
    {
     "name": "stderr",
     "output_type": "stream",
     "text": [
      "C:\\Users\\Nizar\\AppData\\Local\\Temp\\ipykernel_17464\\3515395386.py:3: DtypeWarning: Columns (17) have mixed types. Specify dtype option on import or set low_memory=False.\n",
      "  df = pd.read_csv(\"./data/listings.csv\")\n"
     ]
    },
    {
     "data": {
      "text/plain": [
       "(41533, 18)"
      ]
     },
     "execution_count": 2,
     "metadata": {},
     "output_type": "execute_result"
    }
   ],
   "source": [
    "#data obtained from http://insideairbnb.com/get-the-data\n",
    "\n",
    "df = pd.read_csv(\"./data/listings.csv\")\n",
    "df.shape\n"
   ]
  },
  {
   "cell_type": "code",
   "execution_count": 3,
   "metadata": {},
   "outputs": [
    {
     "name": "stdout",
     "output_type": "stream",
     "text": [
      "<class 'pandas.core.frame.DataFrame'>\n",
      "RangeIndex: 41533 entries, 0 to 41532\n",
      "Data columns (total 18 columns):\n",
      " #   Column                          Non-Null Count  Dtype  \n",
      "---  ------                          --------------  -----  \n",
      " 0   id                              41533 non-null  int64  \n",
      " 1   name                            41520 non-null  object \n",
      " 2   host_id                         41533 non-null  int64  \n",
      " 3   host_name                       41528 non-null  object \n",
      " 4   neighbourhood_group             41533 non-null  object \n",
      " 5   neighbourhood                   41533 non-null  object \n",
      " 6   latitude                        41533 non-null  float64\n",
      " 7   longitude                       41533 non-null  float64\n",
      " 8   room_type                       41533 non-null  object \n",
      " 9   price                           41533 non-null  int64  \n",
      " 10  minimum_nights                  41533 non-null  int64  \n",
      " 11  number_of_reviews               41533 non-null  int64  \n",
      " 12  last_review                     32140 non-null  object \n",
      " 13  reviews_per_month               32140 non-null  float64\n",
      " 14  calculated_host_listings_count  41533 non-null  int64  \n",
      " 15  availability_365                41533 non-null  int64  \n",
      " 16  number_of_reviews_ltm           41533 non-null  int64  \n",
      " 17  license                         1 non-null      object \n",
      "dtypes: float64(3), int64(8), object(7)\n",
      "memory usage: 5.7+ MB\n"
     ]
    }
   ],
   "source": [
    "df.info()"
   ]
  },
  {
   "cell_type": "code",
   "execution_count": 4,
   "metadata": {},
   "outputs": [
    {
     "data": {
      "text/plain": [
       "license                           41532\n",
       "reviews_per_month                  9393\n",
       "last_review                        9393\n",
       "name                                 13\n",
       "host_name                             5\n",
       "minimum_nights                        0\n",
       "number_of_reviews_ltm                 0\n",
       "availability_365                      0\n",
       "calculated_host_listings_count        0\n",
       "number_of_reviews                     0\n",
       "id                                    0\n",
       "room_type                             0\n",
       "longitude                             0\n",
       "latitude                              0\n",
       "neighbourhood                         0\n",
       "neighbourhood_group                   0\n",
       "host_id                               0\n",
       "price                                 0\n",
       "dtype: int64"
      ]
     },
     "execution_count": 4,
     "metadata": {},
     "output_type": "execute_result"
    }
   ],
   "source": [
    "df.isnull().sum().sort_values(ascending=False)"
   ]
  },
  {
   "cell_type": "code",
   "execution_count": 6,
   "metadata": {},
   "outputs": [
    {
     "data": {
      "text/html": [
       "<div>\n",
       "<style scoped>\n",
       "    .dataframe tbody tr th:only-of-type {\n",
       "        vertical-align: middle;\n",
       "    }\n",
       "\n",
       "    .dataframe tbody tr th {\n",
       "        vertical-align: top;\n",
       "    }\n",
       "\n",
       "    .dataframe thead th {\n",
       "        text-align: right;\n",
       "    }\n",
       "</style>\n",
       "<table border=\"1\" class=\"dataframe\">\n",
       "  <thead>\n",
       "    <tr style=\"text-align: right;\">\n",
       "      <th>6</th>\n",
       "      <th>Field</th>\n",
       "      <th>Type</th>\n",
       "      <th>Calculated</th>\n",
       "      <th>Description</th>\n",
       "      <th>Reference</th>\n",
       "    </tr>\n",
       "  </thead>\n",
       "  <tbody>\n",
       "    <tr>\n",
       "      <th>7</th>\n",
       "      <td>id</td>\n",
       "      <td>integer</td>\n",
       "      <td>NaN</td>\n",
       "      <td>Airbnb's unique identifier for the listing</td>\n",
       "      <td>NaN</td>\n",
       "    </tr>\n",
       "    <tr>\n",
       "      <th>8</th>\n",
       "      <td>listing_url</td>\n",
       "      <td>text</td>\n",
       "      <td>y</td>\n",
       "      <td>NaN</td>\n",
       "      <td>NaN</td>\n",
       "    </tr>\n",
       "    <tr>\n",
       "      <th>9</th>\n",
       "      <td>scrape_id</td>\n",
       "      <td>bigint</td>\n",
       "      <td>y</td>\n",
       "      <td>Inside Airbnb \"Scrape\" this was part of</td>\n",
       "      <td>NaN</td>\n",
       "    </tr>\n",
       "    <tr>\n",
       "      <th>10</th>\n",
       "      <td>last_scraped</td>\n",
       "      <td>datetime</td>\n",
       "      <td>y</td>\n",
       "      <td>UTC. The date and time this listing was \"scrap...</td>\n",
       "      <td>NaN</td>\n",
       "    </tr>\n",
       "    <tr>\n",
       "      <th>11</th>\n",
       "      <td>source</td>\n",
       "      <td>text</td>\n",
       "      <td>NaN</td>\n",
       "      <td>One of \"neighbourhood search\" or \"previous scr...</td>\n",
       "      <td>NaN</td>\n",
       "    </tr>\n",
       "  </tbody>\n",
       "</table>\n",
       "</div>"
      ],
      "text/plain": [
       "6          Field      Type Calculated  \\\n",
       "7             id   integer        NaN   \n",
       "8    listing_url      text          y   \n",
       "9      scrape_id    bigint          y   \n",
       "10  last_scraped  datetime          y   \n",
       "11        source      text        NaN   \n",
       "\n",
       "6                                         Description Reference  \n",
       "7          Airbnb's unique identifier for the listing       NaN  \n",
       "8                                                 NaN       NaN  \n",
       "9             Inside Airbnb \"Scrape\" this was part of       NaN  \n",
       "10  UTC. The date and time this listing was \"scrap...       NaN  \n",
       "11  One of \"neighbourhood search\" or \"previous scr...       NaN  "
      ]
     },
     "execution_count": 6,
     "metadata": {},
     "output_type": "execute_result"
    }
   ],
   "source": [
    "# Generating a df of label descriptions\n",
    "labels_temp = pd.read_excel(\"./data/Inside Airbnb Data Dictionary.xlsx\")\n",
    "labels_clean = labels_temp.iloc[6:]\n",
    "labels_clean.columns = labels_clean.iloc[0]\n",
    "labels = labels_clean.iloc[1:]\n",
    "labels.head()"
   ]
  },
  {
   "cell_type": "code",
   "execution_count": 7,
   "metadata": {},
   "outputs": [],
   "source": [
    "# dropping useless features\n",
    "columns_to_drop = ['Calculated', 'Reference']\n",
    "labels = labels.drop(labels=columns_to_drop, axis=1)\n",
    "labels = labels.reset_index(drop=True).rename_axis(None, axis=1)"
   ]
  },
  {
   "cell_type": "code",
   "execution_count": 9,
   "metadata": {},
   "outputs": [
    {
     "data": {
      "text/html": [
       "<div>\n",
       "<style scoped>\n",
       "    .dataframe tbody tr th:only-of-type {\n",
       "        vertical-align: middle;\n",
       "    }\n",
       "\n",
       "    .dataframe tbody tr th {\n",
       "        vertical-align: top;\n",
       "    }\n",
       "\n",
       "    .dataframe thead th {\n",
       "        text-align: right;\n",
       "    }\n",
       "</style>\n",
       "<table border=\"1\" class=\"dataframe\">\n",
       "  <thead>\n",
       "    <tr style=\"text-align: right;\">\n",
       "      <th></th>\n",
       "      <th>Field</th>\n",
       "      <th>Type</th>\n",
       "      <th>Description</th>\n",
       "    </tr>\n",
       "  </thead>\n",
       "  <tbody>\n",
       "    <tr>\n",
       "      <th>0</th>\n",
       "      <td>id</td>\n",
       "      <td>integer</td>\n",
       "      <td>Airbnb's unique identifier for the listing</td>\n",
       "    </tr>\n",
       "    <tr>\n",
       "      <th>5</th>\n",
       "      <td>name</td>\n",
       "      <td>text</td>\n",
       "      <td>Name of the listing</td>\n",
       "    </tr>\n",
       "    <tr>\n",
       "      <th>9</th>\n",
       "      <td>host_id</td>\n",
       "      <td>integer</td>\n",
       "      <td>Airbnb's unique identifier for the host/user</td>\n",
       "    </tr>\n",
       "    <tr>\n",
       "      <th>11</th>\n",
       "      <td>host_name</td>\n",
       "      <td>text</td>\n",
       "      <td>Name of the host. Usually just the first name(s).</td>\n",
       "    </tr>\n",
       "    <tr>\n",
       "      <th>27</th>\n",
       "      <td>neighbourhood</td>\n",
       "      <td>text</td>\n",
       "      <td>NaN</td>\n",
       "    </tr>\n",
       "    <tr>\n",
       "      <th>30</th>\n",
       "      <td>latitude</td>\n",
       "      <td>numeric</td>\n",
       "      <td>Uses the World Geodetic System (WGS84) project...</td>\n",
       "    </tr>\n",
       "    <tr>\n",
       "      <th>31</th>\n",
       "      <td>longitude</td>\n",
       "      <td>numeric</td>\n",
       "      <td>Uses the World Geodetic System (WGS84) project...</td>\n",
       "    </tr>\n",
       "    <tr>\n",
       "      <th>33</th>\n",
       "      <td>room_type</td>\n",
       "      <td>text</td>\n",
       "      <td>[Entire home/apt|Private room|Shared room|Hote...</td>\n",
       "    </tr>\n",
       "    <tr>\n",
       "      <th>40</th>\n",
       "      <td>price</td>\n",
       "      <td>currency</td>\n",
       "      <td>daily price in local currency</td>\n",
       "    </tr>\n",
       "    <tr>\n",
       "      <th>41</th>\n",
       "      <td>minimum_nights</td>\n",
       "      <td>integer</td>\n",
       "      <td>minimum number of night stay for the listing (...</td>\n",
       "    </tr>\n",
       "    <tr>\n",
       "      <th>54</th>\n",
       "      <td>availability_365</td>\n",
       "      <td>integer</td>\n",
       "      <td>avaliability_x. The availability of the listin...</td>\n",
       "    </tr>\n",
       "    <tr>\n",
       "      <th>56</th>\n",
       "      <td>number_of_reviews</td>\n",
       "      <td>integer</td>\n",
       "      <td>The number of reviews the listing has</td>\n",
       "    </tr>\n",
       "    <tr>\n",
       "      <th>57</th>\n",
       "      <td>number_of_reviews_ltm</td>\n",
       "      <td>integer</td>\n",
       "      <td>The number of reviews the listing has (in the ...</td>\n",
       "    </tr>\n",
       "    <tr>\n",
       "      <th>60</th>\n",
       "      <td>last_review</td>\n",
       "      <td>date</td>\n",
       "      <td>The date of the last/newest review</td>\n",
       "    </tr>\n",
       "    <tr>\n",
       "      <th>68</th>\n",
       "      <td>license</td>\n",
       "      <td>text</td>\n",
       "      <td>The licence/permit/registration number</td>\n",
       "    </tr>\n",
       "    <tr>\n",
       "      <th>70</th>\n",
       "      <td>calculated_host_listings_count</td>\n",
       "      <td>integer</td>\n",
       "      <td>The number of listings the host has in the cur...</td>\n",
       "    </tr>\n",
       "    <tr>\n",
       "      <th>74</th>\n",
       "      <td>reviews_per_month</td>\n",
       "      <td>numeric</td>\n",
       "      <td>The number of reviews the listing has over the...</td>\n",
       "    </tr>\n",
       "  </tbody>\n",
       "</table>\n",
       "</div>"
      ],
      "text/plain": [
       "                             Field      Type  \\\n",
       "0                               id   integer   \n",
       "5                             name      text   \n",
       "9                          host_id   integer   \n",
       "11                       host_name      text   \n",
       "27                   neighbourhood      text   \n",
       "30                        latitude   numeric   \n",
       "31                       longitude   numeric   \n",
       "33                       room_type      text   \n",
       "40                           price  currency   \n",
       "41                  minimum_nights   integer   \n",
       "54                availability_365   integer   \n",
       "56               number_of_reviews   integer   \n",
       "57           number_of_reviews_ltm   integer   \n",
       "60                     last_review      date   \n",
       "68                         license      text   \n",
       "70  calculated_host_listings_count   integer   \n",
       "74               reviews_per_month   numeric   \n",
       "\n",
       "                                          Description  \n",
       "0          Airbnb's unique identifier for the listing  \n",
       "5                                 Name of the listing  \n",
       "9        Airbnb's unique identifier for the host/user  \n",
       "11  Name of the host. Usually just the first name(s).  \n",
       "27                                                NaN  \n",
       "30  Uses the World Geodetic System (WGS84) project...  \n",
       "31  Uses the World Geodetic System (WGS84) project...  \n",
       "33  [Entire home/apt|Private room|Shared room|Hote...  \n",
       "40                      daily price in local currency  \n",
       "41  minimum number of night stay for the listing (...  \n",
       "54  avaliability_x. The availability of the listin...  \n",
       "56              The number of reviews the listing has  \n",
       "57  The number of reviews the listing has (in the ...  \n",
       "60                 The date of the last/newest review  \n",
       "68             The licence/permit/registration number  \n",
       "70  The number of listings the host has in the cur...  \n",
       "74  The number of reviews the listing has over the...  "
      ]
     },
     "execution_count": 9,
     "metadata": {},
     "output_type": "execute_result"
    }
   ],
   "source": [
    "# filtering out the columns of interest\n",
    "features = list(df.columns)\n",
    "labels.loc[labels['Field'].isin(features)]"
   ]
  },
  {
   "attachments": {},
   "cell_type": "markdown",
   "metadata": {},
   "source": [
    "The licence information is missing and has no effect on the project so it can be dropped.\n",
    "\n",
    "There are 13 entries under the `name` field that are missing, as well as 9393 entries related to reviews. Lets insepct these to see whats missing."
   ]
  },
  {
   "cell_type": "code",
   "execution_count": null,
   "metadata": {},
   "outputs": [],
   "source": []
  },
  {
   "attachments": {},
   "cell_type": "markdown",
   "metadata": {},
   "source": [
    "## EDA"
   ]
  },
  {
   "attachments": {},
   "cell_type": "markdown",
   "metadata": {},
   "source": [
    "What are the different `room_type`?"
   ]
  },
  {
   "cell_type": "code",
   "execution_count": 11,
   "metadata": {},
   "outputs": [
    {
     "data": {
      "text/plain": [
       "array(['Entire home/apt', 'Private room', 'Hotel room', 'Shared room'],\n",
       "      dtype=object)"
      ]
     },
     "execution_count": 11,
     "metadata": {},
     "output_type": "execute_result"
    }
   ],
   "source": [
    "df.room_type.unique()"
   ]
  },
  {
   "attachments": {},
   "cell_type": "markdown",
   "metadata": {},
   "source": [
    "What `room_type` has higher price? "
   ]
  },
  {
   "cell_type": "code",
   "execution_count": 14,
   "metadata": {},
   "outputs": [
    {
     "data": {
      "text/plain": [
       "<AxesSubplot:title={'center':'price'}, xlabel='room_type'>"
      ]
     },
     "execution_count": 14,
     "metadata": {},
     "output_type": "execute_result"
    },
    {
     "data": {
      "image/png": "[encoded data removed]",
      "text/plain": [
       "<Figure size 640x480 with 1 Axes>"
      ]
     },
     "metadata": {},
     "output_type": "display_data"
    }
   ],
   "source": [
    "fig = plt.figure(figsize=(10,7))\n",
    "ax = fig.add_subplot(111)\n",
    "df.boxplot(column='price', by='room_type', rot=90, )\n",
    "ax.get"
   ]
  },
  {
   "attachments": {},
   "cell_type": "markdown",
   "metadata": {},
   "source": [
    "What are the neighborhoods?"
   ]
  },
  {
   "cell_type": "code",
   "execution_count": 15,
   "metadata": {},
   "outputs": [
    {
     "name": "stdout",
     "output_type": "stream",
     "text": [
      "['Allerton', 'Arden Heights', 'Arrochar', 'Arverne', 'Astoria', 'Bath Beach', 'Battery Park City', 'Bay Ridge', 'Bay Terrace', 'Baychester', 'Bayside', 'Bayswater', 'Bedford-Stuyvesant', 'Belle Harbor', 'Bellerose', 'Belmont', 'Bensonhurst', 'Bergen Beach', 'Boerum Hill', 'Borough Park', 'Breezy Point', 'Briarwood', 'Brighton Beach', 'Bronxdale', 'Brooklyn Heights', 'Brownsville', \"Bull's Head\", 'Bushwick', 'Cambria Heights', 'Canarsie', 'Carroll Gardens', 'Castle Hill', 'Castleton Corners', 'Chelsea', 'Chelsea, Staten Island', 'Chinatown', 'City Island', 'Civic Center', 'Claremont Village', 'Clason Point', 'Clifton', 'Clinton Hill', 'Co-op City', 'Cobble Hill', 'College Point', 'Columbia St', 'Concord', 'Concourse', 'Concourse Village', 'Coney Island', 'Corona', 'Country Club', 'Crown Heights', 'Cypress Hills', 'DUMBO', 'Ditmars Steinway', 'Dongan Hills', 'Douglaston', 'Downtown Brooklyn', 'Dyker Heights', 'East Elmhurst', 'East Flatbush', 'East Harlem', 'East Morrisania', 'East New York', 'East Village', 'Eastchester', 'Edenwald', 'Edgemere', 'Elmhurst', 'Eltingville', 'Emerson Hill', 'Far Rockaway', 'Fieldston', 'Financial District', 'Flatbush', 'Flatiron District', 'Flatlands', 'Flushing', 'Fordham', 'Forest Hills', 'Fort Greene', 'Fort Hamilton', 'Fort Wadsworth', 'Fresh Meadows', 'Gerritsen Beach', 'Glendale', 'Gowanus', 'Gramercy', 'Graniteville', 'Grant City', 'Gravesend', 'Great Kills', 'Greenpoint', 'Greenwich Village', 'Grymes Hill', 'Harlem', \"Hell's Kitchen\", 'Highbridge', 'Hollis', 'Hollis Hills', 'Holliswood', 'Howard Beach', 'Howland Hook', 'Huguenot', 'Hunts Point', 'Inwood', 'Jackson Heights', 'Jamaica', 'Jamaica Estates', 'Jamaica Hills', 'Kensington', 'Kew Gardens', 'Kew Gardens Hills', 'Kingsbridge', 'Kips Bay', 'Laurelton', 'Lighthouse Hill', 'Little Italy', 'Little Neck', 'Long Island City', 'Longwood', 'Lower East Side', 'Manhattan Beach', 'Marble Hill', 'Mariners Harbor', 'Maspeth', 'Melrose', 'Middle Village', 'Midland Beach', 'Midtown', 'Midwood', 'Mill Basin', 'Morningside Heights', 'Morris Heights', 'Morris Park', 'Morrisania', 'Mott Haven', 'Mount Eden', 'Mount Hope', 'Murray Hill', 'Navy Yard', 'Neponsit', 'New Brighton', 'New Dorp', 'New Dorp Beach', 'New Springville', 'NoHo', 'Nolita', 'North Riverdale', 'Norwood', 'Oakwood', 'Olinville', 'Ozone Park', 'Park Slope', 'Parkchester', 'Pelham Bay', 'Pelham Gardens', 'Port Morris', 'Port Richmond', \"Prince's Bay\", 'Prospect Heights', 'Prospect-Lefferts Gardens', 'Queens Village', 'Randall Manor', 'Red Hook', 'Rego Park', 'Richmond Hill', 'Richmondtown', 'Ridgewood', 'Riverdale', 'Rockaway Beach', 'Roosevelt Island', 'Rosebank', 'Rosedale', 'Schuylerville', 'Sea Gate', 'Sheepshead Bay', 'Shore Acres', 'Silver Lake', 'SoHo', 'Soundview', 'South Beach', 'South Ozone Park', 'South Slope', 'Springfield Gardens', 'Spuyten Duyvil', 'St. Albans', 'St. George', 'Stapleton', 'Stuyvesant Town', 'Sunnyside', 'Sunset Park', 'Theater District', 'Throgs Neck', 'Todt Hill', 'Tompkinsville', 'Tottenville', 'Tremont', 'Tribeca', 'Two Bridges', 'Unionport', 'University Heights', 'Upper East Side', 'Upper West Side', 'Van Nest', 'Vinegar Hill', 'Wakefield', 'Washington Heights', 'West Brighton', 'West Farms', 'West Village', 'Westchester Square', 'Westerleigh', 'Whitestone', 'Williamsbridge', 'Williamsburg', 'Willowbrook', 'Windsor Terrace', 'Woodhaven', 'Woodlawn', 'Woodrow', 'Woodside']\n"
     ]
    }
   ],
   "source": [
    "print(sorted(df.neighbourhood.unique()))"
   ]
  },
  {
   "cell_type": "code",
   "execution_count": null,
   "metadata": {},
   "outputs": [],
   "source": []
  }
 ],
 "metadata": {
  "kernelspec": {
   "display_name": "base",
   "language": "python",
   "name": "python3"
  },
  "language_info": {
   "codemirror_mode": {
    "name": "ipython",
    "version": 3
   },
   "file_extension": ".py",
   "mimetype": "text/x-python",
   "name": "python",
   "nbconvert_exporter": "python",
   "pygments_lexer": "ipython3",
   "version": "3.9.13"
  },
  "orig_nbformat": 4,
  "vscode": {
   "interpreter": {
    "hash": "fa6039ee1d63816f700dedd26717bbe012abf041cf0745e4b53f13fa995c9d2b"
   }
  }
 },
 "nbformat": 4,
 "nbformat_minor": 2
}
