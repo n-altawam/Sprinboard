{
 "cells": [
  {
   "attachments": {},
   "cell_type": "markdown",
   "metadata": {},
   "source": [
    "## Part 2: SQLite"
   ]
  },
  {
   "cell_type": "code",
   "execution_count": 1,
   "metadata": {},
   "outputs": [
    {
     "name": "stdout",
     "output_type": "stream",
     "text": [
      "(0, 'Tennis Court 1', 5, 25, 10000, 200)\n",
      "(1, 'Tennis Court 2', 5, 25, 8000, 200)\n",
      "(2, 'Badminton Court', 0, 15.5, 4000, 50)\n",
      "(3, 'Table Tennis', 0, 5, 320, 10)\n",
      "(4, 'Massage Room 1', 9.9, 80, 4000, 3000)\n",
      "(5, 'Massage Room 2', 9.9, 80, 4000, 3000)\n",
      "(6, 'Squash Court', 3.5, 17.5, 5000, 80)\n",
      "(7, 'Snooker Table', 0, 5, 450, 15)\n",
      "(8, 'Pool Table', 0, 5, 400, 15)\n"
     ]
    }
   ],
   "source": [
    "import sqlite3\n",
    "\n",
    "# Connect to the SQLite database\n",
    "conn = sqlite3.connect('./sqlite_db_pythonsqlite.db')\n",
    "\n",
    "# Create a cursor object\n",
    "cursor = conn.cursor()\n",
    "\n",
    "query1 = \"\"\"\n",
    "        SELECT *\n",
    "        FROM FACILITIES\n",
    "        \"\"\"\n",
    "\n",
    "# Execute a query and fetch the results\n",
    "cursor.execute(query1)\n",
    "rows = cursor.fetchall()\n",
    "\n",
    "# Print the results\n",
    "for row in rows:\n",
    "    print(row)\n",
    "\n",
    "# Close the cursor and the connection\n",
    "cursor.close()\n",
    "conn.close()\n"
   ]
  },
  {
   "cell_type": "code",
   "execution_count": 2,
   "metadata": {},
   "outputs": [
    {
     "name": "stdout",
     "output_type": "stream",
     "text": [
      "(0, 'Tennis Court 1', 5, 25, 10000, 200)\n",
      "(1, 'Tennis Court 2', 5, 25, 8000, 200)\n",
      "(2, 'Badminton Court', 0, 15.5, 4000, 50)\n",
      "(3, 'Table Tennis', 0, 5, 320, 10)\n",
      "(4, 'Massage Room 1', 9.9, 80, 4000, 3000)\n",
      "(5, 'Massage Room 2', 9.9, 80, 4000, 3000)\n",
      "(6, 'Squash Court', 3.5, 17.5, 5000, 80)\n",
      "(7, 'Snooker Table', 0, 5, 450, 15)\n",
      "(8, 'Pool Table', 0, 5, 400, 15)\n"
     ]
    }
   ],
   "source": [
    "# Creating a function get_query\n",
    "\n",
    "def get_query(query):\n",
    "    conn = sqlite3.connect('./sqlite_db_pythonsqlite.db')\n",
    "    cursor = conn.cursor()\n",
    "    cursor.execute(query)\n",
    "    rows = cursor.fetchall()\n",
    "    for row in rows:\n",
    "        print(row)\n",
    "    cursor.close()\n",
    "    conn.close()\n",
    "\n",
    "# Testing:\n",
    "get_query(query1)"
   ]
  },
  {
   "attachments": {},
   "cell_type": "markdown",
   "metadata": {},
   "source": [
    "## QUESTIONS:\n"
   ]
  },
  {
   "attachments": {},
   "cell_type": "markdown",
   "metadata": {},
   "source": [
    "/* Q10: Produce a list of facilities with a total revenue less than 1000.\n",
    "The output of facility name and total revenue, sorted by revenue. Remember\n",
    "that there's a different cost for guests and members! */"
   ]
  },
  {
   "cell_type": "code",
   "execution_count": 3,
   "metadata": {},
   "outputs": [
    {
     "name": "stdout",
     "output_type": "stream",
     "text": [
      "('Table Tennis', 180)\n",
      "('Snooker Table', 240)\n",
      "('Pool Table', 270)\n"
     ]
    }
   ],
   "source": [
    "query = '''\n",
    "SELECT Facilities.name AS facility_name,\n",
    "       SUM(CASE WHEN Bookings.memid = 0 THEN Bookings.slots * Facilities.guestcost\n",
    "                ELSE Bookings.slots * Facilities.membercost END) AS total_revenue\n",
    "FROM Bookings\n",
    "INNER JOIN Facilities ON Bookings.facid = Facilities.facid\n",
    "GROUP BY Facilities.name\n",
    "HAVING total_revenue < 1000\n",
    "ORDER BY total_revenue;\n",
    "'''\n",
    "\n",
    "get_query(query)"
   ]
  },
  {
   "attachments": {},
   "cell_type": "markdown",
   "metadata": {},
   "source": [
    "/* Q11: Produce a report of members and who recommended them in alphabetic surname,firstname order */"
   ]
  },
  {
   "cell_type": "code",
   "execution_count": 7,
   "metadata": {},
   "outputs": [
    {
     "name": "stdout",
     "output_type": "stream",
     "text": [
      "('Joplette, Janice', 'Smith, Darren')\n",
      "('Butters, Gerald', 'Smith, Darren')\n",
      "('Dare, Nancy', 'Joplette, Janice')\n",
      "('Boothe, Tim', 'Rownam, Tim')\n",
      "('Stibbons, Ponder', 'Tracy, Burton')\n",
      "('Owen, Charles', 'Smith, Darren')\n",
      "('Jones, David', 'Joplette, Janice')\n",
      "('Baker, Anne', 'Stibbons, Ponder')\n",
      "('Smith, Jack', 'Smith, Darren')\n",
      "('Bader, Florence', 'Stibbons, Ponder')\n",
      "('Baker, Timothy', 'Farrell, Jemima')\n",
      "('Pinker, David', 'Farrell, Jemima')\n",
      "('Genting, Matthew', 'Butters, Gerald')\n",
      "('Mackenzie, Anna', 'Smith, Darren')\n",
      "('Coplin, Joan', 'Baker, Timothy')\n",
      "('Sarwin, Ramnaresh', 'Bader, Florence')\n",
      "('Jones, Douglas', 'Jones, David')\n",
      "('Rumney, Henrietta', 'Genting, Matthew')\n",
      "('Worthington-Smyth, Henry', 'Smith, Tracy')\n",
      "('Purview, Millicent', 'Smith, Tracy')\n",
      "('Hunt, John', 'Purview, Millicent')\n",
      "('Crumpet, Erica', 'Smith, Tracy')\n"
     ]
    }
   ],
   "source": [
    "query = '''\n",
    "SELECT m1.surname || ', ' || m1.firstname AS member_name,\n",
    "       m2.surname || ', ' || m2.firstname AS recommender_name\n",
    "FROM Members m1\n",
    "INNER JOIN Members m2 ON m1.recommendedby = m2.memid\n",
    "WHERE m1.memid > 0\n",
    "ORDER BY m1.surname, m1.firstname;\n",
    "'''\n",
    "get_query(query)"
   ]
  },
  {
   "attachments": {},
   "cell_type": "markdown",
   "metadata": {},
   "source": [
    "/* Q12: Find the facilities with their usage by member, but not guests */"
   ]
  },
  {
   "cell_type": "code",
   "execution_count": 5,
   "metadata": {},
   "outputs": [
    {
     "name": "stdout",
     "output_type": "stream",
     "text": [
      "('Badminton Court', 344)\n",
      "('Massage Room 1', 421)\n",
      "('Massage Room 2', 27)\n",
      "('Pool Table', 783)\n",
      "('Snooker Table', 421)\n",
      "('Squash Court', 195)\n",
      "('Table Tennis', 385)\n",
      "('Tennis Court 1', 308)\n",
      "('Tennis Court 2', 276)\n"
     ]
    }
   ],
   "source": [
    "query = '''\n",
    "SELECT f.name AS facility_name, \n",
    "       COUNT(b.facid) AS usage_by_member \n",
    "FROM Bookings b \n",
    "INNER JOIN Facilities f ON b.facid = f.facid \n",
    "WHERE b.memid != 0 \n",
    "GROUP BY f.name;\n",
    "'''\n",
    "get_query(query)"
   ]
  },
  {
   "attachments": {},
   "cell_type": "markdown",
   "metadata": {},
   "source": [
    "/* Q13: Find the facilities usage by month, but not guests */"
   ]
  },
  {
   "cell_type": "code",
   "execution_count": 6,
   "metadata": {},
   "outputs": [
    {
     "name": "stdout",
     "output_type": "stream",
     "text": [
      "('Badminton Court', '07', 51)\n",
      "('Badminton Court', '08', 132)\n",
      "('Badminton Court', '09', 161)\n",
      "('Massage Room 1', '07', 77)\n",
      "('Massage Room 1', '08', 153)\n",
      "('Massage Room 1', '09', 191)\n",
      "('Massage Room 2', '07', 4)\n",
      "('Massage Room 2', '08', 9)\n",
      "('Massage Room 2', '09', 14)\n",
      "('Pool Table', '07', 103)\n",
      "('Pool Table', '08', 272)\n",
      "('Pool Table', '09', 408)\n",
      "('Snooker Table', '07', 68)\n",
      "('Snooker Table', '08', 154)\n",
      "('Snooker Table', '09', 199)\n",
      "('Squash Court', '07', 23)\n",
      "('Squash Court', '08', 85)\n",
      "('Squash Court', '09', 87)\n",
      "('Table Tennis', '07', 48)\n",
      "('Table Tennis', '08', 143)\n",
      "('Table Tennis', '09', 194)\n",
      "('Tennis Court 1', '07', 65)\n",
      "('Tennis Court 1', '08', 111)\n",
      "('Tennis Court 1', '09', 132)\n",
      "('Tennis Court 2', '07', 41)\n",
      "('Tennis Court 2', '08', 109)\n",
      "('Tennis Court 2', '09', 126)\n"
     ]
    }
   ],
   "source": [
    "query = '''\n",
    "SELECT f.name AS facility_name, \n",
    "       strftime('%m', b.starttime) AS month, \n",
    "       COUNT(b.facid) AS usage_by_member \n",
    "FROM Bookings b \n",
    "INNER JOIN Facilities f ON b.facid = f.facid \n",
    "WHERE b.memid != 0 \n",
    "GROUP BY f.name, month;\n",
    "'''\n",
    "\n",
    "get_query(query)"
   ]
  }
 ],
 "metadata": {
  "kernelspec": {
   "display_name": "base",
   "language": "python",
   "name": "python3"
  },
  "language_info": {
   "codemirror_mode": {
    "name": "ipython",
    "version": 3
   },
   "file_extension": ".py",
   "mimetype": "text/x-python",
   "name": "python",
   "nbconvert_exporter": "python",
   "pygments_lexer": "ipython3",
   "version": "3.9.13"
  },
  "orig_nbformat": 4,
  "vscode": {
   "interpreter": {
    "hash": "fa6039ee1d63816f700dedd26717bbe012abf041cf0745e4b53f13fa995c9d2b"
   }
  }
 },
 "nbformat": 4,
 "nbformat_minor": 2
}
